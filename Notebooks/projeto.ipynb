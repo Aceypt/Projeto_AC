{
 "cells": [
  {
   "cell_type": "markdown",
   "id": "8744c6e8",
   "metadata": {},
   "source": [
    "### Imports"
   ]
  },
  {
   "cell_type": "code",
   "execution_count": 19,
   "id": "d13786b6",
   "metadata": {},
   "outputs": [],
   "source": [
    "import pandas as pd\n",
    "import numpy as np\n",
    "import plotly.express as px\n",
    "import plotly.graph_objects as go\n",
    "from scipy import stats\n",
    "from sklearn.metrics import roc_curve, auc\n",
    "from sklearn.model_selection import train_test_split\n",
    "from sklearn.decomposition import PCA\n"
   ]
  },
  {
   "cell_type": "markdown",
   "id": "68328d54",
   "metadata": {},
   "source": [
    "### Recolha de dados"
   ]
  },
  {
   "cell_type": "code",
   "execution_count": 20,
   "id": "4f571d01",
   "metadata": {},
   "outputs": [],
   "source": [
    "# 64 patients with breast cancer and 52 healthy controls, 116 in total\n",
    "# 1 - paciente sem cancro, 2 - paciente com cancro\n",
    "\n",
    "file = pd.read_excel(\"../Data/dataR2.XLSX\")\n",
    "DataSet = pd.DataFrame(data=file.dropna()) #Remove NaN because of initial empty lines\n",
    "\n",
    "# Find the indexes where the differente class samples are located\n",
    "ixHealthy = np.where(DataSet['Classification'] == 1)\n",
    "ixWithCancer = np.where(DataSet['Classification'] == 2)\n",
    "\n",
    "# Definir classes\n",
    "Classes = [\"healthy\",\"withCancer\"]\n",
    "\n",
    "\n",
    "#DataSet['Classification'].iloc[ixHealthy] = Classes[0] \n",
    "#DataSet['Classification'].iloc[ixWithCancer] = Classes[1] \n",
    "\n",
    "#for w in DataSet.columns:\n",
    "#    for i in DataSet.columns: \n",
    "#        if w == 'Classification' or i == 'Classification' or w == i:\n",
    "#            continue\n",
    "#        fig = px.scatter_3d(x = DataSet.index, y = DataSet[w], z = DataSet[i], color = DataSet['Classification'], labels=dict(x = \"N\", y = w, z = i , color = \"Classification\"))\n",
    "#        #fig = px.scatter_3d(x = CorkStopp[\"N.1\"], y = CorkStopp[\"ARM\"],z = CorkStopp[\"PRM\"],color = CorkStopp['C'], labels=dict(x = \"N\", y = \"ARM\", color = \"Cork Stoppers\"))\n",
    "#\n",
    "#        fig.update_traces(marker_size=10)\n",
    "#        fig.show()\n",
    "\n",
    "# Partição\n",
    "x = DataSet.iloc[:, :-1] # todas menos a última coluna\n",
    "\n",
    "y = DataSet.iloc[:, -1] # apenas a última coluna\n",
    "\n",
    "\n",
    "x_train, x_testInicial, y_train, y_testInicial = train_test_split( # Partições entre train e test\n",
    "    DataSet, y,\n",
    "    test_size=0.2,       # 20% dos dados para teste\n",
    "    random_state=67,     # garante reprodutibilidade\n",
    "    shuffle=True,\n",
    "    stratify = y           # mantém a proporção das classes TODO: se calhar tirar depois\n",
    ")\n",
    "\n",
    "\n",
    "x_val, x_test, y_val, y_test = train_test_split( # Partições entre test e validation\n",
    "    x_testInicial, y_testInicial,\n",
    "    test_size=0.5,\n",
    "    random_state=67,\n",
    "    stratify=y_testInicial  # mantém a proporção das classes TODO: se calhar tirar depois\n",
    ")\n",
    "\n"
   ]
  },
  {
   "cell_type": "markdown",
   "id": "d35f7b03",
   "metadata": {},
   "source": [
    "### Relevancy test"
   ]
  },
  {
   "cell_type": "code",
   "execution_count": 21,
   "id": "3fcd0e4e",
   "metadata": {},
   "outputs": [],
   "source": [
    "# Kruskall\n",
    "\n",
    "X= x.to_numpy()\n",
    "X=X.astype(float)\n",
    "\n",
    "fnames=x.columns\n",
    "\n",
    "Hs={}\n",
    "for i in range(np.shape(X)[1]):\n",
    "    st=stats.kruskal(X[ixHealthy,i].flatten(),X[ixWithCancer,i].flatten())\n",
    "    Hs[fnames[i]]=st.statistic\n",
    "\n",
    "\n",
    "Hs = sorted(Hs.items(), key=lambda x: x[1],reverse=True)  \n",
    "\n",
    "print(\"Ranked features\")\n",
    "\n",
    "for f in Hs:\n",
    "    print(f[0]+\"-->\"+str(f[1]))\n",
    "\n",
    "#print(X)\n"
   ]
  },
  {
   "cell_type": "markdown",
   "id": "a60abb3e",
   "metadata": {},
   "source": [
    "### Redundancy test"
   ]
  },
  {
   "cell_type": "code",
   "execution_count": 22,
   "id": "99bf1942",
   "metadata": {},
   "outputs": [],
   "source": [
    "\n",
    "# X = np.array([x[h[0]] for h in Hs])\n",
    "\n",
    "# # Nomes das features\n",
    "# labels = [h[0] for h in Hs]\n",
    "\n",
    "# corrMat=np.corrcoef(X)\n",
    "# fig = px.imshow(corrMat, text_auto=True,labels=dict(x=\"Features\", y=\"Features\", color=\"Correlation\"),\n",
    "#                 x=labels,\n",
    "#                 y=labels,\n",
    "#                 width=800, height=800,color_continuous_scale=px.colors.sequential.gray)\n",
    "# fig.show()\n",
    "\n",
    "\n",
    "firstFive = Hs[:]\n",
    "corr = x[[f[0] for f in firstFive]].corr()\n",
    "print(corr)\n",
    "\n",
    "\n",
    "# HOMA - Insulin 0.932 Muito alta -> redundância clara\n"
   ]
  },
  {
   "cell_type": "code",
   "execution_count": 23,
   "id": "10578223",
   "metadata": {},
   "outputs": [],
   "source": [
    "ixHealthCancer=np.concatenate((ixHealthy[0],ixWithCancer[0]))\n",
    "y=DataSet['Classification'].to_numpy()[ixHealthCancer]\n",
    "\n",
    "\n",
    "roc_auc=np.zeros(fnames.shape)\n",
    "i=0\n",
    "for f in fnames:#Go along features\n",
    "    fpr, tpr, _= roc_curve(y,DataSet[f].to_numpy()[ixHealthCancer],pos_label=2)\n",
    "    \n",
    "    figR = go.Figure()\n",
    "    figR.add_scatter(x=fpr, y=tpr,mode='lines+markers')\n",
    "    figR.update_layout(autosize=False,width=700,height=700,title=dict(text=f))\n",
    "    figR.update_xaxes(title_text=\"1-SP\",range=[-0.01, 1.01])\n",
    "    figR.update_yaxes(title_text=\"SS\",range=[-0.01, 1.01])\n",
    "    \n",
    "\n",
    "    roc_auc[i] = auc(fpr, tpr)#Compute area under the ROC curve\n",
    "    \n",
    "    figR.add_annotation(x=0.5, y=0.5,\n",
    "            text=\"AUC: \"+str(roc_auc[i]),\n",
    "            showarrow=False,\n",
    "            yshift=10)\n",
    "    figR.show()\n",
    "    i=i+1\n",
    "\n",
    "sortIx=np.flip(np.argsort(roc_auc))#Sort using AUC\n",
    "print(\"Sorting accourding to ROC-AUC:\")\n",
    "for i in sortIx:\n",
    "    print(fnames[i]+\"-->\"+str(roc_auc[i]))\n",
    "print(\"\\n\")\n",
    "print(\"Sorting accourding to Kruskall-Wallis:\")\n",
    "\n",
    "for f in Hs:\n",
    "    print(f[0]+\"-->\"+str(f[1]))"
   ]
  },
  {
   "cell_type": "code",
   "execution_count": null,
   "id": "4f26b546",
   "metadata": {},
   "outputs": [
    {
     "name": "stdout",
     "output_type": "stream",
     "text": [
      "Variance (%) retained accourding to Kaiser: 60.37919453787023\n",
      "Variance (%) retained accourding to Scree: 98.18229226049868\n",
      "(116, 1)\n"
     ]
    },
    {
     "data": {
      "application/vnd.plotly.v1+json": {
       "config": {
        "plotlyServerURL": "https://plot.ly"
       },
       "data": [
        {
         "hovertemplate": "Classification=Healthy<br>PC1=%{x}<br>=%{y}<extra></extra>",
         "legendgroup": "Healthy",
         "marker": {
          "color": "#636efa",
          "size": 8,
          "symbol": "circle"
         },
         "mode": "markers",
         "name": "Healthy",
         "orientation": "v",
         "showlegend": true,
         "type": "scatter",
         "x": [
          -1.9927846457709772,
          -1.3288300177757442,
          -1.21724388561513,
          -1.199202573856873,
          -0.8984673623538884,
          -1.5273049578264404,
          -0.6284434784043635,
          -0.7958832792613197,
          -1.6125801597729763,
          -1.3778658369350862,
          -2.0468188572002926,
          -1.9313002937041281,
          -2.153080600230041,
          -2.3442011773203855,
          -2.015239519577113,
          -1.9316019743003943,
          -2.4608631690521774,
          0.5589976710679718,
          -0.47945502877572643,
          0.8958742212860021,
          -1.1233689482623719,
          -0.7185564039750864,
          0.2955437395148647,
          -0.3617889041675151,
          -0.25195536359107795,
          0.05871948276606521,
          1.082891529443308,
          0.9435913749488601,
          0.535071475916146,
          -0.607972964480194,
          2.3033524333092465,
          0.27215584584234404,
          0.6993631549243383,
          1.2418075102577733,
          -1.0703264946398836,
          -0.6671643167570678,
          -0.7784393479025621,
          2.5872655461805087,
          -0.1727953498225013,
          -0.30747350017532793,
          -0.4074018657894072,
          0.22949993537986574,
          -1.1214146558342757,
          -0.6491015473078241,
          0.2610193395062281,
          -0.8167625091968828,
          0.13722062536903523,
          -2.108330506905863,
          -0.09963177077944554,
          -0.9488764508161098,
          1.2220105656397982,
          -0.9753686811296903
         ],
         "xaxis": "x",
         "y": [
          0,
          0,
          0,
          0,
          0,
          0,
          0,
          0,
          0,
          0,
          0,
          0,
          0,
          0,
          0,
          0,
          0,
          0,
          0,
          0,
          0,
          0,
          0,
          0,
          0,
          0,
          0,
          0,
          0,
          0,
          0,
          0,
          0,
          0,
          0,
          0,
          0,
          0,
          0,
          0,
          0,
          0,
          0,
          0,
          0,
          0,
          0,
          0,
          0,
          0,
          0,
          0
         ],
         "yaxis": "y"
        },
        {
         "hovertemplate": "Classification=With Cancer<br>PC1=%{x}<br>=%{y}<extra></extra>",
         "legendgroup": "With Cancer",
         "marker": {
          "color": "#EF553B",
          "size": 8,
          "symbol": "circle"
         },
         "mode": "markers",
         "name": "With Cancer",
         "orientation": "v",
         "showlegend": true,
         "type": "scatter",
         "x": [
          -0.46462041174090163,
          -1.494091473614814,
          -0.36243052437368795,
          -0.21387578702521584,
          -1.3041736072929984,
          -0.835127466959496,
          -1.7595334910442768,
          -1.1659677233400074,
          -1.2819922732333797,
          0.200825759086225,
          -1.2542437867434637,
          -1.2889115589529363,
          -0.8445707162966558,
          -0.6009386630001431,
          -1.1416223151629061,
          -0.8279165772727408,
          -1.8383695683219643,
          -0.6586078731021645,
          -2.0443980411854765,
          3.0401712159630434,
          -1.3570064474398258,
          -1.1646676672924954,
          0.6467785520354944,
          -0.05028085483204827,
          0.490050550174102,
          0.3589904399980013,
          7.600432272515162,
          1.4066638968505274,
          -0.583024409167562,
          0.8399103200258118,
          1.7130782723034663,
          1.1413658661289658,
          0.5902633740277897,
          1.2147743413702419,
          -0.11844797913561902,
          9.185385808756152,
          4.395873390799938,
          1.7952250181556821,
          3.7898356074196915,
          1.5742163245589218,
          1.857553974031617,
          2.4527713421241892,
          2.772791481892304,
          -0.13166683476846266,
          -0.18732809027039685,
          -0.6957090099154372,
          2.1409327434987033,
          0.05916505141543916,
          -0.3407419933594371,
          -0.8342544907878793,
          0.7091572225610686,
          -0.14661517865458065,
          0.7589377728262856,
          1.4593130293392689,
          -0.4883522902475308,
          -0.7727635394462311,
          0.3734117863791021,
          1.23542615547343,
          1.7113571579789544,
          -0.6510956399090224,
          -1.2670582739319463,
          -0.06403509440590022,
          -1.8986294655967455,
          2.42192233804856
         ],
         "xaxis": "x",
         "y": [
          0,
          0,
          0,
          0,
          0,
          0,
          0,
          0,
          0,
          0,
          0,
          0,
          0,
          0,
          0,
          0,
          0,
          0,
          0,
          0,
          0,
          0,
          0,
          0,
          0,
          0,
          0,
          0,
          0,
          0,
          0,
          0,
          0,
          0,
          0,
          0,
          0,
          0,
          0,
          0,
          0,
          0,
          0,
          0,
          0,
          0,
          0,
          0,
          0,
          0,
          0,
          0,
          0,
          0,
          0,
          0,
          0,
          0,
          0,
          0,
          0,
          0,
          0,
          0
         ],
         "yaxis": "y"
        }
       ],
       "layout": {
        "legend": {
         "title": {
          "text": "Classification"
         },
         "tracegroupgap": 0
        },
        "margin": {
         "t": 60
        },
        "template": {
         "data": {
          "bar": [
           {
            "error_x": {
             "color": "#2a3f5f"
            },
            "error_y": {
             "color": "#2a3f5f"
            },
            "marker": {
             "line": {
              "color": "#E5ECF6",
              "width": 0.5
             },
             "pattern": {
              "fillmode": "overlay",
              "size": 10,
              "solidity": 0.2
             }
            },
            "type": "bar"
           }
          ],
          "barpolar": [
           {
            "marker": {
             "line": {
              "color": "#E5ECF6",
              "width": 0.5
             },
             "pattern": {
              "fillmode": "overlay",
              "size": 10,
              "solidity": 0.2
             }
            },
            "type": "barpolar"
           }
          ],
          "carpet": [
           {
            "aaxis": {
             "endlinecolor": "#2a3f5f",
             "gridcolor": "white",
             "linecolor": "white",
             "minorgridcolor": "white",
             "startlinecolor": "#2a3f5f"
            },
            "baxis": {
             "endlinecolor": "#2a3f5f",
             "gridcolor": "white",
             "linecolor": "white",
             "minorgridcolor": "white",
             "startlinecolor": "#2a3f5f"
            },
            "type": "carpet"
           }
          ],
          "choropleth": [
           {
            "colorbar": {
             "outlinewidth": 0,
             "ticks": ""
            },
            "type": "choropleth"
           }
          ],
          "contour": [
           {
            "colorbar": {
             "outlinewidth": 0,
             "ticks": ""
            },
            "colorscale": [
             [
              0,
              "#0d0887"
             ],
             [
              0.1111111111111111,
              "#46039f"
             ],
             [
              0.2222222222222222,
              "#7201a8"
             ],
             [
              0.3333333333333333,
              "#9c179e"
             ],
             [
              0.4444444444444444,
              "#bd3786"
             ],
             [
              0.5555555555555556,
              "#d8576b"
             ],
             [
              0.6666666666666666,
              "#ed7953"
             ],
             [
              0.7777777777777778,
              "#fb9f3a"
             ],
             [
              0.8888888888888888,
              "#fdca26"
             ],
             [
              1,
              "#f0f921"
             ]
            ],
            "type": "contour"
           }
          ],
          "contourcarpet": [
           {
            "colorbar": {
             "outlinewidth": 0,
             "ticks": ""
            },
            "type": "contourcarpet"
           }
          ],
          "heatmap": [
           {
            "colorbar": {
             "outlinewidth": 0,
             "ticks": ""
            },
            "colorscale": [
             [
              0,
              "#0d0887"
             ],
             [
              0.1111111111111111,
              "#46039f"
             ],
             [
              0.2222222222222222,
              "#7201a8"
             ],
             [
              0.3333333333333333,
              "#9c179e"
             ],
             [
              0.4444444444444444,
              "#bd3786"
             ],
             [
              0.5555555555555556,
              "#d8576b"
             ],
             [
              0.6666666666666666,
              "#ed7953"
             ],
             [
              0.7777777777777778,
              "#fb9f3a"
             ],
             [
              0.8888888888888888,
              "#fdca26"
             ],
             [
              1,
              "#f0f921"
             ]
            ],
            "type": "heatmap"
           }
          ],
          "heatmapgl": [
           {
            "colorbar": {
             "outlinewidth": 0,
             "ticks": ""
            },
            "colorscale": [
             [
              0,
              "#0d0887"
             ],
             [
              0.1111111111111111,
              "#46039f"
             ],
             [
              0.2222222222222222,
              "#7201a8"
             ],
             [
              0.3333333333333333,
              "#9c179e"
             ],
             [
              0.4444444444444444,
              "#bd3786"
             ],
             [
              0.5555555555555556,
              "#d8576b"
             ],
             [
              0.6666666666666666,
              "#ed7953"
             ],
             [
              0.7777777777777778,
              "#fb9f3a"
             ],
             [
              0.8888888888888888,
              "#fdca26"
             ],
             [
              1,
              "#f0f921"
             ]
            ],
            "type": "heatmapgl"
           }
          ],
          "histogram": [
           {
            "marker": {
             "pattern": {
              "fillmode": "overlay",
              "size": 10,
              "solidity": 0.2
             }
            },
            "type": "histogram"
           }
          ],
          "histogram2d": [
           {
            "colorbar": {
             "outlinewidth": 0,
             "ticks": ""
            },
            "colorscale": [
             [
              0,
              "#0d0887"
             ],
             [
              0.1111111111111111,
              "#46039f"
             ],
             [
              0.2222222222222222,
              "#7201a8"
             ],
             [
              0.3333333333333333,
              "#9c179e"
             ],
             [
              0.4444444444444444,
              "#bd3786"
             ],
             [
              0.5555555555555556,
              "#d8576b"
             ],
             [
              0.6666666666666666,
              "#ed7953"
             ],
             [
              0.7777777777777778,
              "#fb9f3a"
             ],
             [
              0.8888888888888888,
              "#fdca26"
             ],
             [
              1,
              "#f0f921"
             ]
            ],
            "type": "histogram2d"
           }
          ],
          "histogram2dcontour": [
           {
            "colorbar": {
             "outlinewidth": 0,
             "ticks": ""
            },
            "colorscale": [
             [
              0,
              "#0d0887"
             ],
             [
              0.1111111111111111,
              "#46039f"
             ],
             [
              0.2222222222222222,
              "#7201a8"
             ],
             [
              0.3333333333333333,
              "#9c179e"
             ],
             [
              0.4444444444444444,
              "#bd3786"
             ],
             [
              0.5555555555555556,
              "#d8576b"
             ],
             [
              0.6666666666666666,
              "#ed7953"
             ],
             [
              0.7777777777777778,
              "#fb9f3a"
             ],
             [
              0.8888888888888888,
              "#fdca26"
             ],
             [
              1,
              "#f0f921"
             ]
            ],
            "type": "histogram2dcontour"
           }
          ],
          "mesh3d": [
           {
            "colorbar": {
             "outlinewidth": 0,
             "ticks": ""
            },
            "type": "mesh3d"
           }
          ],
          "parcoords": [
           {
            "line": {
             "colorbar": {
              "outlinewidth": 0,
              "ticks": ""
             }
            },
            "type": "parcoords"
           }
          ],
          "pie": [
           {
            "automargin": true,
            "type": "pie"
           }
          ],
          "scatter": [
           {
            "fillpattern": {
             "fillmode": "overlay",
             "size": 10,
             "solidity": 0.2
            },
            "type": "scatter"
           }
          ],
          "scatter3d": [
           {
            "line": {
             "colorbar": {
              "outlinewidth": 0,
              "ticks": ""
             }
            },
            "marker": {
             "colorbar": {
              "outlinewidth": 0,
              "ticks": ""
             }
            },
            "type": "scatter3d"
           }
          ],
          "scattercarpet": [
           {
            "marker": {
             "colorbar": {
              "outlinewidth": 0,
              "ticks": ""
             }
            },
            "type": "scattercarpet"
           }
          ],
          "scattergeo": [
           {
            "marker": {
             "colorbar": {
              "outlinewidth": 0,
              "ticks": ""
             }
            },
            "type": "scattergeo"
           }
          ],
          "scattergl": [
           {
            "marker": {
             "colorbar": {
              "outlinewidth": 0,
              "ticks": ""
             }
            },
            "type": "scattergl"
           }
          ],
          "scattermapbox": [
           {
            "marker": {
             "colorbar": {
              "outlinewidth": 0,
              "ticks": ""
             }
            },
            "type": "scattermapbox"
           }
          ],
          "scatterpolar": [
           {
            "marker": {
             "colorbar": {
              "outlinewidth": 0,
              "ticks": ""
             }
            },
            "type": "scatterpolar"
           }
          ],
          "scatterpolargl": [
           {
            "marker": {
             "colorbar": {
              "outlinewidth": 0,
              "ticks": ""
             }
            },
            "type": "scatterpolargl"
           }
          ],
          "scatterternary": [
           {
            "marker": {
             "colorbar": {
              "outlinewidth": 0,
              "ticks": ""
             }
            },
            "type": "scatterternary"
           }
          ],
          "surface": [
           {
            "colorbar": {
             "outlinewidth": 0,
             "ticks": ""
            },
            "colorscale": [
             [
              0,
              "#0d0887"
             ],
             [
              0.1111111111111111,
              "#46039f"
             ],
             [
              0.2222222222222222,
              "#7201a8"
             ],
             [
              0.3333333333333333,
              "#9c179e"
             ],
             [
              0.4444444444444444,
              "#bd3786"
             ],
             [
              0.5555555555555556,
              "#d8576b"
             ],
             [
              0.6666666666666666,
              "#ed7953"
             ],
             [
              0.7777777777777778,
              "#fb9f3a"
             ],
             [
              0.8888888888888888,
              "#fdca26"
             ],
             [
              1,
              "#f0f921"
             ]
            ],
            "type": "surface"
           }
          ],
          "table": [
           {
            "cells": {
             "fill": {
              "color": "#EBF0F8"
             },
             "line": {
              "color": "white"
             }
            },
            "header": {
             "fill": {
              "color": "#C8D4E3"
             },
             "line": {
              "color": "white"
             }
            },
            "type": "table"
           }
          ]
         },
         "layout": {
          "annotationdefaults": {
           "arrowcolor": "#2a3f5f",
           "arrowhead": 0,
           "arrowwidth": 1
          },
          "autotypenumbers": "strict",
          "coloraxis": {
           "colorbar": {
            "outlinewidth": 0,
            "ticks": ""
           }
          },
          "colorscale": {
           "diverging": [
            [
             0,
             "#8e0152"
            ],
            [
             0.1,
             "#c51b7d"
            ],
            [
             0.2,
             "#de77ae"
            ],
            [
             0.3,
             "#f1b6da"
            ],
            [
             0.4,
             "#fde0ef"
            ],
            [
             0.5,
             "#f7f7f7"
            ],
            [
             0.6,
             "#e6f5d0"
            ],
            [
             0.7,
             "#b8e186"
            ],
            [
             0.8,
             "#7fbc41"
            ],
            [
             0.9,
             "#4d9221"
            ],
            [
             1,
             "#276419"
            ]
           ],
           "sequential": [
            [
             0,
             "#0d0887"
            ],
            [
             0.1111111111111111,
             "#46039f"
            ],
            [
             0.2222222222222222,
             "#7201a8"
            ],
            [
             0.3333333333333333,
             "#9c179e"
            ],
            [
             0.4444444444444444,
             "#bd3786"
            ],
            [
             0.5555555555555556,
             "#d8576b"
            ],
            [
             0.6666666666666666,
             "#ed7953"
            ],
            [
             0.7777777777777778,
             "#fb9f3a"
            ],
            [
             0.8888888888888888,
             "#fdca26"
            ],
            [
             1,
             "#f0f921"
            ]
           ],
           "sequentialminus": [
            [
             0,
             "#0d0887"
            ],
            [
             0.1111111111111111,
             "#46039f"
            ],
            [
             0.2222222222222222,
             "#7201a8"
            ],
            [
             0.3333333333333333,
             "#9c179e"
            ],
            [
             0.4444444444444444,
             "#bd3786"
            ],
            [
             0.5555555555555556,
             "#d8576b"
            ],
            [
             0.6666666666666666,
             "#ed7953"
            ],
            [
             0.7777777777777778,
             "#fb9f3a"
            ],
            [
             0.8888888888888888,
             "#fdca26"
            ],
            [
             1,
             "#f0f921"
            ]
           ]
          },
          "colorway": [
           "#636efa",
           "#EF553B",
           "#00cc96",
           "#ab63fa",
           "#FFA15A",
           "#19d3f3",
           "#FF6692",
           "#B6E880",
           "#FF97FF",
           "#FECB52"
          ],
          "font": {
           "color": "#2a3f5f"
          },
          "geo": {
           "bgcolor": "white",
           "lakecolor": "white",
           "landcolor": "#E5ECF6",
           "showlakes": true,
           "showland": true,
           "subunitcolor": "white"
          },
          "hoverlabel": {
           "align": "left"
          },
          "hovermode": "closest",
          "mapbox": {
           "style": "light"
          },
          "paper_bgcolor": "white",
          "plot_bgcolor": "#E5ECF6",
          "polar": {
           "angularaxis": {
            "gridcolor": "white",
            "linecolor": "white",
            "ticks": ""
           },
           "bgcolor": "#E5ECF6",
           "radialaxis": {
            "gridcolor": "white",
            "linecolor": "white",
            "ticks": ""
           }
          },
          "scene": {
           "xaxis": {
            "backgroundcolor": "#E5ECF6",
            "gridcolor": "white",
            "gridwidth": 2,
            "linecolor": "white",
            "showbackground": true,
            "ticks": "",
            "zerolinecolor": "white"
           },
           "yaxis": {
            "backgroundcolor": "#E5ECF6",
            "gridcolor": "white",
            "gridwidth": 2,
            "linecolor": "white",
            "showbackground": true,
            "ticks": "",
            "zerolinecolor": "white"
           },
           "zaxis": {
            "backgroundcolor": "#E5ECF6",
            "gridcolor": "white",
            "gridwidth": 2,
            "linecolor": "white",
            "showbackground": true,
            "ticks": "",
            "zerolinecolor": "white"
           }
          },
          "shapedefaults": {
           "line": {
            "color": "#2a3f5f"
           }
          },
          "ternary": {
           "aaxis": {
            "gridcolor": "white",
            "linecolor": "white",
            "ticks": ""
           },
           "baxis": {
            "gridcolor": "white",
            "linecolor": "white",
            "ticks": ""
           },
           "bgcolor": "#E5ECF6",
           "caxis": {
            "gridcolor": "white",
            "linecolor": "white",
            "ticks": ""
           }
          },
          "title": {
           "x": 0.05
          },
          "xaxis": {
           "automargin": true,
           "gridcolor": "white",
           "linecolor": "white",
           "ticks": "",
           "title": {
            "standoff": 15
           },
           "zerolinecolor": "white",
           "zerolinewidth": 2
          },
          "yaxis": {
           "automargin": true,
           "gridcolor": "white",
           "linecolor": "white",
           "ticks": "",
           "title": {
            "standoff": 15
           },
           "zerolinecolor": "white",
           "zerolinewidth": 2
          }
         }
        },
        "xaxis": {
         "anchor": "y",
         "domain": [
          0,
          1
         ],
         "title": {
          "text": "PC1"
         }
        },
        "yaxis": {
         "anchor": "x",
         "domain": [
          0,
          1
         ],
         "title": {
          "text": ""
         }
        }
       }
      }
     },
     "metadata": {},
     "output_type": "display_data"
    }
   ],
   "source": [
    "#Normalize\n",
    "X=(x-np.mean(x,axis=0))/np.std(x,axis=0)\n",
    "\n",
    "pca = PCA()\n",
    "pca.fit(X)\n",
    "# #PCA eigenvalues/Explained variance\n",
    "# print(\"PCA eigenvalues/Explained variance\")\n",
    "# print(pca.explained_variance_)\n",
    "# print(\"Sum of eigenvalues=\"+str(np.sum(pca.explained_variance_)))\n",
    "# #PCA eigenvectors/Principal components\n",
    "# print(\"PCA eigenvectors/Principal components\")\n",
    "# W=pca.components_.T\n",
    "# print(W)\n",
    "\n",
    "print(\"Variance (%) retained accourding to Kaiser: \"+str(pca.explained_variance_[0]**2/(np.sum(pca.explained_variance_**2))*100))\n",
    "print(\"Variance (%) retained accourding to Scree: \"+str(np.sum(pca.explained_variance_[0:6]**2)/(np.sum(pca.explained_variance_**2))*100))\n",
    "\n",
    "\n",
    "pca2=PCA(n_components=1)\n",
    "\n",
    "X1D=pca2.fit_transform(X)\n",
    "#print(np.shape(X1D))\n",
    "\n",
    "#Plot projected data\n",
    "fig = px.scatter(x=X1D[:, 0],y=np.zeros(np.shape(X1D)[0]),color=DataSet['Classification'].replace({1: \"Healthy\", 2: \"With Cancer\"}),labels=dict(x=\"PC1\", y=\"\", color=\"Classification\"))\n",
    "\n",
    "fig.update_traces(marker_size=8)\n",
    "fig.update_xaxes\n",
    "fig.show()\n",
    "\n"
   ]
  }
 ],
 "metadata": {
  "kernelspec": {
   "display_name": "base",
   "language": "python",
   "name": "python3"
  },
  "language_info": {
   "codemirror_mode": {
    "name": "ipython",
    "version": 3
   },
   "file_extension": ".py",
   "mimetype": "text/x-python",
   "name": "python",
   "nbconvert_exporter": "python",
   "pygments_lexer": "ipython3",
   "version": "3.10.13"
  }
 },
 "nbformat": 4,
 "nbformat_minor": 5
}
