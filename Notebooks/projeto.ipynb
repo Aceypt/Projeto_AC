{
 "cells": [
  {
   "cell_type": "markdown",
   "id": "8744c6e8",
   "metadata": {},
   "source": [
    "### 1. Imports"
   ]
  },
  {
   "cell_type": "code",
   "execution_count": 240,
   "id": "d13786b6",
   "metadata": {},
   "outputs": [],
   "source": [
    "import pandas as pd\n",
    "import numpy as np\n",
    "import plotly.express as px\n",
    "import plotly.graph_objects as go\n",
    "from scipy import stats\n",
    "from sklearn.metrics import roc_curve, auc\n",
    "from sklearn.model_selection import train_test_split\n",
    "from sklearn.decomposition import PCA\n",
    "from sklearn.discriminant_analysis import LinearDiscriminantAnalysis\n"
   ]
  },
  {
   "cell_type": "markdown",
   "id": "68328d54",
   "metadata": {},
   "source": [
    "### 2. Recolha de dados"
   ]
  },
  {
   "cell_type": "code",
   "execution_count": 241,
   "id": "4f571d01",
   "metadata": {},
   "outputs": [
    {
     "name": "stdout",
     "output_type": "stream",
     "text": [
      "Shape: (116, 9)\n",
      "\n",
      "Class balance:\n",
      "Classification\n",
      "With Cancer    64\n",
      "Healthy        52\n",
      "Name: count, dtype: int64\n"
     ]
    }
   ],
   "source": [
    "# 64 patients with breast cancer and 52 healthy controls, 116 in total\n",
    "# 1 - paciente sem cancro, 2 - paciente com cancro\n",
    "\n",
    "file = pd.read_excel(\"../Data/dataR2.XLSX\")\n",
    "DataSet = pd.DataFrame(data=file.dropna()) #Remove NaN because of initial empty lines\n",
    "\n",
    "ixHealthy = np.where(DataSet['Classification'] == 1)\n",
    "ixWithCancer = np.where(DataSet['Classification'] == 2)\n",
    "\n",
    "x = DataSet.iloc[:, :-1] # todas menos a última coluna\n",
    "y = DataSet.iloc[:, -1] # apenas a última coluna\n",
    "\n",
    "print(\"Shape:\", X.shape)\n",
    "print(\"\\nClass balance:\")\n",
    "print(y.value_counts().rename({1:\"Healthy\", 2:\"With Cancer\"}))\n"
   ]
  },
  {
   "cell_type": "markdown",
   "id": "1741b842",
   "metadata": {},
   "source": [
    "### 3. Data partitioning (Train / Validation / Test)"
   ]
  },
  {
   "cell_type": "code",
   "execution_count": 242,
   "id": "18c8674c",
   "metadata": {},
   "outputs": [
    {
     "name": "stdout",
     "output_type": "stream",
     "text": [
      "Train: (92, 9) Val: (12, 9) Test: (12, 9)\n"
     ]
    }
   ],
   "source": [
    "x_train, x_temp, y_train, y_temp = train_test_split( # Partições entre train e test\n",
    "    x, y,\n",
    "    test_size=0.2,       # 20% dos dados para teste\n",
    "    random_state=67,     # garante reprodutibilidade (seed)\n",
    "    shuffle=True,\n",
    "    stratify = y           # mantém a proporção das classes\n",
    ")\n",
    "\n",
    "x_val, x_test, y_val, y_test = train_test_split( # Partições entre test e validation\n",
    "    x_temp, y_temp,\n",
    "    test_size=0.5,\n",
    "    random_state=67,\n",
    "    stratify=y_temp  # mantém a proporção das classes\n",
    ")\n",
    "\n",
    "ixHealthyTrain = np.where(y_train == 1)\n",
    "ixWithCancerTrain = np.where(y_train == 2)\n",
    "\n",
    "print(\"Train:\", x_train.shape, \"Val:\", x_val.shape, \"Test:\", x_test.shape)"
   ]
  },
  {
   "cell_type": "markdown",
   "id": "d35f7b03",
   "metadata": {},
   "source": [
    "### 4. Relevancy test"
   ]
  },
  {
   "cell_type": "code",
   "execution_count": 243,
   "id": "3fcd0e4e",
   "metadata": {},
   "outputs": [
    {
     "name": "stdout",
     "output_type": "stream",
     "text": [
      "Ranked features\n",
      "Glucose-->23.91957997825514\n",
      "Resistin-->9.699241863905343\n",
      "HOMA-->8.887111686390483\n",
      "Insulin-->4.931023337417101\n",
      "BMI-->1.6374345259560847\n",
      "Age-->0.5053505863773902\n",
      "MCP.1-->0.4512315968813051\n",
      "Adiponectin-->0.08986720937572039\n",
      "Leptin-->0.004437869822481844\n"
     ]
    }
   ],
   "source": [
    "# Kruskall\n",
    "\n",
    "X= x.to_numpy()\n",
    "X=X.astype(float)\n",
    "\n",
    "fnames=x.columns\n",
    "\n",
    "Hs={}\n",
    "for i in range(np.shape(X)[1]):\n",
    "    st=stats.kruskal(X[ixHealthy,i].flatten(),X[ixWithCancer,i].flatten())\n",
    "    Hs[fnames[i]]=st.statistic\n",
    "\n",
    "\n",
    "Hs = sorted(Hs.items(), key=lambda x: x[1],reverse=True)  \n",
    "\n",
    "print(\"Ranked features\")\n",
    "\n",
    "for f in Hs:\n",
    "    print(f[0]+\"-->\"+str(f[1]))\n"
   ]
  },
  {
   "cell_type": "code",
   "execution_count": 244,
   "id": "10578223",
   "metadata": {},
   "outputs": [
    {
     "name": "stdout",
     "output_type": "stream",
     "text": [
      "Sorting accourding to ROC-AUC:\n",
      "Glucose-->0.7645733173076923\n",
      "Resistin-->0.6685697115384615\n",
      "HOMA-->0.661358173076923\n",
      "Insulin-->0.6201923076923077\n",
      "MCP.1-->0.5363581730769231\n",
      "Adiponectin-->0.5162259615384616\n",
      "Leptin-->0.5036057692307693\n",
      "Age-->0.4615384615384615\n",
      "BMI-->0.43073918269230765\n",
      "\n",
      "\n",
      "Sorting accourding to Kruskall-Wallis:\n",
      "Glucose-->23.91957997825514\n",
      "Resistin-->9.699241863905343\n",
      "HOMA-->8.887111686390483\n",
      "Insulin-->4.931023337417101\n",
      "BMI-->1.6374345259560847\n",
      "Age-->0.5053505863773902\n",
      "MCP.1-->0.4512315968813051\n",
      "Adiponectin-->0.08986720937572039\n",
      "Leptin-->0.004437869822481844\n"
     ]
    }
   ],
   "source": [
    "ixHealthCancer=np.concatenate((ixHealthy[0],ixWithCancer[0]))\n",
    "y=DataSet['Classification'].to_numpy()[ixHealthCancer]\n",
    "\n",
    "\n",
    "roc_auc=np.zeros(fnames.shape)\n",
    "i=0\n",
    "for f in fnames:#Go along features\n",
    "    fpr, tpr, _= roc_curve(y,DataSet[f].to_numpy()[ixHealthCancer],pos_label=2)\n",
    "    \n",
    "#    figR = go.Figure()\n",
    "#    figR.add_scatter(x=fpr, y=tpr,mode='lines+markers')\n",
    "#    figR.update_layout(autosize=False,width=700,height=700,title=dict(text=f))\n",
    "#    figR.update_xaxes(title_text=\"1-SP\",range=[-0.01, 1.01])\n",
    "#    figR.update_yaxes(title_text=\"SS\",range=[-0.01, 1.01])\n",
    "    \n",
    "\n",
    "    roc_auc[i] = auc(fpr, tpr)#Compute area under the ROC curve\n",
    "    \n",
    "#    figR.add_annotation(x=0.5, y=0.5,\n",
    "#            text=\"AUC: \"+str(roc_auc[i]),\n",
    "#            showarrow=False,\n",
    "#            yshift=10)\n",
    "#    figR.show()\n",
    "    i=i+1\n",
    "\n",
    "sortIx=np.flip(np.argsort(roc_auc))#Sort using AUC\n",
    "print(\"Sorting accourding to ROC-AUC:\")\n",
    "for i in sortIx:\n",
    "    print(fnames[i]+\"-->\"+str(roc_auc[i]))\n",
    "print(\"\\n\")\n",
    "print(\"Sorting accourding to Kruskall-Wallis:\")\n",
    "\n",
    "for f in Hs:\n",
    "    print(f[0]+\"-->\"+str(f[1]))"
   ]
  },
  {
   "cell_type": "code",
   "execution_count": 245,
   "id": "c7c77d8f",
   "metadata": {},
   "outputs": [
    {
     "name": "stdout",
     "output_type": "stream",
     "text": [
      "\n",
      "Média H (Kruskal): 5.56947540604234\n",
      "Média AUC: 0.573684561965812\n",
      "\n",
      "Features selecionadas (acima da média em ambos os critérios):\n",
      "Glucose\n",
      "HOMA\n",
      "Resistin\n",
      "\n",
      "Número total de features originais: 9\n",
      "Número de features selecionadas: 3\n"
     ]
    }
   ],
   "source": [
    "# --- Seleção de features com base em Kruskal e AUC ---\n",
    "\n",
    "# Converter Hs (lista de tuplas) para dicionário para acesso rápido\n",
    "Hs_dict = dict(Hs)\n",
    "\n",
    "# Calcular médias\n",
    "mean_H = np.mean(list(Hs_dict.values()))\n",
    "mean_auc = np.mean(roc_auc)\n",
    "\n",
    "print(f\"\\nMédia H (Kruskal): {mean_H}\")\n",
    "print(f\"Média AUC: {mean_auc}\\n\")\n",
    "\n",
    "# Selecionar features que passam ambos os critérios\n",
    "selected_features = [\n",
    "    f for f in fnames \n",
    "    if (Hs_dict[f] > mean_H) and (roc_auc[np.where(fnames == f)[0][0]] > mean_auc)\n",
    "]\n",
    "\n",
    "print(\"Features selecionadas (acima da média em ambos os critérios):\")\n",
    "for f in selected_features:\n",
    "    print(f)\n",
    "\n",
    "# Criar novo DataFrame apenas com essas features\n",
    "x_selected = x[selected_features]\n",
    "\n",
    "print(f\"\\nNúmero total de features originais: {len(fnames)}\")\n",
    "print(f\"Número de features selecionadas: {x_selected.shape[1]}\")\n"
   ]
  },
  {
   "cell_type": "markdown",
   "id": "a60abb3e",
   "metadata": {},
   "source": [
    "### Redundancy test"
   ]
  },
  {
   "cell_type": "code",
   "execution_count": 246,
   "id": "99bf1942",
   "metadata": {},
   "outputs": [
    {
     "name": "stdout",
     "output_type": "stream",
     "text": [
      "              Glucose  Resistin      HOMA   Insulin       BMI       Age  \\\n",
      "Glucose      1.000000  0.291327  0.696212  0.504653  0.138845  0.230106   \n",
      "Resistin     0.291327  1.000000  0.231101  0.146731  0.195350  0.002742   \n",
      "HOMA         0.696212  0.231101  1.000000  0.932198  0.114480  0.127033   \n",
      "Insulin      0.504653  0.146731  0.932198  1.000000  0.145295  0.032495   \n",
      "BMI          0.138845  0.195350  0.114480  0.145295  1.000000  0.008530   \n",
      "Age          0.230106  0.002742  0.127033  0.032495  0.008530  1.000000   \n",
      "MCP.1        0.264879  0.366474  0.259529  0.174356  0.224038  0.013462   \n",
      "Adiponectin -0.122121 -0.252363 -0.056337 -0.031296 -0.302735 -0.219813   \n",
      "Leptin       0.305080  0.256234  0.327210  0.301462  0.569593  0.102626   \n",
      "\n",
      "                MCP.1  Adiponectin    Leptin  \n",
      "Glucose      0.264879    -0.122121  0.305080  \n",
      "Resistin     0.366474    -0.252363  0.256234  \n",
      "HOMA         0.259529    -0.056337  0.327210  \n",
      "Insulin      0.174356    -0.031296  0.301462  \n",
      "BMI          0.224038    -0.302735  0.569593  \n",
      "Age          0.013462    -0.219813  0.102626  \n",
      "MCP.1        1.000000    -0.200694  0.014009  \n",
      "Adiponectin -0.200694     1.000000 -0.095389  \n",
      "Leptin       0.014009    -0.095389  1.000000  \n",
      "\n",
      "            Glucose      HOMA  Resistin\n",
      "Glucose   1.000000  0.696212  0.291327\n",
      "HOMA      0.696212  1.000000  0.231101\n",
      "Resistin  0.291327  0.231101  1.000000\n"
     ]
    }
   ],
   "source": [
    "\n",
    "Features = Hs[:]\n",
    "corr = x[[f[0] for f in Features]].corr()\n",
    "print(corr)\n",
    "\n",
    "corrAfter = x_selected.corr()\n",
    "print(\"\\n\",corrAfter)\n",
    "\n",
    "# HOMA - Insulin 0.932 Muito alta -> redundância clara\n",
    "\n",
    "\n"
   ]
  },
  {
   "cell_type": "code",
   "execution_count": null,
   "id": "a3767fa4",
   "metadata": {},
   "outputs": [],
   "source": []
  },
  {
   "cell_type": "markdown",
   "id": "d9581441",
   "metadata": {},
   "source": [
    "### PCA"
   ]
  },
  {
   "cell_type": "code",
   "execution_count": 247,
   "id": "4f26b546",
   "metadata": {},
   "outputs": [
    {
     "data": {
      "application/vnd.plotly.v1+json": {
       "config": {
        "plotlyServerURL": "https://plot.ly"
       },
       "data": [
        {
         "hovertemplate": "PC=%{x}<br>Explained Variance=%{y}<extra></extra>",
         "legendgroup": "",
         "marker": {
          "color": "#636efa",
          "size": 10,
          "symbol": "circle"
         },
         "mode": "markers",
         "name": "",
         "orientation": "v",
         "showlegend": false,
         "type": "scatter",
         "x": [
          1,
          2,
          3,
          4,
          5,
          6,
          7,
          8,
          9
         ],
         "xaxis": "x",
         "y": [
          3.3209820494637414,
          1.438104629508933,
          1.163568463963648,
          1.0981245207043566,
          0.7169518135278159,
          0.6531464689483212,
          0.39576294910731574,
          0.2791136264370585,
          0.03314657723990766
         ],
         "yaxis": "y"
        }
       ],
       "layout": {
        "legend": {
         "tracegroupgap": 0
        },
        "margin": {
         "t": 60
        },
        "shapes": [
         {
          "line": {
           "color": "red",
           "dash": "dash",
           "width": 3
          },
          "type": "line",
          "x0": 0,
          "x1": 1,
          "xref": "x domain",
          "y0": 1,
          "y1": 1,
          "yref": "y"
         }
        ],
        "template": {
         "data": {
          "bar": [
           {
            "error_x": {
             "color": "#2a3f5f"
            },
            "error_y": {
             "color": "#2a3f5f"
            },
            "marker": {
             "line": {
              "color": "#E5ECF6",
              "width": 0.5
             },
             "pattern": {
              "fillmode": "overlay",
              "size": 10,
              "solidity": 0.2
             }
            },
            "type": "bar"
           }
          ],
          "barpolar": [
           {
            "marker": {
             "line": {
              "color": "#E5ECF6",
              "width": 0.5
             },
             "pattern": {
              "fillmode": "overlay",
              "size": 10,
              "solidity": 0.2
             }
            },
            "type": "barpolar"
           }
          ],
          "carpet": [
           {
            "aaxis": {
             "endlinecolor": "#2a3f5f",
             "gridcolor": "white",
             "linecolor": "white",
             "minorgridcolor": "white",
             "startlinecolor": "#2a3f5f"
            },
            "baxis": {
             "endlinecolor": "#2a3f5f",
             "gridcolor": "white",
             "linecolor": "white",
             "minorgridcolor": "white",
             "startlinecolor": "#2a3f5f"
            },
            "type": "carpet"
           }
          ],
          "choropleth": [
           {
            "colorbar": {
             "outlinewidth": 0,
             "ticks": ""
            },
            "type": "choropleth"
           }
          ],
          "contour": [
           {
            "colorbar": {
             "outlinewidth": 0,
             "ticks": ""
            },
            "colorscale": [
             [
              0,
              "#0d0887"
             ],
             [
              0.1111111111111111,
              "#46039f"
             ],
             [
              0.2222222222222222,
              "#7201a8"
             ],
             [
              0.3333333333333333,
              "#9c179e"
             ],
             [
              0.4444444444444444,
              "#bd3786"
             ],
             [
              0.5555555555555556,
              "#d8576b"
             ],
             [
              0.6666666666666666,
              "#ed7953"
             ],
             [
              0.7777777777777778,
              "#fb9f3a"
             ],
             [
              0.8888888888888888,
              "#fdca26"
             ],
             [
              1,
              "#f0f921"
             ]
            ],
            "type": "contour"
           }
          ],
          "contourcarpet": [
           {
            "colorbar": {
             "outlinewidth": 0,
             "ticks": ""
            },
            "type": "contourcarpet"
           }
          ],
          "heatmap": [
           {
            "colorbar": {
             "outlinewidth": 0,
             "ticks": ""
            },
            "colorscale": [
             [
              0,
              "#0d0887"
             ],
             [
              0.1111111111111111,
              "#46039f"
             ],
             [
              0.2222222222222222,
              "#7201a8"
             ],
             [
              0.3333333333333333,
              "#9c179e"
             ],
             [
              0.4444444444444444,
              "#bd3786"
             ],
             [
              0.5555555555555556,
              "#d8576b"
             ],
             [
              0.6666666666666666,
              "#ed7953"
             ],
             [
              0.7777777777777778,
              "#fb9f3a"
             ],
             [
              0.8888888888888888,
              "#fdca26"
             ],
             [
              1,
              "#f0f921"
             ]
            ],
            "type": "heatmap"
           }
          ],
          "heatmapgl": [
           {
            "colorbar": {
             "outlinewidth": 0,
             "ticks": ""
            },
            "colorscale": [
             [
              0,
              "#0d0887"
             ],
             [
              0.1111111111111111,
              "#46039f"
             ],
             [
              0.2222222222222222,
              "#7201a8"
             ],
             [
              0.3333333333333333,
              "#9c179e"
             ],
             [
              0.4444444444444444,
              "#bd3786"
             ],
             [
              0.5555555555555556,
              "#d8576b"
             ],
             [
              0.6666666666666666,
              "#ed7953"
             ],
             [
              0.7777777777777778,
              "#fb9f3a"
             ],
             [
              0.8888888888888888,
              "#fdca26"
             ],
             [
              1,
              "#f0f921"
             ]
            ],
            "type": "heatmapgl"
           }
          ],
          "histogram": [
           {
            "marker": {
             "pattern": {
              "fillmode": "overlay",
              "size": 10,
              "solidity": 0.2
             }
            },
            "type": "histogram"
           }
          ],
          "histogram2d": [
           {
            "colorbar": {
             "outlinewidth": 0,
             "ticks": ""
            },
            "colorscale": [
             [
              0,
              "#0d0887"
             ],
             [
              0.1111111111111111,
              "#46039f"
             ],
             [
              0.2222222222222222,
              "#7201a8"
             ],
             [
              0.3333333333333333,
              "#9c179e"
             ],
             [
              0.4444444444444444,
              "#bd3786"
             ],
             [
              0.5555555555555556,
              "#d8576b"
             ],
             [
              0.6666666666666666,
              "#ed7953"
             ],
             [
              0.7777777777777778,
              "#fb9f3a"
             ],
             [
              0.8888888888888888,
              "#fdca26"
             ],
             [
              1,
              "#f0f921"
             ]
            ],
            "type": "histogram2d"
           }
          ],
          "histogram2dcontour": [
           {
            "colorbar": {
             "outlinewidth": 0,
             "ticks": ""
            },
            "colorscale": [
             [
              0,
              "#0d0887"
             ],
             [
              0.1111111111111111,
              "#46039f"
             ],
             [
              0.2222222222222222,
              "#7201a8"
             ],
             [
              0.3333333333333333,
              "#9c179e"
             ],
             [
              0.4444444444444444,
              "#bd3786"
             ],
             [
              0.5555555555555556,
              "#d8576b"
             ],
             [
              0.6666666666666666,
              "#ed7953"
             ],
             [
              0.7777777777777778,
              "#fb9f3a"
             ],
             [
              0.8888888888888888,
              "#fdca26"
             ],
             [
              1,
              "#f0f921"
             ]
            ],
            "type": "histogram2dcontour"
           }
          ],
          "mesh3d": [
           {
            "colorbar": {
             "outlinewidth": 0,
             "ticks": ""
            },
            "type": "mesh3d"
           }
          ],
          "parcoords": [
           {
            "line": {
             "colorbar": {
              "outlinewidth": 0,
              "ticks": ""
             }
            },
            "type": "parcoords"
           }
          ],
          "pie": [
           {
            "automargin": true,
            "type": "pie"
           }
          ],
          "scatter": [
           {
            "fillpattern": {
             "fillmode": "overlay",
             "size": 10,
             "solidity": 0.2
            },
            "type": "scatter"
           }
          ],
          "scatter3d": [
           {
            "line": {
             "colorbar": {
              "outlinewidth": 0,
              "ticks": ""
             }
            },
            "marker": {
             "colorbar": {
              "outlinewidth": 0,
              "ticks": ""
             }
            },
            "type": "scatter3d"
           }
          ],
          "scattercarpet": [
           {
            "marker": {
             "colorbar": {
              "outlinewidth": 0,
              "ticks": ""
             }
            },
            "type": "scattercarpet"
           }
          ],
          "scattergeo": [
           {
            "marker": {
             "colorbar": {
              "outlinewidth": 0,
              "ticks": ""
             }
            },
            "type": "scattergeo"
           }
          ],
          "scattergl": [
           {
            "marker": {
             "colorbar": {
              "outlinewidth": 0,
              "ticks": ""
             }
            },
            "type": "scattergl"
           }
          ],
          "scattermapbox": [
           {
            "marker": {
             "colorbar": {
              "outlinewidth": 0,
              "ticks": ""
             }
            },
            "type": "scattermapbox"
           }
          ],
          "scatterpolar": [
           {
            "marker": {
             "colorbar": {
              "outlinewidth": 0,
              "ticks": ""
             }
            },
            "type": "scatterpolar"
           }
          ],
          "scatterpolargl": [
           {
            "marker": {
             "colorbar": {
              "outlinewidth": 0,
              "ticks": ""
             }
            },
            "type": "scatterpolargl"
           }
          ],
          "scatterternary": [
           {
            "marker": {
             "colorbar": {
              "outlinewidth": 0,
              "ticks": ""
             }
            },
            "type": "scatterternary"
           }
          ],
          "surface": [
           {
            "colorbar": {
             "outlinewidth": 0,
             "ticks": ""
            },
            "colorscale": [
             [
              0,
              "#0d0887"
             ],
             [
              0.1111111111111111,
              "#46039f"
             ],
             [
              0.2222222222222222,
              "#7201a8"
             ],
             [
              0.3333333333333333,
              "#9c179e"
             ],
             [
              0.4444444444444444,
              "#bd3786"
             ],
             [
              0.5555555555555556,
              "#d8576b"
             ],
             [
              0.6666666666666666,
              "#ed7953"
             ],
             [
              0.7777777777777778,
              "#fb9f3a"
             ],
             [
              0.8888888888888888,
              "#fdca26"
             ],
             [
              1,
              "#f0f921"
             ]
            ],
            "type": "surface"
           }
          ],
          "table": [
           {
            "cells": {
             "fill": {
              "color": "#EBF0F8"
             },
             "line": {
              "color": "white"
             }
            },
            "header": {
             "fill": {
              "color": "#C8D4E3"
             },
             "line": {
              "color": "white"
             }
            },
            "type": "table"
           }
          ]
         },
         "layout": {
          "annotationdefaults": {
           "arrowcolor": "#2a3f5f",
           "arrowhead": 0,
           "arrowwidth": 1
          },
          "autotypenumbers": "strict",
          "coloraxis": {
           "colorbar": {
            "outlinewidth": 0,
            "ticks": ""
           }
          },
          "colorscale": {
           "diverging": [
            [
             0,
             "#8e0152"
            ],
            [
             0.1,
             "#c51b7d"
            ],
            [
             0.2,
             "#de77ae"
            ],
            [
             0.3,
             "#f1b6da"
            ],
            [
             0.4,
             "#fde0ef"
            ],
            [
             0.5,
             "#f7f7f7"
            ],
            [
             0.6,
             "#e6f5d0"
            ],
            [
             0.7,
             "#b8e186"
            ],
            [
             0.8,
             "#7fbc41"
            ],
            [
             0.9,
             "#4d9221"
            ],
            [
             1,
             "#276419"
            ]
           ],
           "sequential": [
            [
             0,
             "#0d0887"
            ],
            [
             0.1111111111111111,
             "#46039f"
            ],
            [
             0.2222222222222222,
             "#7201a8"
            ],
            [
             0.3333333333333333,
             "#9c179e"
            ],
            [
             0.4444444444444444,
             "#bd3786"
            ],
            [
             0.5555555555555556,
             "#d8576b"
            ],
            [
             0.6666666666666666,
             "#ed7953"
            ],
            [
             0.7777777777777778,
             "#fb9f3a"
            ],
            [
             0.8888888888888888,
             "#fdca26"
            ],
            [
             1,
             "#f0f921"
            ]
           ],
           "sequentialminus": [
            [
             0,
             "#0d0887"
            ],
            [
             0.1111111111111111,
             "#46039f"
            ],
            [
             0.2222222222222222,
             "#7201a8"
            ],
            [
             0.3333333333333333,
             "#9c179e"
            ],
            [
             0.4444444444444444,
             "#bd3786"
            ],
            [
             0.5555555555555556,
             "#d8576b"
            ],
            [
             0.6666666666666666,
             "#ed7953"
            ],
            [
             0.7777777777777778,
             "#fb9f3a"
            ],
            [
             0.8888888888888888,
             "#fdca26"
            ],
            [
             1,
             "#f0f921"
            ]
           ]
          },
          "colorway": [
           "#636efa",
           "#EF553B",
           "#00cc96",
           "#ab63fa",
           "#FFA15A",
           "#19d3f3",
           "#FF6692",
           "#B6E880",
           "#FF97FF",
           "#FECB52"
          ],
          "font": {
           "color": "#2a3f5f"
          },
          "geo": {
           "bgcolor": "white",
           "lakecolor": "white",
           "landcolor": "#E5ECF6",
           "showlakes": true,
           "showland": true,
           "subunitcolor": "white"
          },
          "hoverlabel": {
           "align": "left"
          },
          "hovermode": "closest",
          "mapbox": {
           "style": "light"
          },
          "paper_bgcolor": "white",
          "plot_bgcolor": "#E5ECF6",
          "polar": {
           "angularaxis": {
            "gridcolor": "white",
            "linecolor": "white",
            "ticks": ""
           },
           "bgcolor": "#E5ECF6",
           "radialaxis": {
            "gridcolor": "white",
            "linecolor": "white",
            "ticks": ""
           }
          },
          "scene": {
           "xaxis": {
            "backgroundcolor": "#E5ECF6",
            "gridcolor": "white",
            "gridwidth": 2,
            "linecolor": "white",
            "showbackground": true,
            "ticks": "",
            "zerolinecolor": "white"
           },
           "yaxis": {
            "backgroundcolor": "#E5ECF6",
            "gridcolor": "white",
            "gridwidth": 2,
            "linecolor": "white",
            "showbackground": true,
            "ticks": "",
            "zerolinecolor": "white"
           },
           "zaxis": {
            "backgroundcolor": "#E5ECF6",
            "gridcolor": "white",
            "gridwidth": 2,
            "linecolor": "white",
            "showbackground": true,
            "ticks": "",
            "zerolinecolor": "white"
           }
          },
          "shapedefaults": {
           "line": {
            "color": "#2a3f5f"
           }
          },
          "ternary": {
           "aaxis": {
            "gridcolor": "white",
            "linecolor": "white",
            "ticks": ""
           },
           "baxis": {
            "gridcolor": "white",
            "linecolor": "white",
            "ticks": ""
           },
           "bgcolor": "#E5ECF6",
           "caxis": {
            "gridcolor": "white",
            "linecolor": "white",
            "ticks": ""
           }
          },
          "title": {
           "x": 0.05
          },
          "xaxis": {
           "automargin": true,
           "gridcolor": "white",
           "linecolor": "white",
           "ticks": "",
           "title": {
            "standoff": 15
           },
           "zerolinecolor": "white",
           "zerolinewidth": 2
          },
          "yaxis": {
           "automargin": true,
           "gridcolor": "white",
           "linecolor": "white",
           "ticks": "",
           "title": {
            "standoff": 15
           },
           "zerolinecolor": "white",
           "zerolinewidth": 2
          }
         }
        },
        "xaxis": {
         "anchor": "y",
         "domain": [
          0,
          1
         ],
         "title": {
          "text": "PC"
         }
        },
        "yaxis": {
         "anchor": "x",
         "domain": [
          0,
          1
         ],
         "title": {
          "text": "Explained Variance"
         }
        }
       }
      }
     },
     "metadata": {},
     "output_type": "display_data"
    },
    {
     "name": "stdout",
     "output_type": "stream",
     "text": [
      "Variance (%) retained accourding to Kaiser: 65.51930451932446\n",
      "Variance (%) retained accourding to Scree: 98.60018890904708\n"
     ]
    },
    {
     "data": {
      "application/vnd.plotly.v1+json": {
       "config": {
        "plotlyServerURL": "https://plot.ly"
       },
       "data": [
        {
         "hovertemplate": "Classification=With Cancer<br>PC1=%{x}<br>=%{y}<extra></extra>",
         "legendgroup": "With Cancer",
         "marker": {
          "color": "#636efa",
          "size": 8,
          "symbol": "circle"
         },
         "mode": "markers",
         "name": "With Cancer",
         "orientation": "v",
         "showlegend": true,
         "type": "scatter",
         "x": [
          1.3213447258220938,
          0.005420695631677819,
          0.6921428700174198,
          3.7046158927216166,
          0.6913407309803153,
          -1.3223650000418414,
          -1.3776201602780807,
          -0.8441283035530167,
          -0.3821603521886699,
          -0.2134920833986633,
          1.5517909224610322,
          1.1017414844888145,
          1.2395598327567279,
          0.26303336119829485,
          -1.7801302719516097,
          -1.9214023545653744,
          -1.3440080149944067,
          -0.6574690938646215,
          -0.5735327075774918,
          2.693259910120434,
          2.0233799518380677,
          1.0698945341383241,
          -0.1064742510218979,
          -1.3589097631974243,
          4.177314512905792,
          -2.0918195049131816,
          0.6281782839774328,
          -0.8621111336420404,
          -0.2852467713072245,
          7.540180253437925,
          -0.395253275568302,
          0.19712260084422503,
          -0.872084491421094,
          -0.5243469767190484,
          0.18573268362481118,
          -0.7016574429653986,
          -0.6528694056899654,
          -1.1563648155323467,
          2.353142852753652,
          2.3497379611681333,
          -1.2780859948749994,
          -1.1693379711229182,
          -0.8400649602040806,
          0.4333179906791002,
          1.5699223570156116,
          -0.26731833779480313,
          9.019588035655199,
          1.3616713567421288,
          0.437617207677027,
          -1.5480177414115606,
          -0.1727684368248262
         ],
         "xaxis": "x",
         "y": [
          0,
          0,
          0,
          0,
          0,
          0,
          0,
          0,
          0,
          0,
          0,
          0,
          0,
          0,
          0,
          0,
          0,
          0,
          0,
          0,
          0,
          0,
          0,
          0,
          0,
          0,
          0,
          0,
          0,
          0,
          0,
          0,
          0,
          0,
          0,
          0,
          0,
          0,
          0,
          0,
          0,
          0,
          0,
          0,
          0,
          0,
          0,
          0,
          0,
          0,
          0
         ],
         "yaxis": "y"
        },
        {
         "hovertemplate": "Classification=Healthy<br>PC1=%{x}<br>=%{y}<extra></extra>",
         "legendgroup": "Healthy",
         "marker": {
          "color": "#EF553B",
          "size": 8,
          "symbol": "circle"
         },
         "mode": "markers",
         "name": "Healthy",
         "orientation": "v",
         "showlegend": true,
         "type": "scatter",
         "x": [
          0.11213648699036252,
          -0.835379072289802,
          0.22456695011916833,
          -0.24415181387519866,
          -1.2056742221133228,
          0.3765405126813116,
          0.16266835347652445,
          -0.5309680623470074,
          0.9555758810996202,
          -0.7162675274489418,
          1.199515313054753,
          -2.0134274143401294,
          -0.7923669029328179,
          -0.13602496583868817,
          -1.202148230462638,
          2.2000196575579554,
          0.5166262543601119,
          -1.114258522852145,
          -2.0292274066215255,
          -1.1235869341860028,
          -1.6123809109552136,
          -1.981544625284102,
          -2.408702128813258,
          -2.5302007814355063,
          -0.2775435752435999,
          -0.9484729461467065,
          -0.8211329904157686,
          0.5083527538970778,
          1.218593492798822,
          -0.3556524230681129,
          -0.97157378051956,
          -0.5587360080486442,
          -0.4070227015098985,
          -2.0795513585705554,
          2.3122005792384397,
          0.7539084976338123,
          -0.47311443938919184,
          -0.7133863912455062,
          -2.2435357347254663,
          -1.2738986021472183,
          -0.8527856521123948
         ],
         "xaxis": "x",
         "y": [
          0,
          0,
          0,
          0,
          0,
          0,
          0,
          0,
          0,
          0,
          0,
          0,
          0,
          0,
          0,
          0,
          0,
          0,
          0,
          0,
          0,
          0,
          0,
          0,
          0,
          0,
          0,
          0,
          0,
          0,
          0,
          0,
          0,
          0,
          0,
          0,
          0,
          0,
          0,
          0,
          0
         ],
         "yaxis": "y"
        }
       ],
       "layout": {
        "legend": {
         "title": {
          "text": "Classification"
         },
         "tracegroupgap": 0
        },
        "margin": {
         "t": 60
        },
        "template": {
         "data": {
          "bar": [
           {
            "error_x": {
             "color": "#2a3f5f"
            },
            "error_y": {
             "color": "#2a3f5f"
            },
            "marker": {
             "line": {
              "color": "#E5ECF6",
              "width": 0.5
             },
             "pattern": {
              "fillmode": "overlay",
              "size": 10,
              "solidity": 0.2
             }
            },
            "type": "bar"
           }
          ],
          "barpolar": [
           {
            "marker": {
             "line": {
              "color": "#E5ECF6",
              "width": 0.5
             },
             "pattern": {
              "fillmode": "overlay",
              "size": 10,
              "solidity": 0.2
             }
            },
            "type": "barpolar"
           }
          ],
          "carpet": [
           {
            "aaxis": {
             "endlinecolor": "#2a3f5f",
             "gridcolor": "white",
             "linecolor": "white",
             "minorgridcolor": "white",
             "startlinecolor": "#2a3f5f"
            },
            "baxis": {
             "endlinecolor": "#2a3f5f",
             "gridcolor": "white",
             "linecolor": "white",
             "minorgridcolor": "white",
             "startlinecolor": "#2a3f5f"
            },
            "type": "carpet"
           }
          ],
          "choropleth": [
           {
            "colorbar": {
             "outlinewidth": 0,
             "ticks": ""
            },
            "type": "choropleth"
           }
          ],
          "contour": [
           {
            "colorbar": {
             "outlinewidth": 0,
             "ticks": ""
            },
            "colorscale": [
             [
              0,
              "#0d0887"
             ],
             [
              0.1111111111111111,
              "#46039f"
             ],
             [
              0.2222222222222222,
              "#7201a8"
             ],
             [
              0.3333333333333333,
              "#9c179e"
             ],
             [
              0.4444444444444444,
              "#bd3786"
             ],
             [
              0.5555555555555556,
              "#d8576b"
             ],
             [
              0.6666666666666666,
              "#ed7953"
             ],
             [
              0.7777777777777778,
              "#fb9f3a"
             ],
             [
              0.8888888888888888,
              "#fdca26"
             ],
             [
              1,
              "#f0f921"
             ]
            ],
            "type": "contour"
           }
          ],
          "contourcarpet": [
           {
            "colorbar": {
             "outlinewidth": 0,
             "ticks": ""
            },
            "type": "contourcarpet"
           }
          ],
          "heatmap": [
           {
            "colorbar": {
             "outlinewidth": 0,
             "ticks": ""
            },
            "colorscale": [
             [
              0,
              "#0d0887"
             ],
             [
              0.1111111111111111,
              "#46039f"
             ],
             [
              0.2222222222222222,
              "#7201a8"
             ],
             [
              0.3333333333333333,
              "#9c179e"
             ],
             [
              0.4444444444444444,
              "#bd3786"
             ],
             [
              0.5555555555555556,
              "#d8576b"
             ],
             [
              0.6666666666666666,
              "#ed7953"
             ],
             [
              0.7777777777777778,
              "#fb9f3a"
             ],
             [
              0.8888888888888888,
              "#fdca26"
             ],
             [
              1,
              "#f0f921"
             ]
            ],
            "type": "heatmap"
           }
          ],
          "heatmapgl": [
           {
            "colorbar": {
             "outlinewidth": 0,
             "ticks": ""
            },
            "colorscale": [
             [
              0,
              "#0d0887"
             ],
             [
              0.1111111111111111,
              "#46039f"
             ],
             [
              0.2222222222222222,
              "#7201a8"
             ],
             [
              0.3333333333333333,
              "#9c179e"
             ],
             [
              0.4444444444444444,
              "#bd3786"
             ],
             [
              0.5555555555555556,
              "#d8576b"
             ],
             [
              0.6666666666666666,
              "#ed7953"
             ],
             [
              0.7777777777777778,
              "#fb9f3a"
             ],
             [
              0.8888888888888888,
              "#fdca26"
             ],
             [
              1,
              "#f0f921"
             ]
            ],
            "type": "heatmapgl"
           }
          ],
          "histogram": [
           {
            "marker": {
             "pattern": {
              "fillmode": "overlay",
              "size": 10,
              "solidity": 0.2
             }
            },
            "type": "histogram"
           }
          ],
          "histogram2d": [
           {
            "colorbar": {
             "outlinewidth": 0,
             "ticks": ""
            },
            "colorscale": [
             [
              0,
              "#0d0887"
             ],
             [
              0.1111111111111111,
              "#46039f"
             ],
             [
              0.2222222222222222,
              "#7201a8"
             ],
             [
              0.3333333333333333,
              "#9c179e"
             ],
             [
              0.4444444444444444,
              "#bd3786"
             ],
             [
              0.5555555555555556,
              "#d8576b"
             ],
             [
              0.6666666666666666,
              "#ed7953"
             ],
             [
              0.7777777777777778,
              "#fb9f3a"
             ],
             [
              0.8888888888888888,
              "#fdca26"
             ],
             [
              1,
              "#f0f921"
             ]
            ],
            "type": "histogram2d"
           }
          ],
          "histogram2dcontour": [
           {
            "colorbar": {
             "outlinewidth": 0,
             "ticks": ""
            },
            "colorscale": [
             [
              0,
              "#0d0887"
             ],
             [
              0.1111111111111111,
              "#46039f"
             ],
             [
              0.2222222222222222,
              "#7201a8"
             ],
             [
              0.3333333333333333,
              "#9c179e"
             ],
             [
              0.4444444444444444,
              "#bd3786"
             ],
             [
              0.5555555555555556,
              "#d8576b"
             ],
             [
              0.6666666666666666,
              "#ed7953"
             ],
             [
              0.7777777777777778,
              "#fb9f3a"
             ],
             [
              0.8888888888888888,
              "#fdca26"
             ],
             [
              1,
              "#f0f921"
             ]
            ],
            "type": "histogram2dcontour"
           }
          ],
          "mesh3d": [
           {
            "colorbar": {
             "outlinewidth": 0,
             "ticks": ""
            },
            "type": "mesh3d"
           }
          ],
          "parcoords": [
           {
            "line": {
             "colorbar": {
              "outlinewidth": 0,
              "ticks": ""
             }
            },
            "type": "parcoords"
           }
          ],
          "pie": [
           {
            "automargin": true,
            "type": "pie"
           }
          ],
          "scatter": [
           {
            "fillpattern": {
             "fillmode": "overlay",
             "size": 10,
             "solidity": 0.2
            },
            "type": "scatter"
           }
          ],
          "scatter3d": [
           {
            "line": {
             "colorbar": {
              "outlinewidth": 0,
              "ticks": ""
             }
            },
            "marker": {
             "colorbar": {
              "outlinewidth": 0,
              "ticks": ""
             }
            },
            "type": "scatter3d"
           }
          ],
          "scattercarpet": [
           {
            "marker": {
             "colorbar": {
              "outlinewidth": 0,
              "ticks": ""
             }
            },
            "type": "scattercarpet"
           }
          ],
          "scattergeo": [
           {
            "marker": {
             "colorbar": {
              "outlinewidth": 0,
              "ticks": ""
             }
            },
            "type": "scattergeo"
           }
          ],
          "scattergl": [
           {
            "marker": {
             "colorbar": {
              "outlinewidth": 0,
              "ticks": ""
             }
            },
            "type": "scattergl"
           }
          ],
          "scattermapbox": [
           {
            "marker": {
             "colorbar": {
              "outlinewidth": 0,
              "ticks": ""
             }
            },
            "type": "scattermapbox"
           }
          ],
          "scatterpolar": [
           {
            "marker": {
             "colorbar": {
              "outlinewidth": 0,
              "ticks": ""
             }
            },
            "type": "scatterpolar"
           }
          ],
          "scatterpolargl": [
           {
            "marker": {
             "colorbar": {
              "outlinewidth": 0,
              "ticks": ""
             }
            },
            "type": "scatterpolargl"
           }
          ],
          "scatterternary": [
           {
            "marker": {
             "colorbar": {
              "outlinewidth": 0,
              "ticks": ""
             }
            },
            "type": "scatterternary"
           }
          ],
          "surface": [
           {
            "colorbar": {
             "outlinewidth": 0,
             "ticks": ""
            },
            "colorscale": [
             [
              0,
              "#0d0887"
             ],
             [
              0.1111111111111111,
              "#46039f"
             ],
             [
              0.2222222222222222,
              "#7201a8"
             ],
             [
              0.3333333333333333,
              "#9c179e"
             ],
             [
              0.4444444444444444,
              "#bd3786"
             ],
             [
              0.5555555555555556,
              "#d8576b"
             ],
             [
              0.6666666666666666,
              "#ed7953"
             ],
             [
              0.7777777777777778,
              "#fb9f3a"
             ],
             [
              0.8888888888888888,
              "#fdca26"
             ],
             [
              1,
              "#f0f921"
             ]
            ],
            "type": "surface"
           }
          ],
          "table": [
           {
            "cells": {
             "fill": {
              "color": "#EBF0F8"
             },
             "line": {
              "color": "white"
             }
            },
            "header": {
             "fill": {
              "color": "#C8D4E3"
             },
             "line": {
              "color": "white"
             }
            },
            "type": "table"
           }
          ]
         },
         "layout": {
          "annotationdefaults": {
           "arrowcolor": "#2a3f5f",
           "arrowhead": 0,
           "arrowwidth": 1
          },
          "autotypenumbers": "strict",
          "coloraxis": {
           "colorbar": {
            "outlinewidth": 0,
            "ticks": ""
           }
          },
          "colorscale": {
           "diverging": [
            [
             0,
             "#8e0152"
            ],
            [
             0.1,
             "#c51b7d"
            ],
            [
             0.2,
             "#de77ae"
            ],
            [
             0.3,
             "#f1b6da"
            ],
            [
             0.4,
             "#fde0ef"
            ],
            [
             0.5,
             "#f7f7f7"
            ],
            [
             0.6,
             "#e6f5d0"
            ],
            [
             0.7,
             "#b8e186"
            ],
            [
             0.8,
             "#7fbc41"
            ],
            [
             0.9,
             "#4d9221"
            ],
            [
             1,
             "#276419"
            ]
           ],
           "sequential": [
            [
             0,
             "#0d0887"
            ],
            [
             0.1111111111111111,
             "#46039f"
            ],
            [
             0.2222222222222222,
             "#7201a8"
            ],
            [
             0.3333333333333333,
             "#9c179e"
            ],
            [
             0.4444444444444444,
             "#bd3786"
            ],
            [
             0.5555555555555556,
             "#d8576b"
            ],
            [
             0.6666666666666666,
             "#ed7953"
            ],
            [
             0.7777777777777778,
             "#fb9f3a"
            ],
            [
             0.8888888888888888,
             "#fdca26"
            ],
            [
             1,
             "#f0f921"
            ]
           ],
           "sequentialminus": [
            [
             0,
             "#0d0887"
            ],
            [
             0.1111111111111111,
             "#46039f"
            ],
            [
             0.2222222222222222,
             "#7201a8"
            ],
            [
             0.3333333333333333,
             "#9c179e"
            ],
            [
             0.4444444444444444,
             "#bd3786"
            ],
            [
             0.5555555555555556,
             "#d8576b"
            ],
            [
             0.6666666666666666,
             "#ed7953"
            ],
            [
             0.7777777777777778,
             "#fb9f3a"
            ],
            [
             0.8888888888888888,
             "#fdca26"
            ],
            [
             1,
             "#f0f921"
            ]
           ]
          },
          "colorway": [
           "#636efa",
           "#EF553B",
           "#00cc96",
           "#ab63fa",
           "#FFA15A",
           "#19d3f3",
           "#FF6692",
           "#B6E880",
           "#FF97FF",
           "#FECB52"
          ],
          "font": {
           "color": "#2a3f5f"
          },
          "geo": {
           "bgcolor": "white",
           "lakecolor": "white",
           "landcolor": "#E5ECF6",
           "showlakes": true,
           "showland": true,
           "subunitcolor": "white"
          },
          "hoverlabel": {
           "align": "left"
          },
          "hovermode": "closest",
          "mapbox": {
           "style": "light"
          },
          "paper_bgcolor": "white",
          "plot_bgcolor": "#E5ECF6",
          "polar": {
           "angularaxis": {
            "gridcolor": "white",
            "linecolor": "white",
            "ticks": ""
           },
           "bgcolor": "#E5ECF6",
           "radialaxis": {
            "gridcolor": "white",
            "linecolor": "white",
            "ticks": ""
           }
          },
          "scene": {
           "xaxis": {
            "backgroundcolor": "#E5ECF6",
            "gridcolor": "white",
            "gridwidth": 2,
            "linecolor": "white",
            "showbackground": true,
            "ticks": "",
            "zerolinecolor": "white"
           },
           "yaxis": {
            "backgroundcolor": "#E5ECF6",
            "gridcolor": "white",
            "gridwidth": 2,
            "linecolor": "white",
            "showbackground": true,
            "ticks": "",
            "zerolinecolor": "white"
           },
           "zaxis": {
            "backgroundcolor": "#E5ECF6",
            "gridcolor": "white",
            "gridwidth": 2,
            "linecolor": "white",
            "showbackground": true,
            "ticks": "",
            "zerolinecolor": "white"
           }
          },
          "shapedefaults": {
           "line": {
            "color": "#2a3f5f"
           }
          },
          "ternary": {
           "aaxis": {
            "gridcolor": "white",
            "linecolor": "white",
            "ticks": ""
           },
           "baxis": {
            "gridcolor": "white",
            "linecolor": "white",
            "ticks": ""
           },
           "bgcolor": "#E5ECF6",
           "caxis": {
            "gridcolor": "white",
            "linecolor": "white",
            "ticks": ""
           }
          },
          "title": {
           "x": 0.05
          },
          "xaxis": {
           "automargin": true,
           "gridcolor": "white",
           "linecolor": "white",
           "ticks": "",
           "title": {
            "standoff": 15
           },
           "zerolinecolor": "white",
           "zerolinewidth": 2
          },
          "yaxis": {
           "automargin": true,
           "gridcolor": "white",
           "linecolor": "white",
           "ticks": "",
           "title": {
            "standoff": 15
           },
           "zerolinecolor": "white",
           "zerolinewidth": 2
          }
         }
        },
        "xaxis": {
         "anchor": "y",
         "domain": [
          0,
          1
         ],
         "title": {
          "text": "PC1"
         }
        },
        "yaxis": {
         "anchor": "x",
         "domain": [
          0,
          1
         ],
         "title": {
          "text": ""
         }
        }
       }
      }
     },
     "metadata": {},
     "output_type": "display_data"
    }
   ],
   "source": [
    "#Normalize\n",
    "X=(x_train-np.mean(x_train,axis=0))/np.std(x_train,axis=0)\n",
    "\n",
    "pca = PCA()\n",
    "pca.fit(X)\n",
    "\n",
    "\n",
    "y_train = pd.Series(y_train)\n",
    "\n",
    "fig = px.scatter(\n",
    "    x=np.arange(1, len(pca.explained_variance_) + 1),\n",
    "    y=pca.explained_variance_,\n",
    "    labels=dict(x=\"PC\", y=\"Explained Variance\")\n",
    ")\n",
    "\n",
    "fig.add_hline(y=1,line_width=3, line_dash=\"dash\", line_color=\"red\")\n",
    "fig.update_traces(marker_size=10)\n",
    "fig.show()\n",
    "\n",
    "print(\"Variance (%) retained accourding to Kaiser: \"+str(pca.explained_variance_[0]**2/(np.sum(pca.explained_variance_**2))*100))\n",
    "print(\"Variance (%) retained accourding to Scree: \"+str(np.sum(pca.explained_variance_[0:6]**2)/(np.sum(pca.explained_variance_**2))*100))\n",
    "\n",
    "\n",
    "pca2=PCA(n_components=1)\n",
    "\n",
    "X1D=pca2.fit_transform(X)\n",
    "#print(np.shape(X1D))\n",
    "\n",
    "#Plot projected data\n",
    "fig = px.scatter(x=X1D[:, 0],y=np.zeros(np.shape(X1D)[0]),color=y_train.replace({1: \"Healthy\", 2: \"With Cancer\"}),labels=dict(x=\"PC1\", y=\"\", color=\"Classification\"))\n",
    "\n",
    "fig.update_traces(marker_size=8)\n",
    "fig.update_xaxes\n",
    "fig.show()\n",
    "\n",
    "\n",
    "# Guardar os dois primeiros PCAs\n",
    "\n",
    "x_pca=PCA(n_components=2)\n",
    "X_pca = pca.fit_transform(X)\n",
    "\n",
    "PC1 = X_pca[:, 0]\n",
    "PC2 = X_pca[:, 1]\n",
    "\n"
   ]
  },
  {
   "cell_type": "markdown",
   "id": "cbe30711",
   "metadata": {},
   "source": [
    "### LDA"
   ]
  },
  {
   "cell_type": "code",
   "execution_count": 248,
   "id": "c17188d5",
   "metadata": {},
   "outputs": [
    {
     "data": {
      "application/vnd.plotly.v1+json": {
       "config": {
        "plotlyServerURL": "https://plot.ly"
       },
       "data": [
        {
         "hovertemplate": "Classification=With Cancer<br>LDA1=%{x}<br>=%{y}<extra></extra>",
         "legendgroup": "With Cancer",
         "marker": {
          "color": "#636efa",
          "symbol": "circle"
         },
         "mode": "markers",
         "name": "With Cancer",
         "orientation": "v",
         "showlegend": true,
         "type": "scatter",
         "x": [
          1.2973244931085721,
          0.48149499517244343,
          -0.7756769696141722,
          1.8171014899797127,
          2.2612395404411645,
          -0.5484617986665408,
          0.6245898912613278,
          0.7460463016877461,
          -0.9721223141804815,
          -1.4214699558469621,
          -0.6985152855521227,
          1.5910389047135272,
          -0.024713371836586263,
          -0.08155769158067964,
          0.6695819614462442,
          -2.0764484144813755,
          0.7021938780282999,
          1.4362831212338802,
          -0.5360921508250344,
          1.0862242473679808,
          1.6172211624315584,
          1.9081536700341228,
          0.8749183750517515,
          0.855506157516783,
          5.416297846626338,
          0.2408278207014864,
          -0.2078883807618208,
          0.6122207948065005,
          0.6568843292448783,
          2.1344651939857147,
          1.4935580807576996,
          0.35204886586601314,
          -0.3837613867716229,
          1.5151600162608032,
          1.5234577800589078,
          1.6914431116439925,
          -1.1171706033364281,
          -0.15812464911132768,
          0.8302831884188134,
          0.7256489293188384,
          0.1761717134236672,
          0.05269308312481728,
          0.9859454493902635,
          -0.6046015743658995,
          0.07792651713051149,
          0.9599544362442952,
          1.7547874306976077,
          0.08004614208641156,
          1.111298964180702,
          0.19478235453669288,
          -0.6582490020947276
         ],
         "xaxis": "x",
         "y": [
          0,
          0,
          0,
          0,
          0,
          0,
          0,
          0,
          0,
          0,
          0,
          0,
          0,
          0,
          0,
          0,
          0,
          0,
          0,
          0,
          0,
          0,
          0,
          0,
          0,
          0,
          0,
          0,
          0,
          0,
          0,
          0,
          0,
          0,
          0,
          0,
          0,
          0,
          0,
          0,
          0,
          0,
          0,
          0,
          0,
          0,
          0,
          0,
          0,
          0,
          0
         ],
         "yaxis": "y"
        },
        {
         "hovertemplate": "Classification=Healthy<br>LDA1=%{x}<br>=%{y}<extra></extra>",
         "legendgroup": "Healthy",
         "marker": {
          "color": "#EF553B",
          "symbol": "circle"
         },
         "mode": "markers",
         "name": "Healthy",
         "orientation": "v",
         "showlegend": true,
         "type": "scatter",
         "x": [
          -0.4845079434425584,
          0.2327868815109548,
          -0.18673407527438052,
          0.6184487714319096,
          -0.7617254398967492,
          -1.0699911612666817,
          -1.3792425221142592,
          -0.5683897835034936,
          -1.1063600020760849,
          -1.315521927632922,
          -0.2689864254700341,
          -1.2054701812315625,
          -1.6995107320724627,
          -0.9980366795962096,
          -0.6697385403200093,
          -0.6746172005755626,
          -0.49237701648881255,
          -1.1405111327738318,
          -0.8728602384440959,
          -1.0638875751004122,
          0.10194588168349217,
          -0.003941482378110242,
          0.12678818883846854,
          -1.3712894516787233,
          -0.8003506241961549,
          -0.4887108119735681,
          -1.291616132529365,
          -1.203341853215106,
          1.0637908195309522,
          -2.510163102289558,
          -0.8303654692351672,
          -1.4974706272814744,
          -1.4005283251059797,
          -0.8318328874794506,
          0.4979586923770401,
          -0.9276810268359811,
          -0.9925223607119871,
          -1.331038842625268,
          -0.711736158201073,
          0.02247097950249967,
          -0.8030991708123664
         ],
         "xaxis": "x",
         "y": [
          0,
          0,
          0,
          0,
          0,
          0,
          0,
          0,
          0,
          0,
          0,
          0,
          0,
          0,
          0,
          0,
          0,
          0,
          0,
          0,
          0,
          0,
          0,
          0,
          0,
          0,
          0,
          0,
          0,
          0,
          0,
          0,
          0,
          0,
          0,
          0,
          0,
          0,
          0,
          0,
          0
         ],
         "yaxis": "y"
        }
       ],
       "layout": {
        "legend": {
         "title": {
          "text": "Classification"
         },
         "tracegroupgap": 0
        },
        "template": {
         "data": {
          "bar": [
           {
            "error_x": {
             "color": "#2a3f5f"
            },
            "error_y": {
             "color": "#2a3f5f"
            },
            "marker": {
             "line": {
              "color": "#E5ECF6",
              "width": 0.5
             },
             "pattern": {
              "fillmode": "overlay",
              "size": 10,
              "solidity": 0.2
             }
            },
            "type": "bar"
           }
          ],
          "barpolar": [
           {
            "marker": {
             "line": {
              "color": "#E5ECF6",
              "width": 0.5
             },
             "pattern": {
              "fillmode": "overlay",
              "size": 10,
              "solidity": 0.2
             }
            },
            "type": "barpolar"
           }
          ],
          "carpet": [
           {
            "aaxis": {
             "endlinecolor": "#2a3f5f",
             "gridcolor": "white",
             "linecolor": "white",
             "minorgridcolor": "white",
             "startlinecolor": "#2a3f5f"
            },
            "baxis": {
             "endlinecolor": "#2a3f5f",
             "gridcolor": "white",
             "linecolor": "white",
             "minorgridcolor": "white",
             "startlinecolor": "#2a3f5f"
            },
            "type": "carpet"
           }
          ],
          "choropleth": [
           {
            "colorbar": {
             "outlinewidth": 0,
             "ticks": ""
            },
            "type": "choropleth"
           }
          ],
          "contour": [
           {
            "colorbar": {
             "outlinewidth": 0,
             "ticks": ""
            },
            "colorscale": [
             [
              0,
              "#0d0887"
             ],
             [
              0.1111111111111111,
              "#46039f"
             ],
             [
              0.2222222222222222,
              "#7201a8"
             ],
             [
              0.3333333333333333,
              "#9c179e"
             ],
             [
              0.4444444444444444,
              "#bd3786"
             ],
             [
              0.5555555555555556,
              "#d8576b"
             ],
             [
              0.6666666666666666,
              "#ed7953"
             ],
             [
              0.7777777777777778,
              "#fb9f3a"
             ],
             [
              0.8888888888888888,
              "#fdca26"
             ],
             [
              1,
              "#f0f921"
             ]
            ],
            "type": "contour"
           }
          ],
          "contourcarpet": [
           {
            "colorbar": {
             "outlinewidth": 0,
             "ticks": ""
            },
            "type": "contourcarpet"
           }
          ],
          "heatmap": [
           {
            "colorbar": {
             "outlinewidth": 0,
             "ticks": ""
            },
            "colorscale": [
             [
              0,
              "#0d0887"
             ],
             [
              0.1111111111111111,
              "#46039f"
             ],
             [
              0.2222222222222222,
              "#7201a8"
             ],
             [
              0.3333333333333333,
              "#9c179e"
             ],
             [
              0.4444444444444444,
              "#bd3786"
             ],
             [
              0.5555555555555556,
              "#d8576b"
             ],
             [
              0.6666666666666666,
              "#ed7953"
             ],
             [
              0.7777777777777778,
              "#fb9f3a"
             ],
             [
              0.8888888888888888,
              "#fdca26"
             ],
             [
              1,
              "#f0f921"
             ]
            ],
            "type": "heatmap"
           }
          ],
          "heatmapgl": [
           {
            "colorbar": {
             "outlinewidth": 0,
             "ticks": ""
            },
            "colorscale": [
             [
              0,
              "#0d0887"
             ],
             [
              0.1111111111111111,
              "#46039f"
             ],
             [
              0.2222222222222222,
              "#7201a8"
             ],
             [
              0.3333333333333333,
              "#9c179e"
             ],
             [
              0.4444444444444444,
              "#bd3786"
             ],
             [
              0.5555555555555556,
              "#d8576b"
             ],
             [
              0.6666666666666666,
              "#ed7953"
             ],
             [
              0.7777777777777778,
              "#fb9f3a"
             ],
             [
              0.8888888888888888,
              "#fdca26"
             ],
             [
              1,
              "#f0f921"
             ]
            ],
            "type": "heatmapgl"
           }
          ],
          "histogram": [
           {
            "marker": {
             "pattern": {
              "fillmode": "overlay",
              "size": 10,
              "solidity": 0.2
             }
            },
            "type": "histogram"
           }
          ],
          "histogram2d": [
           {
            "colorbar": {
             "outlinewidth": 0,
             "ticks": ""
            },
            "colorscale": [
             [
              0,
              "#0d0887"
             ],
             [
              0.1111111111111111,
              "#46039f"
             ],
             [
              0.2222222222222222,
              "#7201a8"
             ],
             [
              0.3333333333333333,
              "#9c179e"
             ],
             [
              0.4444444444444444,
              "#bd3786"
             ],
             [
              0.5555555555555556,
              "#d8576b"
             ],
             [
              0.6666666666666666,
              "#ed7953"
             ],
             [
              0.7777777777777778,
              "#fb9f3a"
             ],
             [
              0.8888888888888888,
              "#fdca26"
             ],
             [
              1,
              "#f0f921"
             ]
            ],
            "type": "histogram2d"
           }
          ],
          "histogram2dcontour": [
           {
            "colorbar": {
             "outlinewidth": 0,
             "ticks": ""
            },
            "colorscale": [
             [
              0,
              "#0d0887"
             ],
             [
              0.1111111111111111,
              "#46039f"
             ],
             [
              0.2222222222222222,
              "#7201a8"
             ],
             [
              0.3333333333333333,
              "#9c179e"
             ],
             [
              0.4444444444444444,
              "#bd3786"
             ],
             [
              0.5555555555555556,
              "#d8576b"
             ],
             [
              0.6666666666666666,
              "#ed7953"
             ],
             [
              0.7777777777777778,
              "#fb9f3a"
             ],
             [
              0.8888888888888888,
              "#fdca26"
             ],
             [
              1,
              "#f0f921"
             ]
            ],
            "type": "histogram2dcontour"
           }
          ],
          "mesh3d": [
           {
            "colorbar": {
             "outlinewidth": 0,
             "ticks": ""
            },
            "type": "mesh3d"
           }
          ],
          "parcoords": [
           {
            "line": {
             "colorbar": {
              "outlinewidth": 0,
              "ticks": ""
             }
            },
            "type": "parcoords"
           }
          ],
          "pie": [
           {
            "automargin": true,
            "type": "pie"
           }
          ],
          "scatter": [
           {
            "fillpattern": {
             "fillmode": "overlay",
             "size": 10,
             "solidity": 0.2
            },
            "type": "scatter"
           }
          ],
          "scatter3d": [
           {
            "line": {
             "colorbar": {
              "outlinewidth": 0,
              "ticks": ""
             }
            },
            "marker": {
             "colorbar": {
              "outlinewidth": 0,
              "ticks": ""
             }
            },
            "type": "scatter3d"
           }
          ],
          "scattercarpet": [
           {
            "marker": {
             "colorbar": {
              "outlinewidth": 0,
              "ticks": ""
             }
            },
            "type": "scattercarpet"
           }
          ],
          "scattergeo": [
           {
            "marker": {
             "colorbar": {
              "outlinewidth": 0,
              "ticks": ""
             }
            },
            "type": "scattergeo"
           }
          ],
          "scattergl": [
           {
            "marker": {
             "colorbar": {
              "outlinewidth": 0,
              "ticks": ""
             }
            },
            "type": "scattergl"
           }
          ],
          "scattermapbox": [
           {
            "marker": {
             "colorbar": {
              "outlinewidth": 0,
              "ticks": ""
             }
            },
            "type": "scattermapbox"
           }
          ],
          "scatterpolar": [
           {
            "marker": {
             "colorbar": {
              "outlinewidth": 0,
              "ticks": ""
             }
            },
            "type": "scatterpolar"
           }
          ],
          "scatterpolargl": [
           {
            "marker": {
             "colorbar": {
              "outlinewidth": 0,
              "ticks": ""
             }
            },
            "type": "scatterpolargl"
           }
          ],
          "scatterternary": [
           {
            "marker": {
             "colorbar": {
              "outlinewidth": 0,
              "ticks": ""
             }
            },
            "type": "scatterternary"
           }
          ],
          "surface": [
           {
            "colorbar": {
             "outlinewidth": 0,
             "ticks": ""
            },
            "colorscale": [
             [
              0,
              "#0d0887"
             ],
             [
              0.1111111111111111,
              "#46039f"
             ],
             [
              0.2222222222222222,
              "#7201a8"
             ],
             [
              0.3333333333333333,
              "#9c179e"
             ],
             [
              0.4444444444444444,
              "#bd3786"
             ],
             [
              0.5555555555555556,
              "#d8576b"
             ],
             [
              0.6666666666666666,
              "#ed7953"
             ],
             [
              0.7777777777777778,
              "#fb9f3a"
             ],
             [
              0.8888888888888888,
              "#fdca26"
             ],
             [
              1,
              "#f0f921"
             ]
            ],
            "type": "surface"
           }
          ],
          "table": [
           {
            "cells": {
             "fill": {
              "color": "#EBF0F8"
             },
             "line": {
              "color": "white"
             }
            },
            "header": {
             "fill": {
              "color": "#C8D4E3"
             },
             "line": {
              "color": "white"
             }
            },
            "type": "table"
           }
          ]
         },
         "layout": {
          "annotationdefaults": {
           "arrowcolor": "#2a3f5f",
           "arrowhead": 0,
           "arrowwidth": 1
          },
          "autotypenumbers": "strict",
          "coloraxis": {
           "colorbar": {
            "outlinewidth": 0,
            "ticks": ""
           }
          },
          "colorscale": {
           "diverging": [
            [
             0,
             "#8e0152"
            ],
            [
             0.1,
             "#c51b7d"
            ],
            [
             0.2,
             "#de77ae"
            ],
            [
             0.3,
             "#f1b6da"
            ],
            [
             0.4,
             "#fde0ef"
            ],
            [
             0.5,
             "#f7f7f7"
            ],
            [
             0.6,
             "#e6f5d0"
            ],
            [
             0.7,
             "#b8e186"
            ],
            [
             0.8,
             "#7fbc41"
            ],
            [
             0.9,
             "#4d9221"
            ],
            [
             1,
             "#276419"
            ]
           ],
           "sequential": [
            [
             0,
             "#0d0887"
            ],
            [
             0.1111111111111111,
             "#46039f"
            ],
            [
             0.2222222222222222,
             "#7201a8"
            ],
            [
             0.3333333333333333,
             "#9c179e"
            ],
            [
             0.4444444444444444,
             "#bd3786"
            ],
            [
             0.5555555555555556,
             "#d8576b"
            ],
            [
             0.6666666666666666,
             "#ed7953"
            ],
            [
             0.7777777777777778,
             "#fb9f3a"
            ],
            [
             0.8888888888888888,
             "#fdca26"
            ],
            [
             1,
             "#f0f921"
            ]
           ],
           "sequentialminus": [
            [
             0,
             "#0d0887"
            ],
            [
             0.1111111111111111,
             "#46039f"
            ],
            [
             0.2222222222222222,
             "#7201a8"
            ],
            [
             0.3333333333333333,
             "#9c179e"
            ],
            [
             0.4444444444444444,
             "#bd3786"
            ],
            [
             0.5555555555555556,
             "#d8576b"
            ],
            [
             0.6666666666666666,
             "#ed7953"
            ],
            [
             0.7777777777777778,
             "#fb9f3a"
            ],
            [
             0.8888888888888888,
             "#fdca26"
            ],
            [
             1,
             "#f0f921"
            ]
           ]
          },
          "colorway": [
           "#636efa",
           "#EF553B",
           "#00cc96",
           "#ab63fa",
           "#FFA15A",
           "#19d3f3",
           "#FF6692",
           "#B6E880",
           "#FF97FF",
           "#FECB52"
          ],
          "font": {
           "color": "#2a3f5f"
          },
          "geo": {
           "bgcolor": "white",
           "lakecolor": "white",
           "landcolor": "#E5ECF6",
           "showlakes": true,
           "showland": true,
           "subunitcolor": "white"
          },
          "hoverlabel": {
           "align": "left"
          },
          "hovermode": "closest",
          "mapbox": {
           "style": "light"
          },
          "paper_bgcolor": "white",
          "plot_bgcolor": "#E5ECF6",
          "polar": {
           "angularaxis": {
            "gridcolor": "white",
            "linecolor": "white",
            "ticks": ""
           },
           "bgcolor": "#E5ECF6",
           "radialaxis": {
            "gridcolor": "white",
            "linecolor": "white",
            "ticks": ""
           }
          },
          "scene": {
           "xaxis": {
            "backgroundcolor": "#E5ECF6",
            "gridcolor": "white",
            "gridwidth": 2,
            "linecolor": "white",
            "showbackground": true,
            "ticks": "",
            "zerolinecolor": "white"
           },
           "yaxis": {
            "backgroundcolor": "#E5ECF6",
            "gridcolor": "white",
            "gridwidth": 2,
            "linecolor": "white",
            "showbackground": true,
            "ticks": "",
            "zerolinecolor": "white"
           },
           "zaxis": {
            "backgroundcolor": "#E5ECF6",
            "gridcolor": "white",
            "gridwidth": 2,
            "linecolor": "white",
            "showbackground": true,
            "ticks": "",
            "zerolinecolor": "white"
           }
          },
          "shapedefaults": {
           "line": {
            "color": "#2a3f5f"
           }
          },
          "ternary": {
           "aaxis": {
            "gridcolor": "white",
            "linecolor": "white",
            "ticks": ""
           },
           "baxis": {
            "gridcolor": "white",
            "linecolor": "white",
            "ticks": ""
           },
           "bgcolor": "#E5ECF6",
           "caxis": {
            "gridcolor": "white",
            "linecolor": "white",
            "ticks": ""
           }
          },
          "title": {
           "x": 0.05
          },
          "xaxis": {
           "automargin": true,
           "gridcolor": "white",
           "linecolor": "white",
           "ticks": "",
           "title": {
            "standoff": 15
           },
           "zerolinecolor": "white",
           "zerolinewidth": 2
          },
          "yaxis": {
           "automargin": true,
           "gridcolor": "white",
           "linecolor": "white",
           "ticks": "",
           "title": {
            "standoff": 15
           },
           "zerolinecolor": "white",
           "zerolinewidth": 2
          }
         }
        },
        "title": {
         "text": "LDA - Projeção 1D das Classes"
        },
        "xaxis": {
         "anchor": "y",
         "domain": [
          0,
          1
         ],
         "title": {
          "text": "LDA1"
         }
        },
        "yaxis": {
         "anchor": "x",
         "domain": [
          0,
          1
         ],
         "title": {
          "text": ""
         }
        }
       }
      }
     },
     "metadata": {},
     "output_type": "display_data"
    }
   ],
   "source": [
    "lda = LinearDiscriminantAnalysis(n_components=1)\n",
    "# prepare transform on dataset\n",
    "lda.fit(x_train,y_train)\n",
    "# apply transform to dataset\n",
    "transformed = lda.transform(x_train)\n",
    "\n",
    "# Converter classes para nomes legíveis (1 → Healthy, 2 → With Cancer)\n",
    "y_labels = y_train.replace({1: \"Healthy\", 2: \"With Cancer\"})\n",
    "\n",
    "#Plot transformed data\n",
    "# Plot 1D estilo linha reta\n",
    "fig = px.scatter(\n",
    "    x=transformed.squeeze(),\n",
    "    y=np.zeros(transformed.shape[0]),\n",
    "    color=y_labels,\n",
    "    labels=dict(x=\"LDA1\", y=\"\", color=\"Classification\"),\n",
    "    title=\"LDA - Projeção 1D das Classes\"\n",
    ")\n",
    "\n",
    "fig.show()\n",
    "\n",
    "# Guardar os dois primeiros LDAs\n",
    "\n",
    "lda = LinearDiscriminantAnalysis(n_components=1)\n",
    "X_lda = lda.fit_transform(X, y_train)\n",
    "\n",
    "# Como só temos 2 classes, só temos uma componente \n",
    "LD1 = X_lda[:, 0]"
   ]
  },
  {
   "cell_type": "markdown",
   "id": "54b27250",
   "metadata": {},
   "source": [
    "### MDC"
   ]
  },
  {
   "cell_type": "code",
   "execution_count": 249,
   "id": "e8faaa75",
   "metadata": {},
   "outputs": [
    {
     "name": "stdout",
     "output_type": "stream",
     "text": [
      "gHealthy(x)=[[-0.5344393   0.27951407]]x-0.5[[0.36375348]]\n",
      "gCancer(x)=[[ 0.42964728 -0.22470739]]x-0.5[[0.2350902]]\n",
      "\n",
      "Sensitivity(%)=80.48780487804879\n",
      "Specificity(%)=50.98039215686274\n",
      "Precision(%)=56.896551724137936\n",
      "F1Score(%)=66.66666666666667\n",
      "Accuracy(%)=64.13043478260869\n"
     ]
    },
    {
     "data": {
      "application/vnd.plotly.v1+json": {
       "config": {
        "plotlyServerURL": "https://plot.ly"
       },
       "data": [
        {
         "marker": {
          "size": 10
         },
         "mode": "markers",
         "name": "Healthy",
         "type": "scatter",
         "x": [
          0.11213648699036252,
          -0.835379072289802,
          0.22456695011916833,
          -0.24415181387519866,
          -1.2056742221133228,
          0.3765405126813116,
          0.16266835347652445,
          -0.5309680623470074,
          0.9555758810996202,
          -0.7162675274489418,
          1.199515313054753,
          -2.0134274143401294,
          -0.7923669029328179,
          -0.13602496583868817,
          -1.202148230462638,
          2.2000196575579554,
          0.5166262543601119,
          -1.114258522852145,
          -2.0292274066215255,
          -1.1235869341860028,
          -1.6123809109552136,
          -1.981544625284102,
          -2.408702128813258,
          -2.5302007814355063,
          -0.2775435752435999,
          -0.9484729461467065,
          -0.8211329904157686,
          0.5083527538970778,
          1.218593492798822,
          -0.3556524230681129,
          -0.97157378051956,
          -0.5587360080486442,
          -0.4070227015098985,
          -2.0795513585705554,
          2.3122005792384397,
          0.7539084976338123,
          -0.47311443938919184,
          -0.7133863912455062,
          -2.2435357347254663,
          -1.2738986021472183,
          -0.8527856521123948
         ],
         "y": [
          0.6946138835259779,
          0.03486015329423301,
          -0.1368654951580494,
          0.7044832498520923,
          0.309383965198645,
          1.7012992433093446,
          0.23609241291795585,
          0.46634712260533895,
          1.9948513331467979,
          0.5284176256363159,
          0.17347239699462094,
          -0.15738490576442785,
          1.0621122719407676,
          0.38682035467991627,
          -1.0012222362201955,
          1.6711474688836399,
          0.3462534443966718,
          0.8515924838590931,
          -1.5941719444584816,
          0.1630099481400293,
          -0.6969155554760401,
          -1.7153091295187746,
          -2.9687516623731,
          -2.375243560819658,
          0.6639080983132545,
          0.12470310512995056,
          0.8380847940757497,
          1.9119181946079065,
          -1.1078712466393317,
          1.7305459170738615,
          0.1797462122337664,
          1.1809211616237556,
          0.8705758119809562,
          -1.0069407973655,
          3.2404737358517717,
          1.4224207127672448,
          0.9883503765148723,
          1.1748870055236127,
          -1.4625351053922373,
          -0.2471482486102457,
          0.2791443407366325
         ]
        },
        {
         "marker": {
          "size": 10
         },
         "mode": "markers",
         "name": "Cancer",
         "type": "scatter",
         "x": [
          1.3213447258220938,
          0.005420695631677819,
          0.6921428700174198,
          3.7046158927216166,
          0.6913407309803153,
          -1.3223650000418414,
          -1.3776201602780807,
          -0.8441283035530167,
          -0.3821603521886699,
          -0.2134920833986633,
          1.5517909224610322,
          1.1017414844888145,
          1.2395598327567279,
          0.26303336119829485,
          -1.7801302719516097,
          -1.9214023545653744,
          -1.3440080149944067,
          -0.6574690938646215,
          -0.5735327075774918,
          2.693259910120434,
          2.0233799518380677,
          1.0698945341383241,
          -0.1064742510218979,
          -1.3589097631974243,
          4.177314512905792,
          -2.0918195049131816,
          0.6281782839774328,
          -0.8621111336420404,
          -0.2852467713072245,
          7.540180253437925,
          -0.395253275568302,
          0.19712260084422503,
          -0.872084491421094,
          -0.5243469767190484,
          0.18573268362481118,
          -0.7016574429653986,
          -0.6528694056899654,
          -1.1563648155323467,
          2.353142852753652,
          2.3497379611681333,
          -1.2780859948749994,
          -1.1693379711229182,
          -0.8400649602040806,
          0.4333179906791002,
          1.5699223570156116,
          -0.26731833779480313,
          9.019588035655199,
          1.3616713567421288,
          0.437617207677027,
          -1.5480177414115606,
          -0.1727684368248262
         ],
         "y": [
          -0.5892429781889738,
          0.2863533700257311,
          1.2525067076134102,
          -1.8351901371076105,
          -2.5317603389732635,
          -0.9111298822562431,
          -0.29577020580245583,
          -0.15728033307656572,
          1.0474414420745686,
          0.9962453975537892,
          1.2084667538358453,
          0.1562195477734733,
          0.843977257506568,
          0.1588337294713745,
          -0.7893657387611317,
          -1.4740262780243016,
          -0.44908819179222564,
          -0.2980029051023343,
          0.7862814348444197,
          -1.1848320487068686,
          1.0092395196375905,
          0.5186066118477054,
          -0.09031465735737469,
          -0.3018688467020893,
          0.5201114939415921,
          -1.3563219896171403,
          1.1185091255010577,
          -0.23778519647823848,
          0.25443571116830677,
          -2.5849720364298885,
          -0.7729893691783483,
          0.9642138237514727,
          0.12339075117495599,
          -1.8812437054074334,
          0.04253774921928079,
          -2.695964922076327,
          0.6321341002567095,
          0.28754577025825456,
          -0.9139815142711974,
          -0.836588396356576,
          0.3111873737281388,
          -0.3579504028360205,
          -0.6099828772050947,
          0.051445392803469145,
          0.3580135750937241,
          -2.1426800265715835,
          -2.7845691324753825,
          1.6585787265913492,
          1.4232410915120337,
          -0.15827343582782277,
          0.7715821523789338
         ]
        },
        {
         "marker": {
          "color": "red",
          "line": {
           "color": "red",
           "width": 3
          },
          "size": 15,
          "symbol": "circle-open"
         },
         "mode": "markers",
         "name": "False Healthy",
         "type": "scatter",
         "x": [
          0.22456695011916833,
          0.16266835347652445,
          1.199515313054753,
          2.2000196575579554,
          0.5166262543601119,
          1.218593492798822,
          2.3122005792384397,
          0.7539084976338123
         ],
         "y": [
          -0.1368654951580494,
          0.23609241291795585,
          0.17347239699462094,
          1.6711474688836399,
          0.3462534443966718,
          -1.1078712466393317,
          3.2404737358517717,
          1.4224207127672448
         ]
        },
        {
         "marker": {
          "color": "blue",
          "line": {
           "color": "blue",
           "width": 3
          },
          "size": 15,
          "symbol": "circle-open"
         },
         "mode": "markers",
         "name": "False Cancer",
         "type": "scatter",
         "x": [
          0.005420695631677819,
          -1.3223650000418414,
          -1.3776201602780807,
          -0.8441283035530167,
          -0.3821603521886699,
          -0.2134920833986633,
          -1.7801302719516097,
          -1.9214023545653744,
          -1.3440080149944067,
          -0.6574690938646215,
          -0.5735327075774918,
          -1.3589097631974243,
          -2.0918195049131816,
          -0.8621111336420404,
          -0.2852467713072245,
          0.19712260084422503,
          -0.872084491421094,
          -0.6528694056899654,
          -1.1563648155323467,
          -1.2780859948749994,
          -1.1693379711229182,
          -0.8400649602040806,
          0.437617207677027,
          -1.5480177414115606,
          -0.1727684368248262
         ],
         "y": [
          0.2863533700257311,
          -0.9111298822562431,
          -0.29577020580245583,
          -0.15728033307656572,
          1.0474414420745686,
          0.9962453975537892,
          -0.7893657387611317,
          -1.4740262780243016,
          -0.44908819179222564,
          -0.2980029051023343,
          0.7862814348444197,
          -0.3018688467020893,
          -1.3563219896171403,
          -0.23778519647823848,
          0.25443571116830677,
          0.9642138237514727,
          0.12339075117495599,
          0.6321341002567095,
          0.28754577025825456,
          0.3111873737281388,
          -0.3579504028360205,
          -0.6099828772050947,
          1.4232410915120337,
          -0.15827343582782277,
          0.7715821523789338
         ]
        },
        {
         "marker": {
          "color": "green",
          "line": {
           "color": "black",
           "width": 1
          },
          "size": 20,
          "symbol": "x"
         },
         "mode": "markers",
         "name": "Healthy mean",
         "type": "scatter",
         "x": [
          -0.5344393022446576
         ],
         "y": [
          0.27951407163460323
         ]
        },
        {
         "marker": {
          "color": "yellow",
          "line": {
           "color": "black",
           "width": 1
          },
          "size": 20,
          "symbol": "x"
         },
         "mode": "markers",
         "name": "Cancer mean",
         "type": "scatter",
         "x": [
          0.4296472821966857
         ],
         "y": [
          -0.22470739092193603
         ]
        },
        {
         "marker": {
          "color": "purple",
          "line": {
           "color": "black",
           "width": 1
          },
          "size": 20,
          "symbol": "circle-dot"
         },
         "mode": "markers",
         "name": "Mean of the means",
         "type": "scatter",
         "x": [
          -0.05239601002398597
         ],
         "y": [
          0.0274033403563336
         ]
        },
        {
         "line": {
          "color": "black",
          "width": 4
         },
         "mode": "lines",
         "name": "Inter mean segment",
         "type": "scatter",
         "x": [
          -0.5344393022446576,
          0.4296472821966857
         ],
         "y": [
          0.27951407163460323,
          -0.22470739092193603
         ]
        },
        {
         "line": {
          "color": "gray",
          "dash": "dash",
          "width": 4
         },
         "mode": "lines",
         "name": "Hyperplane",
         "type": "scatter",
         "x": [
          20,
          21,
          22,
          23,
          24,
          25,
          26,
          27,
          28,
          29,
          30,
          31,
          32,
          33,
          34,
          35,
          36,
          37,
          38,
          39,
          40,
          41,
          42,
          43,
          44,
          45,
          46,
          47,
          48,
          49,
          50,
          51,
          52,
          53,
          54,
          55,
          56,
          57,
          58,
          59,
          60,
          61,
          62,
          63,
          64,
          65,
          66,
          67,
          68,
          69,
          70,
          71,
          72,
          73,
          74,
          75,
          76,
          77,
          78,
          79,
          80,
          81,
          82,
          83,
          84,
          85,
          86,
          87,
          88,
          89,
          90,
          91,
          92,
          93,
          94,
          95,
          96,
          97,
          98,
          99,
          100,
          101,
          102,
          103,
          104,
          105,
          106,
          107,
          108,
          109,
          110,
          111,
          112,
          113,
          114,
          115,
          116,
          117,
          118,
          119,
          120,
          121,
          122,
          123,
          124,
          125,
          126,
          127,
          128,
          129
         ],
         "y": [
          38.36818693403662,
          40.2802169764572,
          42.19224701887777,
          44.10427706129835,
          46.016307103718916,
          47.92833714613949,
          49.840367188560066,
          51.752397230980634,
          53.66442727340121,
          55.576457315821784,
          57.48848735824236,
          59.40051740066293,
          61.3125474430835,
          63.22457748550408,
          65.13660752792465,
          67.04863757034524,
          68.9606676127658,
          70.87269765518637,
          72.78472769760695,
          74.69675774002752,
          76.60878778244809,
          78.52081782486867,
          80.43284786728924,
          82.34487790970981,
          84.25690795213039,
          86.16893799455096,
          88.08096803697154,
          89.99299807939211,
          91.90502812181268,
          93.81705816423326,
          95.72908820665383,
          97.6411182490744,
          99.55314829149498,
          101.46517833391555,
          103.37720837633611,
          105.2892384187567,
          107.20126846117726,
          109.11329850359783,
          111.02532854601841,
          112.93735858843898,
          114.84938863085956,
          116.76141867328013,
          118.6734487157007,
          120.58547875812128,
          122.49750880054185,
          124.40953884296242,
          126.321568885383,
          128.23359892780357,
          130.14562897022412,
          132.0576590126447,
          133.9696890550653,
          135.88171909748584,
          137.79374913990642,
          139.705779182327,
          141.61780922474756,
          143.52983926716814,
          145.44186930958872,
          147.35389935200928,
          149.26592939442986,
          151.17795943685044,
          153.089989479271,
          155.00201952169158,
          156.91404956411216,
          158.82607960653272,
          160.7381096489533,
          162.65013969137388,
          164.56216973379443,
          166.47419977621502,
          168.3862298186356,
          170.29825986105615,
          172.21028990347673,
          174.12231994589732,
          176.0343499883179,
          177.94638003073845,
          179.85841007315904,
          181.77044011557962,
          183.68247015800017,
          185.59450020042075,
          187.50653024284134,
          189.4185602852619,
          191.33059032768247,
          193.24262037010305,
          195.1546504125236,
          197.0666804549442,
          198.97871049736477,
          200.89074053978533,
          202.8027705822059,
          204.7148006246265,
          206.62683066704705,
          208.53886070946763,
          210.4508907518882,
          212.36292079430876,
          214.27495083672935,
          216.18698087914993,
          218.09901092157048,
          220.01104096399106,
          221.92307100641165,
          223.83510104883223,
          225.74713109125278,
          227.65916113367336,
          229.57119117609395,
          231.4832212185145,
          233.39525126093508,
          235.30728130335567,
          237.21931134577622,
          239.1313413881968,
          241.04337143061738,
          242.95540147303794,
          244.86743151545852,
          246.7794615578791
         ]
        }
       ],
       "layout": {
        "autosize": false,
        "height": 800,
        "template": {
         "data": {
          "bar": [
           {
            "error_x": {
             "color": "#2a3f5f"
            },
            "error_y": {
             "color": "#2a3f5f"
            },
            "marker": {
             "line": {
              "color": "#E5ECF6",
              "width": 0.5
             },
             "pattern": {
              "fillmode": "overlay",
              "size": 10,
              "solidity": 0.2
             }
            },
            "type": "bar"
           }
          ],
          "barpolar": [
           {
            "marker": {
             "line": {
              "color": "#E5ECF6",
              "width": 0.5
             },
             "pattern": {
              "fillmode": "overlay",
              "size": 10,
              "solidity": 0.2
             }
            },
            "type": "barpolar"
           }
          ],
          "carpet": [
           {
            "aaxis": {
             "endlinecolor": "#2a3f5f",
             "gridcolor": "white",
             "linecolor": "white",
             "minorgridcolor": "white",
             "startlinecolor": "#2a3f5f"
            },
            "baxis": {
             "endlinecolor": "#2a3f5f",
             "gridcolor": "white",
             "linecolor": "white",
             "minorgridcolor": "white",
             "startlinecolor": "#2a3f5f"
            },
            "type": "carpet"
           }
          ],
          "choropleth": [
           {
            "colorbar": {
             "outlinewidth": 0,
             "ticks": ""
            },
            "type": "choropleth"
           }
          ],
          "contour": [
           {
            "colorbar": {
             "outlinewidth": 0,
             "ticks": ""
            },
            "colorscale": [
             [
              0,
              "#0d0887"
             ],
             [
              0.1111111111111111,
              "#46039f"
             ],
             [
              0.2222222222222222,
              "#7201a8"
             ],
             [
              0.3333333333333333,
              "#9c179e"
             ],
             [
              0.4444444444444444,
              "#bd3786"
             ],
             [
              0.5555555555555556,
              "#d8576b"
             ],
             [
              0.6666666666666666,
              "#ed7953"
             ],
             [
              0.7777777777777778,
              "#fb9f3a"
             ],
             [
              0.8888888888888888,
              "#fdca26"
             ],
             [
              1,
              "#f0f921"
             ]
            ],
            "type": "contour"
           }
          ],
          "contourcarpet": [
           {
            "colorbar": {
             "outlinewidth": 0,
             "ticks": ""
            },
            "type": "contourcarpet"
           }
          ],
          "heatmap": [
           {
            "colorbar": {
             "outlinewidth": 0,
             "ticks": ""
            },
            "colorscale": [
             [
              0,
              "#0d0887"
             ],
             [
              0.1111111111111111,
              "#46039f"
             ],
             [
              0.2222222222222222,
              "#7201a8"
             ],
             [
              0.3333333333333333,
              "#9c179e"
             ],
             [
              0.4444444444444444,
              "#bd3786"
             ],
             [
              0.5555555555555556,
              "#d8576b"
             ],
             [
              0.6666666666666666,
              "#ed7953"
             ],
             [
              0.7777777777777778,
              "#fb9f3a"
             ],
             [
              0.8888888888888888,
              "#fdca26"
             ],
             [
              1,
              "#f0f921"
             ]
            ],
            "type": "heatmap"
           }
          ],
          "heatmapgl": [
           {
            "colorbar": {
             "outlinewidth": 0,
             "ticks": ""
            },
            "colorscale": [
             [
              0,
              "#0d0887"
             ],
             [
              0.1111111111111111,
              "#46039f"
             ],
             [
              0.2222222222222222,
              "#7201a8"
             ],
             [
              0.3333333333333333,
              "#9c179e"
             ],
             [
              0.4444444444444444,
              "#bd3786"
             ],
             [
              0.5555555555555556,
              "#d8576b"
             ],
             [
              0.6666666666666666,
              "#ed7953"
             ],
             [
              0.7777777777777778,
              "#fb9f3a"
             ],
             [
              0.8888888888888888,
              "#fdca26"
             ],
             [
              1,
              "#f0f921"
             ]
            ],
            "type": "heatmapgl"
           }
          ],
          "histogram": [
           {
            "marker": {
             "pattern": {
              "fillmode": "overlay",
              "size": 10,
              "solidity": 0.2
             }
            },
            "type": "histogram"
           }
          ],
          "histogram2d": [
           {
            "colorbar": {
             "outlinewidth": 0,
             "ticks": ""
            },
            "colorscale": [
             [
              0,
              "#0d0887"
             ],
             [
              0.1111111111111111,
              "#46039f"
             ],
             [
              0.2222222222222222,
              "#7201a8"
             ],
             [
              0.3333333333333333,
              "#9c179e"
             ],
             [
              0.4444444444444444,
              "#bd3786"
             ],
             [
              0.5555555555555556,
              "#d8576b"
             ],
             [
              0.6666666666666666,
              "#ed7953"
             ],
             [
              0.7777777777777778,
              "#fb9f3a"
             ],
             [
              0.8888888888888888,
              "#fdca26"
             ],
             [
              1,
              "#f0f921"
             ]
            ],
            "type": "histogram2d"
           }
          ],
          "histogram2dcontour": [
           {
            "colorbar": {
             "outlinewidth": 0,
             "ticks": ""
            },
            "colorscale": [
             [
              0,
              "#0d0887"
             ],
             [
              0.1111111111111111,
              "#46039f"
             ],
             [
              0.2222222222222222,
              "#7201a8"
             ],
             [
              0.3333333333333333,
              "#9c179e"
             ],
             [
              0.4444444444444444,
              "#bd3786"
             ],
             [
              0.5555555555555556,
              "#d8576b"
             ],
             [
              0.6666666666666666,
              "#ed7953"
             ],
             [
              0.7777777777777778,
              "#fb9f3a"
             ],
             [
              0.8888888888888888,
              "#fdca26"
             ],
             [
              1,
              "#f0f921"
             ]
            ],
            "type": "histogram2dcontour"
           }
          ],
          "mesh3d": [
           {
            "colorbar": {
             "outlinewidth": 0,
             "ticks": ""
            },
            "type": "mesh3d"
           }
          ],
          "parcoords": [
           {
            "line": {
             "colorbar": {
              "outlinewidth": 0,
              "ticks": ""
             }
            },
            "type": "parcoords"
           }
          ],
          "pie": [
           {
            "automargin": true,
            "type": "pie"
           }
          ],
          "scatter": [
           {
            "fillpattern": {
             "fillmode": "overlay",
             "size": 10,
             "solidity": 0.2
            },
            "type": "scatter"
           }
          ],
          "scatter3d": [
           {
            "line": {
             "colorbar": {
              "outlinewidth": 0,
              "ticks": ""
             }
            },
            "marker": {
             "colorbar": {
              "outlinewidth": 0,
              "ticks": ""
             }
            },
            "type": "scatter3d"
           }
          ],
          "scattercarpet": [
           {
            "marker": {
             "colorbar": {
              "outlinewidth": 0,
              "ticks": ""
             }
            },
            "type": "scattercarpet"
           }
          ],
          "scattergeo": [
           {
            "marker": {
             "colorbar": {
              "outlinewidth": 0,
              "ticks": ""
             }
            },
            "type": "scattergeo"
           }
          ],
          "scattergl": [
           {
            "marker": {
             "colorbar": {
              "outlinewidth": 0,
              "ticks": ""
             }
            },
            "type": "scattergl"
           }
          ],
          "scattermapbox": [
           {
            "marker": {
             "colorbar": {
              "outlinewidth": 0,
              "ticks": ""
             }
            },
            "type": "scattermapbox"
           }
          ],
          "scatterpolar": [
           {
            "marker": {
             "colorbar": {
              "outlinewidth": 0,
              "ticks": ""
             }
            },
            "type": "scatterpolar"
           }
          ],
          "scatterpolargl": [
           {
            "marker": {
             "colorbar": {
              "outlinewidth": 0,
              "ticks": ""
             }
            },
            "type": "scatterpolargl"
           }
          ],
          "scatterternary": [
           {
            "marker": {
             "colorbar": {
              "outlinewidth": 0,
              "ticks": ""
             }
            },
            "type": "scatterternary"
           }
          ],
          "surface": [
           {
            "colorbar": {
             "outlinewidth": 0,
             "ticks": ""
            },
            "colorscale": [
             [
              0,
              "#0d0887"
             ],
             [
              0.1111111111111111,
              "#46039f"
             ],
             [
              0.2222222222222222,
              "#7201a8"
             ],
             [
              0.3333333333333333,
              "#9c179e"
             ],
             [
              0.4444444444444444,
              "#bd3786"
             ],
             [
              0.5555555555555556,
              "#d8576b"
             ],
             [
              0.6666666666666666,
              "#ed7953"
             ],
             [
              0.7777777777777778,
              "#fb9f3a"
             ],
             [
              0.8888888888888888,
              "#fdca26"
             ],
             [
              1,
              "#f0f921"
             ]
            ],
            "type": "surface"
           }
          ],
          "table": [
           {
            "cells": {
             "fill": {
              "color": "#EBF0F8"
             },
             "line": {
              "color": "white"
             }
            },
            "header": {
             "fill": {
              "color": "#C8D4E3"
             },
             "line": {
              "color": "white"
             }
            },
            "type": "table"
           }
          ]
         },
         "layout": {
          "annotationdefaults": {
           "arrowcolor": "#2a3f5f",
           "arrowhead": 0,
           "arrowwidth": 1
          },
          "autotypenumbers": "strict",
          "coloraxis": {
           "colorbar": {
            "outlinewidth": 0,
            "ticks": ""
           }
          },
          "colorscale": {
           "diverging": [
            [
             0,
             "#8e0152"
            ],
            [
             0.1,
             "#c51b7d"
            ],
            [
             0.2,
             "#de77ae"
            ],
            [
             0.3,
             "#f1b6da"
            ],
            [
             0.4,
             "#fde0ef"
            ],
            [
             0.5,
             "#f7f7f7"
            ],
            [
             0.6,
             "#e6f5d0"
            ],
            [
             0.7,
             "#b8e186"
            ],
            [
             0.8,
             "#7fbc41"
            ],
            [
             0.9,
             "#4d9221"
            ],
            [
             1,
             "#276419"
            ]
           ],
           "sequential": [
            [
             0,
             "#0d0887"
            ],
            [
             0.1111111111111111,
             "#46039f"
            ],
            [
             0.2222222222222222,
             "#7201a8"
            ],
            [
             0.3333333333333333,
             "#9c179e"
            ],
            [
             0.4444444444444444,
             "#bd3786"
            ],
            [
             0.5555555555555556,
             "#d8576b"
            ],
            [
             0.6666666666666666,
             "#ed7953"
            ],
            [
             0.7777777777777778,
             "#fb9f3a"
            ],
            [
             0.8888888888888888,
             "#fdca26"
            ],
            [
             1,
             "#f0f921"
            ]
           ],
           "sequentialminus": [
            [
             0,
             "#0d0887"
            ],
            [
             0.1111111111111111,
             "#46039f"
            ],
            [
             0.2222222222222222,
             "#7201a8"
            ],
            [
             0.3333333333333333,
             "#9c179e"
            ],
            [
             0.4444444444444444,
             "#bd3786"
            ],
            [
             0.5555555555555556,
             "#d8576b"
            ],
            [
             0.6666666666666666,
             "#ed7953"
            ],
            [
             0.7777777777777778,
             "#fb9f3a"
            ],
            [
             0.8888888888888888,
             "#fdca26"
            ],
            [
             1,
             "#f0f921"
            ]
           ]
          },
          "colorway": [
           "#636efa",
           "#EF553B",
           "#00cc96",
           "#ab63fa",
           "#FFA15A",
           "#19d3f3",
           "#FF6692",
           "#B6E880",
           "#FF97FF",
           "#FECB52"
          ],
          "font": {
           "color": "#2a3f5f"
          },
          "geo": {
           "bgcolor": "white",
           "lakecolor": "white",
           "landcolor": "#E5ECF6",
           "showlakes": true,
           "showland": true,
           "subunitcolor": "white"
          },
          "hoverlabel": {
           "align": "left"
          },
          "hovermode": "closest",
          "mapbox": {
           "style": "light"
          },
          "paper_bgcolor": "white",
          "plot_bgcolor": "#E5ECF6",
          "polar": {
           "angularaxis": {
            "gridcolor": "white",
            "linecolor": "white",
            "ticks": ""
           },
           "bgcolor": "#E5ECF6",
           "radialaxis": {
            "gridcolor": "white",
            "linecolor": "white",
            "ticks": ""
           }
          },
          "scene": {
           "xaxis": {
            "backgroundcolor": "#E5ECF6",
            "gridcolor": "white",
            "gridwidth": 2,
            "linecolor": "white",
            "showbackground": true,
            "ticks": "",
            "zerolinecolor": "white"
           },
           "yaxis": {
            "backgroundcolor": "#E5ECF6",
            "gridcolor": "white",
            "gridwidth": 2,
            "linecolor": "white",
            "showbackground": true,
            "ticks": "",
            "zerolinecolor": "white"
           },
           "zaxis": {
            "backgroundcolor": "#E5ECF6",
            "gridcolor": "white",
            "gridwidth": 2,
            "linecolor": "white",
            "showbackground": true,
            "ticks": "",
            "zerolinecolor": "white"
           }
          },
          "shapedefaults": {
           "line": {
            "color": "#2a3f5f"
           }
          },
          "ternary": {
           "aaxis": {
            "gridcolor": "white",
            "linecolor": "white",
            "ticks": ""
           },
           "baxis": {
            "gridcolor": "white",
            "linecolor": "white",
            "ticks": ""
           },
           "bgcolor": "#E5ECF6",
           "caxis": {
            "gridcolor": "white",
            "linecolor": "white",
            "ticks": ""
           }
          },
          "title": {
           "x": 0.05
          },
          "xaxis": {
           "automargin": true,
           "gridcolor": "white",
           "linecolor": "white",
           "ticks": "",
           "title": {
            "standoff": 15
           },
           "zerolinecolor": "white",
           "zerolinewidth": 2
          },
          "yaxis": {
           "automargin": true,
           "gridcolor": "white",
           "linecolor": "white",
           "ticks": "",
           "title": {
            "standoff": 15
           },
           "zerolinecolor": "white",
           "zerolinewidth": 2
          }
         }
        },
        "title": {
         "text": "Euclidean MDC - PCA1 vs PCA2"
        },
        "width": 900,
        "xaxis": {
         "title": {
          "text": "PC1"
         }
        },
        "yaxis": {
         "title": {
          "text": "PC2"
         }
        }
       }
      }
     },
     "metadata": {},
     "output_type": "display_data"
    },
    {
     "name": "stdout",
     "output_type": "stream",
     "text": [
      "gHealthy(x) = 0.13726844251864312x - 0.50.01884262531149403\n",
      "gCancer(x)  = -0.11035306163263456x - 0.50.012177798211696041\n",
      "\n",
      "Sensitivity(%) = 17.073170731707318\n",
      "Specificity(%) = 29.411764705882355\n",
      "Precision(%) = 16.27906976744186\n",
      "F1Score(%) = 16.666666666666668\n",
      "Accuracy(%) = 23.91304347826087\n"
     ]
    },
    {
     "data": {
      "application/vnd.plotly.v1+json": {
       "config": {
        "plotlyServerURL": "https://plot.ly"
       },
       "data": [
        {
         "marker": {
          "color": "green",
          "size": 10
         },
         "mode": "markers",
         "name": "Healthy",
         "type": "scatter",
         "x": [
          1.29732449310857,
          0.48149499517243977,
          -0.4845079434425526,
          -0.7756769696141784,
          1.8171014899796998,
          2.261239540441156,
          -0.5484617986665424,
          0.6245898912613309,
          0.7460463016877481,
          -0.9721223141804806,
          -1.4214699558469617,
          -0.6985152855521242,
          1.5910389047135256,
          -0.02471337183658748,
          0.23278688151095933,
          -0.08155769158068929,
          0.6695819614462478,
          -2.0764484144813733,
          -0.18673407527438118,
          0.7021938780283011,
          1.436283121233882,
          0.61844877143191,
          -0.536092150825036,
          -0.7617254398967515,
          -1.0699911612666853,
          -1.3792425221142675,
          1.0862242473679713,
          -0.568389783503489,
          -1.1063600020760909,
          1.617221162431557,
          1.9081536700341217,
          -1.3155219276329277,
          0.8749183750517487,
          0.8555061575167835,
          5.41629784662633,
          -0.268986425470043,
          -1.205470181231561,
          0.24082782070148895,
          -1.6995107320724654,
          -0.9980366795962103,
          -0.6697385403200063
         ],
         "y": [
          0,
          0,
          0,
          0,
          0,
          0,
          0,
          0,
          0,
          0,
          0,
          0,
          0,
          0,
          0,
          0,
          0,
          0,
          0,
          0,
          0,
          0,
          0,
          0,
          0,
          0,
          0,
          0,
          0,
          0,
          0,
          0,
          0,
          0,
          0,
          0,
          0,
          0,
          0,
          0,
          0
         ]
        },
        {
         "marker": {
          "color": "orange",
          "size": 10
         },
         "mode": "markers",
         "name": "Cancer",
         "type": "scatter",
         "x": [
          -0.2078883807618227,
          0.612220794806502,
          -0.6746172005755651,
          -0.49237701648881893,
          -1.1405111327738318,
          -0.872860238444093,
          0.6568843292448742,
          -1.0638875751004138,
          2.1344651939857084,
          0.10194588168349356,
          1.4935580807577002,
          -0.00394148237810912,
          0.35204886586600964,
          -0.3837613867716238,
          1.5151600162608023,
          0.12678818883847134,
          -1.37128945167872,
          1.5234577800589133,
          1.691443111643992,
          -1.117170603336429,
          -0.8003506241961572,
          -0.48871081197356925,
          -1.2916161325293682,
          -0.15812464911132648,
          -1.203341853215109,
          0.8302831884188061,
          1.0637908195309451,
          -2.5101631022895634,
          0.7256489293188412,
          -0.8303654692351667,
          0.17617171342367072,
          0.05269308312481998,
          0.9859454493902661,
          -1.4974706272814808,
          -0.6046015743659047,
          0.07792651713050708,
          0.9599544362442908,
          1.7547874306976001,
          -1.4005283251059788,
          -0.8318328874794502,
          0.4979586923770401,
          -0.9276810268359879,
          -0.9925223607119873,
          -1.331038842625276,
          -0.7117361582010716,
          0.022470979502504308,
          0.08004614208640619,
          -0.8030991708123667,
          1.1112989641806992,
          0.194782354536695,
          -0.6582490020947303
         ],
         "y": [
          0,
          0,
          0,
          0,
          0,
          0,
          0,
          0,
          0,
          0,
          0,
          0,
          0,
          0,
          0,
          0,
          0,
          0,
          0,
          0,
          0,
          0,
          0,
          0,
          0,
          0,
          0,
          0,
          0,
          0,
          0,
          0,
          0,
          0,
          0,
          0,
          0,
          0,
          0,
          0,
          0,
          0,
          0,
          0,
          0,
          0,
          0,
          0,
          0,
          0,
          0
         ]
        },
        {
         "marker": {
          "color": "green",
          "size": 15,
          "symbol": "x"
         },
         "mode": "markers",
         "name": "Healthy mean",
         "type": "scatter",
         "x": [
          0.13726844251864312
         ],
         "y": [
          0
         ]
        },
        {
         "marker": {
          "color": "yellow",
          "size": 15,
          "symbol": "x"
         },
         "mode": "markers",
         "name": "Cancer mean",
         "type": "scatter",
         "x": [
          -0.11035306163263456
         ],
         "y": [
          0
         ]
        },
        {
         "marker": {
          "color": "purple",
          "size": 15,
          "symbol": "circle"
         },
         "mode": "markers",
         "name": "Decision Boundary",
         "type": "scatter",
         "x": [
          0.01345769044300428
         ],
         "y": [
          0
         ]
        },
        {
         "line": {
          "color": "black",
          "width": 3
         },
         "mode": "lines",
         "name": "Inter mean segment",
         "type": "scatter",
         "x": [
          0.13726844251864312,
          -0.11035306163263456
         ],
         "y": [
          0,
          0
         ]
        }
       ],
       "layout": {
        "height": 400,
        "showlegend": true,
        "template": {
         "data": {
          "bar": [
           {
            "error_x": {
             "color": "#2a3f5f"
            },
            "error_y": {
             "color": "#2a3f5f"
            },
            "marker": {
             "line": {
              "color": "#E5ECF6",
              "width": 0.5
             },
             "pattern": {
              "fillmode": "overlay",
              "size": 10,
              "solidity": 0.2
             }
            },
            "type": "bar"
           }
          ],
          "barpolar": [
           {
            "marker": {
             "line": {
              "color": "#E5ECF6",
              "width": 0.5
             },
             "pattern": {
              "fillmode": "overlay",
              "size": 10,
              "solidity": 0.2
             }
            },
            "type": "barpolar"
           }
          ],
          "carpet": [
           {
            "aaxis": {
             "endlinecolor": "#2a3f5f",
             "gridcolor": "white",
             "linecolor": "white",
             "minorgridcolor": "white",
             "startlinecolor": "#2a3f5f"
            },
            "baxis": {
             "endlinecolor": "#2a3f5f",
             "gridcolor": "white",
             "linecolor": "white",
             "minorgridcolor": "white",
             "startlinecolor": "#2a3f5f"
            },
            "type": "carpet"
           }
          ],
          "choropleth": [
           {
            "colorbar": {
             "outlinewidth": 0,
             "ticks": ""
            },
            "type": "choropleth"
           }
          ],
          "contour": [
           {
            "colorbar": {
             "outlinewidth": 0,
             "ticks": ""
            },
            "colorscale": [
             [
              0,
              "#0d0887"
             ],
             [
              0.1111111111111111,
              "#46039f"
             ],
             [
              0.2222222222222222,
              "#7201a8"
             ],
             [
              0.3333333333333333,
              "#9c179e"
             ],
             [
              0.4444444444444444,
              "#bd3786"
             ],
             [
              0.5555555555555556,
              "#d8576b"
             ],
             [
              0.6666666666666666,
              "#ed7953"
             ],
             [
              0.7777777777777778,
              "#fb9f3a"
             ],
             [
              0.8888888888888888,
              "#fdca26"
             ],
             [
              1,
              "#f0f921"
             ]
            ],
            "type": "contour"
           }
          ],
          "contourcarpet": [
           {
            "colorbar": {
             "outlinewidth": 0,
             "ticks": ""
            },
            "type": "contourcarpet"
           }
          ],
          "heatmap": [
           {
            "colorbar": {
             "outlinewidth": 0,
             "ticks": ""
            },
            "colorscale": [
             [
              0,
              "#0d0887"
             ],
             [
              0.1111111111111111,
              "#46039f"
             ],
             [
              0.2222222222222222,
              "#7201a8"
             ],
             [
              0.3333333333333333,
              "#9c179e"
             ],
             [
              0.4444444444444444,
              "#bd3786"
             ],
             [
              0.5555555555555556,
              "#d8576b"
             ],
             [
              0.6666666666666666,
              "#ed7953"
             ],
             [
              0.7777777777777778,
              "#fb9f3a"
             ],
             [
              0.8888888888888888,
              "#fdca26"
             ],
             [
              1,
              "#f0f921"
             ]
            ],
            "type": "heatmap"
           }
          ],
          "heatmapgl": [
           {
            "colorbar": {
             "outlinewidth": 0,
             "ticks": ""
            },
            "colorscale": [
             [
              0,
              "#0d0887"
             ],
             [
              0.1111111111111111,
              "#46039f"
             ],
             [
              0.2222222222222222,
              "#7201a8"
             ],
             [
              0.3333333333333333,
              "#9c179e"
             ],
             [
              0.4444444444444444,
              "#bd3786"
             ],
             [
              0.5555555555555556,
              "#d8576b"
             ],
             [
              0.6666666666666666,
              "#ed7953"
             ],
             [
              0.7777777777777778,
              "#fb9f3a"
             ],
             [
              0.8888888888888888,
              "#fdca26"
             ],
             [
              1,
              "#f0f921"
             ]
            ],
            "type": "heatmapgl"
           }
          ],
          "histogram": [
           {
            "marker": {
             "pattern": {
              "fillmode": "overlay",
              "size": 10,
              "solidity": 0.2
             }
            },
            "type": "histogram"
           }
          ],
          "histogram2d": [
           {
            "colorbar": {
             "outlinewidth": 0,
             "ticks": ""
            },
            "colorscale": [
             [
              0,
              "#0d0887"
             ],
             [
              0.1111111111111111,
              "#46039f"
             ],
             [
              0.2222222222222222,
              "#7201a8"
             ],
             [
              0.3333333333333333,
              "#9c179e"
             ],
             [
              0.4444444444444444,
              "#bd3786"
             ],
             [
              0.5555555555555556,
              "#d8576b"
             ],
             [
              0.6666666666666666,
              "#ed7953"
             ],
             [
              0.7777777777777778,
              "#fb9f3a"
             ],
             [
              0.8888888888888888,
              "#fdca26"
             ],
             [
              1,
              "#f0f921"
             ]
            ],
            "type": "histogram2d"
           }
          ],
          "histogram2dcontour": [
           {
            "colorbar": {
             "outlinewidth": 0,
             "ticks": ""
            },
            "colorscale": [
             [
              0,
              "#0d0887"
             ],
             [
              0.1111111111111111,
              "#46039f"
             ],
             [
              0.2222222222222222,
              "#7201a8"
             ],
             [
              0.3333333333333333,
              "#9c179e"
             ],
             [
              0.4444444444444444,
              "#bd3786"
             ],
             [
              0.5555555555555556,
              "#d8576b"
             ],
             [
              0.6666666666666666,
              "#ed7953"
             ],
             [
              0.7777777777777778,
              "#fb9f3a"
             ],
             [
              0.8888888888888888,
              "#fdca26"
             ],
             [
              1,
              "#f0f921"
             ]
            ],
            "type": "histogram2dcontour"
           }
          ],
          "mesh3d": [
           {
            "colorbar": {
             "outlinewidth": 0,
             "ticks": ""
            },
            "type": "mesh3d"
           }
          ],
          "parcoords": [
           {
            "line": {
             "colorbar": {
              "outlinewidth": 0,
              "ticks": ""
             }
            },
            "type": "parcoords"
           }
          ],
          "pie": [
           {
            "automargin": true,
            "type": "pie"
           }
          ],
          "scatter": [
           {
            "fillpattern": {
             "fillmode": "overlay",
             "size": 10,
             "solidity": 0.2
            },
            "type": "scatter"
           }
          ],
          "scatter3d": [
           {
            "line": {
             "colorbar": {
              "outlinewidth": 0,
              "ticks": ""
             }
            },
            "marker": {
             "colorbar": {
              "outlinewidth": 0,
              "ticks": ""
             }
            },
            "type": "scatter3d"
           }
          ],
          "scattercarpet": [
           {
            "marker": {
             "colorbar": {
              "outlinewidth": 0,
              "ticks": ""
             }
            },
            "type": "scattercarpet"
           }
          ],
          "scattergeo": [
           {
            "marker": {
             "colorbar": {
              "outlinewidth": 0,
              "ticks": ""
             }
            },
            "type": "scattergeo"
           }
          ],
          "scattergl": [
           {
            "marker": {
             "colorbar": {
              "outlinewidth": 0,
              "ticks": ""
             }
            },
            "type": "scattergl"
           }
          ],
          "scattermapbox": [
           {
            "marker": {
             "colorbar": {
              "outlinewidth": 0,
              "ticks": ""
             }
            },
            "type": "scattermapbox"
           }
          ],
          "scatterpolar": [
           {
            "marker": {
             "colorbar": {
              "outlinewidth": 0,
              "ticks": ""
             }
            },
            "type": "scatterpolar"
           }
          ],
          "scatterpolargl": [
           {
            "marker": {
             "colorbar": {
              "outlinewidth": 0,
              "ticks": ""
             }
            },
            "type": "scatterpolargl"
           }
          ],
          "scatterternary": [
           {
            "marker": {
             "colorbar": {
              "outlinewidth": 0,
              "ticks": ""
             }
            },
            "type": "scatterternary"
           }
          ],
          "surface": [
           {
            "colorbar": {
             "outlinewidth": 0,
             "ticks": ""
            },
            "colorscale": [
             [
              0,
              "#0d0887"
             ],
             [
              0.1111111111111111,
              "#46039f"
             ],
             [
              0.2222222222222222,
              "#7201a8"
             ],
             [
              0.3333333333333333,
              "#9c179e"
             ],
             [
              0.4444444444444444,
              "#bd3786"
             ],
             [
              0.5555555555555556,
              "#d8576b"
             ],
             [
              0.6666666666666666,
              "#ed7953"
             ],
             [
              0.7777777777777778,
              "#fb9f3a"
             ],
             [
              0.8888888888888888,
              "#fdca26"
             ],
             [
              1,
              "#f0f921"
             ]
            ],
            "type": "surface"
           }
          ],
          "table": [
           {
            "cells": {
             "fill": {
              "color": "#EBF0F8"
             },
             "line": {
              "color": "white"
             }
            },
            "header": {
             "fill": {
              "color": "#C8D4E3"
             },
             "line": {
              "color": "white"
             }
            },
            "type": "table"
           }
          ]
         },
         "layout": {
          "annotationdefaults": {
           "arrowcolor": "#2a3f5f",
           "arrowhead": 0,
           "arrowwidth": 1
          },
          "autotypenumbers": "strict",
          "coloraxis": {
           "colorbar": {
            "outlinewidth": 0,
            "ticks": ""
           }
          },
          "colorscale": {
           "diverging": [
            [
             0,
             "#8e0152"
            ],
            [
             0.1,
             "#c51b7d"
            ],
            [
             0.2,
             "#de77ae"
            ],
            [
             0.3,
             "#f1b6da"
            ],
            [
             0.4,
             "#fde0ef"
            ],
            [
             0.5,
             "#f7f7f7"
            ],
            [
             0.6,
             "#e6f5d0"
            ],
            [
             0.7,
             "#b8e186"
            ],
            [
             0.8,
             "#7fbc41"
            ],
            [
             0.9,
             "#4d9221"
            ],
            [
             1,
             "#276419"
            ]
           ],
           "sequential": [
            [
             0,
             "#0d0887"
            ],
            [
             0.1111111111111111,
             "#46039f"
            ],
            [
             0.2222222222222222,
             "#7201a8"
            ],
            [
             0.3333333333333333,
             "#9c179e"
            ],
            [
             0.4444444444444444,
             "#bd3786"
            ],
            [
             0.5555555555555556,
             "#d8576b"
            ],
            [
             0.6666666666666666,
             "#ed7953"
            ],
            [
             0.7777777777777778,
             "#fb9f3a"
            ],
            [
             0.8888888888888888,
             "#fdca26"
            ],
            [
             1,
             "#f0f921"
            ]
           ],
           "sequentialminus": [
            [
             0,
             "#0d0887"
            ],
            [
             0.1111111111111111,
             "#46039f"
            ],
            [
             0.2222222222222222,
             "#7201a8"
            ],
            [
             0.3333333333333333,
             "#9c179e"
            ],
            [
             0.4444444444444444,
             "#bd3786"
            ],
            [
             0.5555555555555556,
             "#d8576b"
            ],
            [
             0.6666666666666666,
             "#ed7953"
            ],
            [
             0.7777777777777778,
             "#fb9f3a"
            ],
            [
             0.8888888888888888,
             "#fdca26"
            ],
            [
             1,
             "#f0f921"
            ]
           ]
          },
          "colorway": [
           "#636efa",
           "#EF553B",
           "#00cc96",
           "#ab63fa",
           "#FFA15A",
           "#19d3f3",
           "#FF6692",
           "#B6E880",
           "#FF97FF",
           "#FECB52"
          ],
          "font": {
           "color": "#2a3f5f"
          },
          "geo": {
           "bgcolor": "white",
           "lakecolor": "white",
           "landcolor": "#E5ECF6",
           "showlakes": true,
           "showland": true,
           "subunitcolor": "white"
          },
          "hoverlabel": {
           "align": "left"
          },
          "hovermode": "closest",
          "mapbox": {
           "style": "light"
          },
          "paper_bgcolor": "white",
          "plot_bgcolor": "#E5ECF6",
          "polar": {
           "angularaxis": {
            "gridcolor": "white",
            "linecolor": "white",
            "ticks": ""
           },
           "bgcolor": "#E5ECF6",
           "radialaxis": {
            "gridcolor": "white",
            "linecolor": "white",
            "ticks": ""
           }
          },
          "scene": {
           "xaxis": {
            "backgroundcolor": "#E5ECF6",
            "gridcolor": "white",
            "gridwidth": 2,
            "linecolor": "white",
            "showbackground": true,
            "ticks": "",
            "zerolinecolor": "white"
           },
           "yaxis": {
            "backgroundcolor": "#E5ECF6",
            "gridcolor": "white",
            "gridwidth": 2,
            "linecolor": "white",
            "showbackground": true,
            "ticks": "",
            "zerolinecolor": "white"
           },
           "zaxis": {
            "backgroundcolor": "#E5ECF6",
            "gridcolor": "white",
            "gridwidth": 2,
            "linecolor": "white",
            "showbackground": true,
            "ticks": "",
            "zerolinecolor": "white"
           }
          },
          "shapedefaults": {
           "line": {
            "color": "#2a3f5f"
           }
          },
          "ternary": {
           "aaxis": {
            "gridcolor": "white",
            "linecolor": "white",
            "ticks": ""
           },
           "baxis": {
            "gridcolor": "white",
            "linecolor": "white",
            "ticks": ""
           },
           "bgcolor": "#E5ECF6",
           "caxis": {
            "gridcolor": "white",
            "linecolor": "white",
            "ticks": ""
           }
          },
          "title": {
           "x": 0.05
          },
          "xaxis": {
           "automargin": true,
           "gridcolor": "white",
           "linecolor": "white",
           "ticks": "",
           "title": {
            "standoff": 15
           },
           "zerolinecolor": "white",
           "zerolinewidth": 2
          },
          "yaxis": {
           "automargin": true,
           "gridcolor": "white",
           "linecolor": "white",
           "ticks": "",
           "title": {
            "standoff": 15
           },
           "zerolinecolor": "white",
           "zerolinewidth": 2
          }
         }
        },
        "title": {
         "text": "Euclidean MDC - LDA1"
        },
        "width": 900,
        "xaxis": {
         "title": {
          "text": "LDA1"
         }
        },
        "yaxis": {
         "visible": false
        }
       }
      }
     },
     "metadata": {},
     "output_type": "display_data"
    }
   ],
   "source": [
    "PC1 = np.array(PC1)\n",
    "PC2 = np.array(PC2)\n",
    "y = y_train.to_numpy()\n",
    "\n",
    "ixHealthy = np.where(y == 1)[0]\n",
    "ixCancer  = np.where(y == 2)[0]\n",
    "\n",
    "PC1_Healthy = PC1[ixHealthy]\n",
    "PC2_Healthy = PC2[ixHealthy]\n",
    "PC1_Cancer  = PC1[ixCancer]\n",
    "PC2_Cancer  = PC2[ixCancer]\n",
    "\n",
    "\n",
    "muHealthy = np.array([[np.mean(PC1_Healthy), np.mean(PC2_Healthy)]]).T\n",
    "muCancer  = np.array([[np.mean(PC1_Cancer), np.mean(PC2_Cancer)]]).T\n",
    "\n",
    "print(\"gHealthy(x)=\"+str(muHealthy.T)+\"x-0.5\"+str(muHealthy.T@muHealthy))\n",
    "print(\"gCancer(x)=\"+str(muCancer.T)+\"x-0.5\"+str(muCancer.T@muCancer)+\"\\n\")\n",
    "\n",
    "\n",
    "X1 = np.array([PC1_Healthy, PC2_Healthy]).T\n",
    "X2 = np.array([PC1_Cancer,  PC2_Cancer]).T\n",
    "X=np.concatenate((X1,X2),axis=0)\n",
    "y = np.concatenate((y_train.to_numpy()[ixHealthyTrain],y_train.to_numpy()[ixWithCancerTrain]))\n",
    "\n",
    "\n",
    "yp=np.ones(np.shape(y))\n",
    "\n",
    "dx=((muHealthy-muCancer).T@(X.T-0.5*(muHealthy+muCancer))).flatten()\n",
    "yp[dx<0]=2\n",
    "\n",
    "Hits=np.shape(np.where((y==yp))[0])[0]\n",
    "\n",
    "ixHealthy = np.where(y == 1)[0]\n",
    "ixCancer = np.where(y == 2)[0]\n",
    "\n",
    "TP=np.shape(np.where((y[ixHealthy]==yp[ixHealthy]))[0])[0]\n",
    "TN=np.shape(np.where((y[ixCancer]==yp[ixCancer]))[0])[0]\n",
    "FP=np.shape(np.where((y[ixCancer]!=yp[ixCancer]))[0])[0]\n",
    "FN=np.shape(np.where((y[ixHealthy]!=yp[ixHealthy]))[0])[0]\n",
    "\n",
    "SS=TP/(TP+FN)\n",
    "SP=TN/(TN+FP)\n",
    "PR=TP/(TP+FP)\n",
    "F1Score=2*(PR*SS)/(PR+SS)\n",
    "AC=(TN+TP)/(TP+TN+FP+FN)\n",
    "\n",
    "\n",
    "print(\"Sensitivity(%)=\"+str(SS*100))\n",
    "print(\"Specificity(%)=\"+str(SP*100))\n",
    "print(\"Precision(%)=\"+str(PR*100))\n",
    "print(\"F1Score(%)=\"+str(F1Score*100))\n",
    "print(\"Accuracy(%)=\"+str(AC*100))\n",
    "\n",
    "\n",
    "fig=go.Figure()\n",
    "fig.add_trace(go.Scatter(x=PC1_Healthy,y=PC2_Healthy,name='Healthy'))\n",
    "#fig.update_traces(marker=dict(color='green', size=10))\n",
    "fig.add_trace(go.Scatter(x=PC1_Cancer,y=PC2_Cancer,name='Cancer'))\n",
    "fig.update_traces(marker=dict(size=10))\n",
    "\n",
    "\n",
    "ixFP = np.where((y == 2) & (yp == 1))[0]\n",
    "ixFN = np.where((y == 1) & (yp == 2))[0]\n",
    "\n",
    "\n",
    "fig.add_trace(go.Scatter(x=X[ixFN,0],y=X[ixFN,1],name='False Healthy',marker_size=15,\n",
    "                         marker_symbol=\"circle-open\",marker=dict(color=\"red\",\n",
    "                                                                 line=dict(width=3,color='red'))))\n",
    "fig.add_trace(go.Scatter(x=X[ixFP,0],y=X[ixFP,1],name='False Cancer',marker_size=15,\n",
    "                         marker_symbol=\"circle-open\",marker=dict(color=\"blue\",\n",
    "                                                                 line=dict(width=3,color='blue'))))\n",
    "\n",
    "\n",
    "fig.add_trace(go.Scatter(x=muHealthy[0],y=muHealthy[1], marker_size=20,\n",
    "                         marker_symbol='x',name='Healthy mean',\n",
    "                         marker=dict(color=\"green\",line=dict(width=1,\n",
    "                                        color='black'))))\n",
    "fig.add_trace(go.Scatter(x=muCancer[0],y=muCancer[1], marker_size=20,\n",
    "                         marker_symbol='x',name='Cancer mean',\n",
    "                         marker=dict(color=\"yellow\",line=dict(width=1,\n",
    "                                        color='black'))))\n",
    "fig.add_trace(go.Scatter(x=(muHealthy[0]+muCancer[0])/2,y=(muHealthy[1]+muCancer[1])/2, marker_size=20,\n",
    "                         marker_symbol=\"circle-dot\",name='Mean of the means',\n",
    "                         marker=dict(color=\"purple\",line=dict(width=1,\n",
    "                                        color='black'))))\n",
    "\n",
    "fig.update_traces(mode='markers')\n",
    "fig.add_trace(go.Scatter(x=[muHealthy[0][0],muCancer[0][0]],y=[muHealthy[1][0],muCancer[1][0]],\n",
    "                         mode='lines', line=dict(color=\"black\",width=4),name='Inter mean segment'))\n",
    "\n",
    "\n",
    "W=(muHealthy-muCancer)\n",
    "b=-0.5*(muHealthy-muCancer).T@(muHealthy+muCancer)\n",
    "\n",
    "x1=np.arange(20,130,1)\n",
    "\n",
    "x2=-(W[0,0]/W[1,0])*x1-b/W[1,0]\n",
    "fig.add_trace(go.Scatter(x=x1,y=x2.flatten(),\n",
    "                         mode='lines', line=dict(dash='dash',color=\"gray\",width=4),name='Hyperplane'))\n",
    "\n",
    "\n",
    "\n",
    "\n",
    "\n",
    "fig.update_xaxes(title_text='PC1')\n",
    "fig.update_yaxes(title_text='PC2')\n",
    "fig.update_layout(\n",
    "    title=\"Euclidean MDC - PCA1 vs PCA2\",\n",
    "    autosize=False,\n",
    "    width=900,\n",
    "    height=800)\n",
    "fig.show()\n",
    "\n",
    "\n",
    "\n",
    "\n",
    "\n",
    "\n",
    "ixHealthy = np.where(y == 1)[0]\n",
    "ixCancer  = np.where(y == 2)[0]\n",
    "\n",
    "LD1_Healthy = LD1[ixHealthy]\n",
    "LD1_Cancer  = LD1[ixCancer]\n",
    "\n",
    "# Médias projetadas\n",
    "muHealthy = np.mean(LD1_Healthy)\n",
    "muCancer  = np.mean(LD1_Cancer)\n",
    "\n",
    "print(\"gHealthy(x) = \" + str(muHealthy) + \"x - 0.5\" + str(muHealthy**2))\n",
    "print(\"gCancer(x)  = \" + str(muCancer) + \"x - 0.5\" + str(muCancer**2) + \"\\n\")\n",
    "\n",
    "X = LD1.reshape(-1, 1)\n",
    "y = y_train.to_numpy()\n",
    "\n",
    "# Classificação Euclidiana\n",
    "yp = np.ones_like(y)\n",
    "dx = (muHealthy - muCancer) * (X.flatten() - 0.5 * (muHealthy + muCancer))\n",
    "yp[dx < 0] = 2\n",
    "\n",
    "# Métricas\n",
    "TP = np.sum((y == 1) & (yp == 1))\n",
    "TN = np.sum((y == 2) & (yp == 2))\n",
    "FP = np.sum((y == 2) & (yp == 1))\n",
    "FN = np.sum((y == 1) & (yp == 2))\n",
    "\n",
    "SS = TP / (TP + FN)\n",
    "SP = TN / (TN + FP)\n",
    "PR = TP / (TP + FP)\n",
    "F1Score = 2 * (PR * SS) / (PR + SS)\n",
    "AC = (TN + TP) / len(y)\n",
    "\n",
    "print(\"Sensitivity(%) =\", SS * 100)\n",
    "print(\"Specificity(%) =\", SP * 100)\n",
    "print(\"Precision(%) =\", PR * 100)\n",
    "print(\"F1Score(%) =\", F1Score * 100)\n",
    "print(\"Accuracy(%) =\", AC * 100)\n",
    "\n",
    "# --- Gráfico ---\n",
    "import plotly.graph_objects as go\n",
    "\n",
    "fig = go.Figure()\n",
    "\n",
    "# Pontos Healthy e Cancer\n",
    "fig.add_trace(go.Scatter(\n",
    "    x=LD1_Healthy,\n",
    "    y=np.zeros_like(LD1_Healthy),\n",
    "    name='Healthy',\n",
    "    mode='markers',\n",
    "    marker=dict(color='green', size=10)\n",
    "))\n",
    "fig.add_trace(go.Scatter(\n",
    "    x=LD1_Cancer,\n",
    "    y=np.zeros_like(LD1_Cancer),\n",
    "    name='Cancer',\n",
    "    mode='markers',\n",
    "    marker=dict(color='orange', size=10)\n",
    "))\n",
    "\n",
    "# Médias\n",
    "fig.add_trace(go.Scatter(\n",
    "    x=[muHealthy], y=[0],\n",
    "    name='Healthy mean',\n",
    "    mode='markers',\n",
    "    marker=dict(color='green', size=15, symbol='x')\n",
    "))\n",
    "fig.add_trace(go.Scatter(\n",
    "    x=[muCancer], y=[0],\n",
    "    name='Cancer mean',\n",
    "    mode='markers',\n",
    "    marker=dict(color='yellow', size=15, symbol='x')\n",
    "))\n",
    "\n",
    "# Hiperplano de decisão (ponto médio)\n",
    "decision_boundary = 0.5 * (muHealthy + muCancer)\n",
    "fig.add_trace(go.Scatter(\n",
    "    x=[decision_boundary],\n",
    "    y=[0],\n",
    "    name='Decision Boundary',\n",
    "    mode='markers',\n",
    "    marker=dict(color='purple', size=15, symbol='circle')\n",
    "))\n",
    "\n",
    "# Linha entre médias\n",
    "fig.add_trace(go.Scatter(\n",
    "    x=[muHealthy, muCancer],\n",
    "    y=[0, 0],\n",
    "    mode='lines',\n",
    "    line=dict(color=\"black\", width=3),\n",
    "    name='Inter mean segment'\n",
    "))\n",
    "\n",
    "fig.update_layout(\n",
    "    title=\"Euclidean MDC - LDA1\",\n",
    "    xaxis_title=\"LDA1\",\n",
    "    yaxis_visible=False,\n",
    "    width=900,\n",
    "    height=400,\n",
    "    showlegend=True\n",
    ")\n",
    "\n",
    "fig.show()\n",
    "\n"
   ]
  },
  {
   "cell_type": "markdown",
   "id": "f7d74059",
   "metadata": {},
   "source": [
    "### Mahalanobis"
   ]
  },
  {
   "cell_type": "code",
   "execution_count": 250,
   "id": "dffac15c",
   "metadata": {},
   "outputs": [
    {
     "name": "stdout",
     "output_type": "stream",
     "text": [
      "[[ 1.05296049 -0.28464934]\n",
      " [-0.28464934  1.32348936]]\n"
     ]
    },
    {
     "ename": "ValueError",
     "evalue": "matmul: Input operand 0 does not have enough dimensions (has 0, gufunc core with signature (n?,k),(k,m?)->(n?,m?) requires 1)",
     "output_type": "error",
     "traceback": [
      "\u001b[0;31m---------------------------------------------------------------------------\u001b[0m",
      "\u001b[0;31mValueError\u001b[0m                                Traceback (most recent call last)",
      "Cell \u001b[0;32mIn[250], line 8\u001b[0m\n\u001b[1;32m      5\u001b[0m Ci\u001b[38;5;241m=\u001b[39mnp\u001b[38;5;241m.\u001b[39mlinalg\u001b[38;5;241m.\u001b[39minv(C)\n\u001b[1;32m      6\u001b[0m \u001b[38;5;28mprint\u001b[39m(Ci)\n\u001b[0;32m----> 8\u001b[0m \u001b[38;5;28mprint\u001b[39m(\u001b[38;5;124m\"\u001b[39m\u001b[38;5;124mgSup(x)=\u001b[39m\u001b[38;5;124m\"\u001b[39m\u001b[38;5;241m+\u001b[39m\u001b[38;5;28mstr\u001b[39m(\u001b[43mmuHealthy\u001b[49m\u001b[38;5;241;43m.\u001b[39;49m\u001b[43mT\u001b[49m\u001b[38;5;129;43m@Ci\u001b[39;49m)\u001b[38;5;241m+\u001b[39m\u001b[38;5;124m\"\u001b[39m\u001b[38;5;124mx-0.5\u001b[39m\u001b[38;5;124m\"\u001b[39m\u001b[38;5;241m+\u001b[39m\u001b[38;5;28mstr\u001b[39m(muHealthy\u001b[38;5;241m.\u001b[39mT\u001b[38;5;129m@Ci\u001b[39m\u001b[38;5;129m@muHealthy\u001b[39m))\n\u001b[1;32m      9\u001b[0m \u001b[38;5;28mprint\u001b[39m(\u001b[38;5;124m\"\u001b[39m\u001b[38;5;124mgAvg(x)=\u001b[39m\u001b[38;5;124m\"\u001b[39m\u001b[38;5;241m+\u001b[39m\u001b[38;5;28mstr\u001b[39m(muCancer\u001b[38;5;241m.\u001b[39mT\u001b[38;5;129m@Ci\u001b[39m)\u001b[38;5;241m+\u001b[39m\u001b[38;5;124m\"\u001b[39m\u001b[38;5;124mx-0.5\u001b[39m\u001b[38;5;124m\"\u001b[39m\u001b[38;5;241m+\u001b[39m\u001b[38;5;28mstr\u001b[39m(muCancer\u001b[38;5;241m.\u001b[39mT\u001b[38;5;129m@Ci\u001b[39m\u001b[38;5;129m@muCancer\u001b[39m))\n\u001b[1;32m     11\u001b[0m \u001b[38;5;28mprint\u001b[39m(\u001b[38;5;124m\"\u001b[39m\u001b[38;5;124md(x)=\u001b[39m\u001b[38;5;124m\"\u001b[39m\u001b[38;5;241m+\u001b[39m\u001b[38;5;28mstr\u001b[39m((muHealthy\u001b[38;5;241m-\u001b[39mmuCancer)\u001b[38;5;241m.\u001b[39mT\u001b[38;5;129m@Ci\u001b[39m)\u001b[38;5;241m+\u001b[39m\u001b[38;5;124m\"\u001b[39m\u001b[38;5;124mx-0.5\u001b[39m\u001b[38;5;124m\"\u001b[39m\u001b[38;5;241m+\u001b[39m\u001b[38;5;28mstr\u001b[39m((muHealthy\u001b[38;5;241m-\u001b[39mmuCancer)\u001b[38;5;241m.\u001b[39mT\u001b[38;5;129m@Ci\u001b[39m\u001b[38;5;241m@\u001b[39m(muHealthy\u001b[38;5;241m+\u001b[39mmuCancer)))\n",
      "\u001b[0;31mValueError\u001b[0m: matmul: Input operand 0 does not have enough dimensions (has 0, gufunc core with signature (n?,k),(k,m?)->(n?,m?) requires 1)"
     ]
    }
   ],
   "source": [
    "\n",
    "\n",
    "CHealthy=np.cov(np.array([NHealthy,gluHealthy]))\n",
    "CCancer=np.cov(np.array([NCancer,gluCancer]))\n",
    "\n",
    "C=(CHealthy+CCancer)/2\n",
    "Ci=np.linalg.inv(C)\n",
    "print(Ci)\n",
    "            \n",
    "print(\"gSup(x)=\"+str(muHealthy.T@Ci)+\"x-0.5\"+str(muHealthy.T@Ci@muHealthy))\n",
    "print(\"gAvg(x)=\"+str(muCancer.T@Ci)+\"x-0.5\"+str(muCancer.T@Ci@muCancer))\n",
    "\n",
    "print(\"d(x)=\"+str((muHealthy-muCancer).T@Ci)+\"x-0.5\"+str((muHealthy-muCancer).T@Ci@(muHealthy+muCancer)))\n",
    "\n",
    "\n",
    "X1=np.array([NHealthy,gluHealthy]).T\n",
    "X2=np.array([NCancer,gluCancer]).T\n",
    "X=np.concatenate((X1,X2),axis=0)\n",
    "y=np.concatenate((y_train.to_numpy()[ixHealthy],y_train.to_numpy()[ixWithCancerTrain]))\n",
    "\n",
    "yp=np.ones(np.shape(y))\n",
    "\n",
    "dx=((muHealthy-muCancer).T@Ci@(X.T-0.5*(muHealthy+muCancer))).flatten()\n",
    "yp[dx<0]=2\n",
    "\n",
    "Hits=np.shape(np.where((y==yp))[0])[0]\n",
    "TP=np.shape(np.where((y[ixHealthy]==yp[ixHealthy]))[0])[0]\n",
    "TN=np.shape(np.where((y[ixCancer]==yp[ixCancer]))[0])[0]\n",
    "FP=np.shape(np.where((y[ixCancer]!=yp[ixCancer]))[0])[0]\n",
    "FN=np.shape(np.where((y[ixHealthy]!=yp[ixHealthy]))[0])[0]\n",
    "\n",
    "SS=TP/(TP+FN)\n",
    "SP=TN/(TN+FP)\n",
    "PR=TP/(TP+FP)\n",
    "F1Score=2*(PR*SS)/(PR+SS)\n",
    "AC=(TN+TP)/(TP+TN+FP+FN)\n",
    "\n",
    "\n",
    "print(\"Sensitivity(%)=\"+str(SS*100))\n",
    "print(\"Specificity(%)=\"+str(SP*100))\n",
    "print(\"Precision(%)=\"+str(PR*100))\n",
    "print(\"F1Score(%)=\"+str(F1Score*100))\n",
    "print(\"Accuracy(%)=\"+str(AC*100))\n",
    "\n"
   ]
  },
  {
   "cell_type": "markdown",
   "id": "27d97ecf",
   "metadata": {},
   "source": [
    "### LDA FISHER"
   ]
  },
  {
   "cell_type": "code",
   "execution_count": null,
   "id": "290c037c",
   "metadata": {},
   "outputs": [
    {
     "data": {
      "application/vnd.plotly.v1+json": {
       "config": {
        "plotlyServerURL": "https://plot.ly"
       },
       "data": [
        {
         "hovertemplate": "Classification=With Cancer<br>Fisher LDA1=%{x}<br>=%{y}<extra></extra>",
         "legendgroup": "With Cancer",
         "marker": {
          "color": "#636efa",
          "symbol": "circle"
         },
         "mode": "markers",
         "name": "With Cancer",
         "orientation": "v",
         "showlegend": true,
         "type": "scatter",
         "x": [
          -4.703626036448208,
          -3.3781601936283097,
          -1.3356519218743483,
          -5.54809985969078,
          -6.269684231023929,
          -1.7048049726324437,
          -3.610644306457642,
          -3.807972698994304,
          -1.0164901425291062,
          -0.2864418271797444,
          -1.4610153426104668,
          -5.180819397452151,
          -2.5557311180463627,
          -2.4633770117413767,
          -3.683742242213488,
          0.7776917655611068,
          -3.736726329706969,
          -4.929390017293658,
          -1.724901752343286,
          -4.360654660875374,
          -5.223357315461919,
          -5.696030959119911,
          -4.017349206915995,
          -3.9858104707694313,
          -11.395659729008464,
          -2.987151876257811,
          -2.2581294522536366,
          -3.590548422576396,
          -3.663112591275181,
          -6.063715868274554,
          -5.022443777533715,
          -3.167851025701722,
          -1.9723912401274801,
          -5.0575401153354225,
          -5.071021366643438,
          -5.343944593462379,
          -0.7808323815361137,
          -2.338979834203358,
          -3.94483109446784,
          -3.7748333966931864,
          -2.882106076929337,
          -2.6814922143595825,
          -4.197733214893407,
          -1.613595528378082,
          -2.7224885928384284,
          -4.15550600904659,
          -5.446859150308654,
          -2.725932315437009,
          -4.401393173932002,
          -2.912342503990015,
          -1.5264353641653359
         ],
         "xaxis": "x",
         "y": [
          0,
          0,
          0,
          0,
          0,
          0,
          0,
          0,
          0,
          0,
          0,
          0,
          0,
          0,
          0,
          0,
          0,
          0,
          0,
          0,
          0,
          0,
          0,
          0,
          0,
          0,
          0,
          0,
          0,
          0,
          0,
          0,
          0,
          0,
          0,
          0,
          0,
          0,
          0,
          0,
          0,
          0,
          0,
          0,
          0,
          0,
          0,
          0,
          0,
          0,
          0
         ],
         "yaxis": "y"
        },
        {
         "hovertemplate": "Classification=Healthy<br>Fisher LDA1=%{x}<br>=%{y}<extra></extra>",
         "legendgroup": "Healthy",
         "marker": {
          "color": "#EF553B",
          "symbol": "circle"
         },
         "mode": "markers",
         "name": "Healthy",
         "orientation": "v",
         "showlegend": true,
         "type": "scatter",
         "x": [
          -1.808709833673234,
          -2.9740878840042724,
          -2.2924985323409737,
          -3.600666921978223,
          -1.3583187611371037,
          -0.8574841073010568,
          -0.35504809991716585,
          -1.6724282771532566,
          -0.7983962018529589,
          -0.4585739857583228,
          -2.1588643833529897,
          -0.6373733931917387,
          0.16528681554565658,
          -0.9743874650900148,
          -1.5077684852330242,
          -1.4998421997238396,
          -1.7959250697441973,
          -0.742911376472094,
          -1.177759735267328,
          -0.8674005114057824,
          -2.7615124910447952,
          -2.589478892596912,
          -2.8018734116465556,
          -0.3679693331338005,
          -1.2955650085564487,
          -1.8018814967550307,
          -0.4974133693983854,
          -0.6408312555211467,
          -4.324207410058175,
          1.4823414572838838,
          -1.2468003439085118,
          -0.16296468609490977,
          -0.32046537782400975,
          -1.244416251687229,
          -3.40490851340153,
          -1.0886932297367946,
          -0.9833464955564916,
          -0.43336388872172427,
          -1.439535590832946,
          -2.6323908198269144,
          -1.291099486451144
         ],
         "xaxis": "x",
         "y": [
          0,
          0,
          0,
          0,
          0,
          0,
          0,
          0,
          0,
          0,
          0,
          0,
          0,
          0,
          0,
          0,
          0,
          0,
          0,
          0,
          0,
          0,
          0,
          0,
          0,
          0,
          0,
          0,
          0,
          0,
          0,
          0,
          0,
          0,
          0,
          0,
          0,
          0,
          0,
          0,
          0
         ],
         "yaxis": "y"
        }
       ],
       "layout": {
        "height": 400,
        "legend": {
         "title": {
          "text": "Classification"
         },
         "tracegroupgap": 0
        },
        "shapes": [
         {
          "line": {
           "color": "gray",
           "dash": "dash",
           "width": 3
          },
          "name": "Decision boundary",
          "type": "line",
          "x0": -2.4782076415716796,
          "x1": -2.4782076415716796,
          "xref": "x",
          "y0": 0,
          "y1": 1,
          "yref": "y domain"
         }
        ],
        "template": {
         "data": {
          "bar": [
           {
            "error_x": {
             "color": "#2a3f5f"
            },
            "error_y": {
             "color": "#2a3f5f"
            },
            "marker": {
             "line": {
              "color": "#E5ECF6",
              "width": 0.5
             },
             "pattern": {
              "fillmode": "overlay",
              "size": 10,
              "solidity": 0.2
             }
            },
            "type": "bar"
           }
          ],
          "barpolar": [
           {
            "marker": {
             "line": {
              "color": "#E5ECF6",
              "width": 0.5
             },
             "pattern": {
              "fillmode": "overlay",
              "size": 10,
              "solidity": 0.2
             }
            },
            "type": "barpolar"
           }
          ],
          "carpet": [
           {
            "aaxis": {
             "endlinecolor": "#2a3f5f",
             "gridcolor": "white",
             "linecolor": "white",
             "minorgridcolor": "white",
             "startlinecolor": "#2a3f5f"
            },
            "baxis": {
             "endlinecolor": "#2a3f5f",
             "gridcolor": "white",
             "linecolor": "white",
             "minorgridcolor": "white",
             "startlinecolor": "#2a3f5f"
            },
            "type": "carpet"
           }
          ],
          "choropleth": [
           {
            "colorbar": {
             "outlinewidth": 0,
             "ticks": ""
            },
            "type": "choropleth"
           }
          ],
          "contour": [
           {
            "colorbar": {
             "outlinewidth": 0,
             "ticks": ""
            },
            "colorscale": [
             [
              0,
              "#0d0887"
             ],
             [
              0.1111111111111111,
              "#46039f"
             ],
             [
              0.2222222222222222,
              "#7201a8"
             ],
             [
              0.3333333333333333,
              "#9c179e"
             ],
             [
              0.4444444444444444,
              "#bd3786"
             ],
             [
              0.5555555555555556,
              "#d8576b"
             ],
             [
              0.6666666666666666,
              "#ed7953"
             ],
             [
              0.7777777777777778,
              "#fb9f3a"
             ],
             [
              0.8888888888888888,
              "#fdca26"
             ],
             [
              1,
              "#f0f921"
             ]
            ],
            "type": "contour"
           }
          ],
          "contourcarpet": [
           {
            "colorbar": {
             "outlinewidth": 0,
             "ticks": ""
            },
            "type": "contourcarpet"
           }
          ],
          "heatmap": [
           {
            "colorbar": {
             "outlinewidth": 0,
             "ticks": ""
            },
            "colorscale": [
             [
              0,
              "#0d0887"
             ],
             [
              0.1111111111111111,
              "#46039f"
             ],
             [
              0.2222222222222222,
              "#7201a8"
             ],
             [
              0.3333333333333333,
              "#9c179e"
             ],
             [
              0.4444444444444444,
              "#bd3786"
             ],
             [
              0.5555555555555556,
              "#d8576b"
             ],
             [
              0.6666666666666666,
              "#ed7953"
             ],
             [
              0.7777777777777778,
              "#fb9f3a"
             ],
             [
              0.8888888888888888,
              "#fdca26"
             ],
             [
              1,
              "#f0f921"
             ]
            ],
            "type": "heatmap"
           }
          ],
          "heatmapgl": [
           {
            "colorbar": {
             "outlinewidth": 0,
             "ticks": ""
            },
            "colorscale": [
             [
              0,
              "#0d0887"
             ],
             [
              0.1111111111111111,
              "#46039f"
             ],
             [
              0.2222222222222222,
              "#7201a8"
             ],
             [
              0.3333333333333333,
              "#9c179e"
             ],
             [
              0.4444444444444444,
              "#bd3786"
             ],
             [
              0.5555555555555556,
              "#d8576b"
             ],
             [
              0.6666666666666666,
              "#ed7953"
             ],
             [
              0.7777777777777778,
              "#fb9f3a"
             ],
             [
              0.8888888888888888,
              "#fdca26"
             ],
             [
              1,
              "#f0f921"
             ]
            ],
            "type": "heatmapgl"
           }
          ],
          "histogram": [
           {
            "marker": {
             "pattern": {
              "fillmode": "overlay",
              "size": 10,
              "solidity": 0.2
             }
            },
            "type": "histogram"
           }
          ],
          "histogram2d": [
           {
            "colorbar": {
             "outlinewidth": 0,
             "ticks": ""
            },
            "colorscale": [
             [
              0,
              "#0d0887"
             ],
             [
              0.1111111111111111,
              "#46039f"
             ],
             [
              0.2222222222222222,
              "#7201a8"
             ],
             [
              0.3333333333333333,
              "#9c179e"
             ],
             [
              0.4444444444444444,
              "#bd3786"
             ],
             [
              0.5555555555555556,
              "#d8576b"
             ],
             [
              0.6666666666666666,
              "#ed7953"
             ],
             [
              0.7777777777777778,
              "#fb9f3a"
             ],
             [
              0.8888888888888888,
              "#fdca26"
             ],
             [
              1,
              "#f0f921"
             ]
            ],
            "type": "histogram2d"
           }
          ],
          "histogram2dcontour": [
           {
            "colorbar": {
             "outlinewidth": 0,
             "ticks": ""
            },
            "colorscale": [
             [
              0,
              "#0d0887"
             ],
             [
              0.1111111111111111,
              "#46039f"
             ],
             [
              0.2222222222222222,
              "#7201a8"
             ],
             [
              0.3333333333333333,
              "#9c179e"
             ],
             [
              0.4444444444444444,
              "#bd3786"
             ],
             [
              0.5555555555555556,
              "#d8576b"
             ],
             [
              0.6666666666666666,
              "#ed7953"
             ],
             [
              0.7777777777777778,
              "#fb9f3a"
             ],
             [
              0.8888888888888888,
              "#fdca26"
             ],
             [
              1,
              "#f0f921"
             ]
            ],
            "type": "histogram2dcontour"
           }
          ],
          "mesh3d": [
           {
            "colorbar": {
             "outlinewidth": 0,
             "ticks": ""
            },
            "type": "mesh3d"
           }
          ],
          "parcoords": [
           {
            "line": {
             "colorbar": {
              "outlinewidth": 0,
              "ticks": ""
             }
            },
            "type": "parcoords"
           }
          ],
          "pie": [
           {
            "automargin": true,
            "type": "pie"
           }
          ],
          "scatter": [
           {
            "fillpattern": {
             "fillmode": "overlay",
             "size": 10,
             "solidity": 0.2
            },
            "type": "scatter"
           }
          ],
          "scatter3d": [
           {
            "line": {
             "colorbar": {
              "outlinewidth": 0,
              "ticks": ""
             }
            },
            "marker": {
             "colorbar": {
              "outlinewidth": 0,
              "ticks": ""
             }
            },
            "type": "scatter3d"
           }
          ],
          "scattercarpet": [
           {
            "marker": {
             "colorbar": {
              "outlinewidth": 0,
              "ticks": ""
             }
            },
            "type": "scattercarpet"
           }
          ],
          "scattergeo": [
           {
            "marker": {
             "colorbar": {
              "outlinewidth": 0,
              "ticks": ""
             }
            },
            "type": "scattergeo"
           }
          ],
          "scattergl": [
           {
            "marker": {
             "colorbar": {
              "outlinewidth": 0,
              "ticks": ""
             }
            },
            "type": "scattergl"
           }
          ],
          "scattermapbox": [
           {
            "marker": {
             "colorbar": {
              "outlinewidth": 0,
              "ticks": ""
             }
            },
            "type": "scattermapbox"
           }
          ],
          "scatterpolar": [
           {
            "marker": {
             "colorbar": {
              "outlinewidth": 0,
              "ticks": ""
             }
            },
            "type": "scatterpolar"
           }
          ],
          "scatterpolargl": [
           {
            "marker": {
             "colorbar": {
              "outlinewidth": 0,
              "ticks": ""
             }
            },
            "type": "scatterpolargl"
           }
          ],
          "scatterternary": [
           {
            "marker": {
             "colorbar": {
              "outlinewidth": 0,
              "ticks": ""
             }
            },
            "type": "scatterternary"
           }
          ],
          "surface": [
           {
            "colorbar": {
             "outlinewidth": 0,
             "ticks": ""
            },
            "colorscale": [
             [
              0,
              "#0d0887"
             ],
             [
              0.1111111111111111,
              "#46039f"
             ],
             [
              0.2222222222222222,
              "#7201a8"
             ],
             [
              0.3333333333333333,
              "#9c179e"
             ],
             [
              0.4444444444444444,
              "#bd3786"
             ],
             [
              0.5555555555555556,
              "#d8576b"
             ],
             [
              0.6666666666666666,
              "#ed7953"
             ],
             [
              0.7777777777777778,
              "#fb9f3a"
             ],
             [
              0.8888888888888888,
              "#fdca26"
             ],
             [
              1,
              "#f0f921"
             ]
            ],
            "type": "surface"
           }
          ],
          "table": [
           {
            "cells": {
             "fill": {
              "color": "#EBF0F8"
             },
             "line": {
              "color": "white"
             }
            },
            "header": {
             "fill": {
              "color": "#C8D4E3"
             },
             "line": {
              "color": "white"
             }
            },
            "type": "table"
           }
          ]
         },
         "layout": {
          "annotationdefaults": {
           "arrowcolor": "#2a3f5f",
           "arrowhead": 0,
           "arrowwidth": 1
          },
          "autotypenumbers": "strict",
          "coloraxis": {
           "colorbar": {
            "outlinewidth": 0,
            "ticks": ""
           }
          },
          "colorscale": {
           "diverging": [
            [
             0,
             "#8e0152"
            ],
            [
             0.1,
             "#c51b7d"
            ],
            [
             0.2,
             "#de77ae"
            ],
            [
             0.3,
             "#f1b6da"
            ],
            [
             0.4,
             "#fde0ef"
            ],
            [
             0.5,
             "#f7f7f7"
            ],
            [
             0.6,
             "#e6f5d0"
            ],
            [
             0.7,
             "#b8e186"
            ],
            [
             0.8,
             "#7fbc41"
            ],
            [
             0.9,
             "#4d9221"
            ],
            [
             1,
             "#276419"
            ]
           ],
           "sequential": [
            [
             0,
             "#0d0887"
            ],
            [
             0.1111111111111111,
             "#46039f"
            ],
            [
             0.2222222222222222,
             "#7201a8"
            ],
            [
             0.3333333333333333,
             "#9c179e"
            ],
            [
             0.4444444444444444,
             "#bd3786"
            ],
            [
             0.5555555555555556,
             "#d8576b"
            ],
            [
             0.6666666666666666,
             "#ed7953"
            ],
            [
             0.7777777777777778,
             "#fb9f3a"
            ],
            [
             0.8888888888888888,
             "#fdca26"
            ],
            [
             1,
             "#f0f921"
            ]
           ],
           "sequentialminus": [
            [
             0,
             "#0d0887"
            ],
            [
             0.1111111111111111,
             "#46039f"
            ],
            [
             0.2222222222222222,
             "#7201a8"
            ],
            [
             0.3333333333333333,
             "#9c179e"
            ],
            [
             0.4444444444444444,
             "#bd3786"
            ],
            [
             0.5555555555555556,
             "#d8576b"
            ],
            [
             0.6666666666666666,
             "#ed7953"
            ],
            [
             0.7777777777777778,
             "#fb9f3a"
            ],
            [
             0.8888888888888888,
             "#fdca26"
            ],
            [
             1,
             "#f0f921"
            ]
           ]
          },
          "colorway": [
           "#636efa",
           "#EF553B",
           "#00cc96",
           "#ab63fa",
           "#FFA15A",
           "#19d3f3",
           "#FF6692",
           "#B6E880",
           "#FF97FF",
           "#FECB52"
          ],
          "font": {
           "color": "#2a3f5f"
          },
          "geo": {
           "bgcolor": "white",
           "lakecolor": "white",
           "landcolor": "#E5ECF6",
           "showlakes": true,
           "showland": true,
           "subunitcolor": "white"
          },
          "hoverlabel": {
           "align": "left"
          },
          "hovermode": "closest",
          "mapbox": {
           "style": "light"
          },
          "paper_bgcolor": "white",
          "plot_bgcolor": "#E5ECF6",
          "polar": {
           "angularaxis": {
            "gridcolor": "white",
            "linecolor": "white",
            "ticks": ""
           },
           "bgcolor": "#E5ECF6",
           "radialaxis": {
            "gridcolor": "white",
            "linecolor": "white",
            "ticks": ""
           }
          },
          "scene": {
           "xaxis": {
            "backgroundcolor": "#E5ECF6",
            "gridcolor": "white",
            "gridwidth": 2,
            "linecolor": "white",
            "showbackground": true,
            "ticks": "",
            "zerolinecolor": "white"
           },
           "yaxis": {
            "backgroundcolor": "#E5ECF6",
            "gridcolor": "white",
            "gridwidth": 2,
            "linecolor": "white",
            "showbackground": true,
            "ticks": "",
            "zerolinecolor": "white"
           },
           "zaxis": {
            "backgroundcolor": "#E5ECF6",
            "gridcolor": "white",
            "gridwidth": 2,
            "linecolor": "white",
            "showbackground": true,
            "ticks": "",
            "zerolinecolor": "white"
           }
          },
          "shapedefaults": {
           "line": {
            "color": "#2a3f5f"
           }
          },
          "ternary": {
           "aaxis": {
            "gridcolor": "white",
            "linecolor": "white",
            "ticks": ""
           },
           "baxis": {
            "gridcolor": "white",
            "linecolor": "white",
            "ticks": ""
           },
           "bgcolor": "#E5ECF6",
           "caxis": {
            "gridcolor": "white",
            "linecolor": "white",
            "ticks": ""
           }
          },
          "title": {
           "x": 0.05
          },
          "xaxis": {
           "automargin": true,
           "gridcolor": "white",
           "linecolor": "white",
           "ticks": "",
           "title": {
            "standoff": 15
           },
           "zerolinecolor": "white",
           "zerolinewidth": 2
          },
          "yaxis": {
           "automargin": true,
           "gridcolor": "white",
           "linecolor": "white",
           "ticks": "",
           "title": {
            "standoff": 15
           },
           "zerolinecolor": "white",
           "zerolinewidth": 2
          }
         }
        },
        "title": {
         "text": "Fisher LDA - Projeção 1D das Classes"
        },
        "xaxis": {
         "anchor": "y",
         "domain": [
          0,
          1
         ],
         "title": {
          "text": "Fisher Linear Discriminant (wᵗx)"
         }
        },
        "yaxis": {
         "anchor": "x",
         "domain": [
          0,
          1
         ],
         "showticklabels": false,
         "title": {
          "text": ""
         }
        }
       }
      }
     },
     "metadata": {},
     "output_type": "display_data"
    }
   ],
   "source": [
    "# Converter X para NumPy para evitar erro de indexação\n",
    "X_np = x_train.to_numpy()\n",
    "y_np = y_train.to_numpy()\n",
    "\n",
    "# Índices das classes (1=Healthy, 2=With Cancer)\n",
    "ixHealthy = np.where(y_np == 1)[0]\n",
    "ixCancer = np.where(y_np == 2)[0]\n",
    "\n",
    "# Médias de cada classe (vetores coluna)\n",
    "muHealthy = np.array([np.mean(X_np[ixHealthy, :], axis=0)]).T\n",
    "muCancer = np.array([np.mean(X_np[ixCancer, :], axis=0)]).T\n",
    "\n",
    "# Matrizes de dispersão intra-classe\n",
    "S1 = (X_np[ixHealthy, :].T - muHealthy) @ (X_np[ixHealthy, :].T - muHealthy).T\n",
    "S2 = (X_np[ixCancer, :].T - muCancer) @ (X_np[ixCancer, :].T - muCancer).T\n",
    "\n",
    "# Dispersão total dentro das classes\n",
    "Sw = S1 + S2\n",
    "SwInv = np.linalg.inv(Sw)\n",
    "\n",
    "# Vetor discriminante de Fisher\n",
    "w = SwInv @ (muHealthy - muCancer)\n",
    "w = w / np.linalg.norm(w)  # normalização\n",
    "\n",
    "# Projetar os dados originais nessa direção\n",
    "Xp = X_np @ w\n",
    "Xp = Xp.squeeze()\n",
    "\n",
    "# Criar rótulos legíveis\n",
    "y_labels = y_train.replace({1: \"Healthy\", 2: \"With Cancer\"})\n",
    "\n",
    "# Plot 1D (linha horizontal)\n",
    "fig = px.scatter(\n",
    "    x=Xp,\n",
    "    y=np.zeros_like(Xp),\n",
    "    color=y_labels,\n",
    "    labels=dict(x=\"Fisher LDA1\", y=\"\", color=\"Classification\"),\n",
    "    title=\"Fisher Linear Discriminant - Projeção 1D das Classes\"\n",
    ")\n",
    "\n",
    "b = 0.5 * (w.T @ (muHealthy + muCancer))\n",
    "\n",
    "# Adicionar linha de separação\n",
    "fig.add_vline(x=b.squeeze(), line=dict(color='gray', dash='dash', width=3), name='Decision boundary')\n",
    "\n",
    "fig.update_layout(\n",
    "    title=\"Fisher LDA - Projeção 1D das Classes\",\n",
    "    xaxis_title=\"Fisher Linear Discriminant (wᵗx)\",\n",
    "    yaxis=dict(showticklabels=False, title=\"\"),\n",
    "\n",
    ")\n",
    "\n",
    "fig.update_layout(height=400)\n",
    "fig.show()\n",
    "\n"
   ]
  }
 ],
 "metadata": {
  "kernelspec": {
   "display_name": "base",
   "language": "python",
   "name": "python3"
  },
  "language_info": {
   "codemirror_mode": {
    "name": "ipython",
    "version": 3
   },
   "file_extension": ".py",
   "mimetype": "text/x-python",
   "name": "python",
   "nbconvert_exporter": "python",
   "pygments_lexer": "ipython3",
   "version": "3.12.7"
  }
 },
 "nbformat": 4,
 "nbformat_minor": 5
}
