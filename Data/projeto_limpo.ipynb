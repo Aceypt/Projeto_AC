{
 "cells": [
  {
   "cell_type": "code",
   "execution_count": null,
   "id": "f793abf4",
   "metadata": {},
   "outputs": [],
   "source": [
    "\n",
    "import numpy as np\n",
    "import pandas as pd\n",
    "\n",
    "from itertools import combinations\n",
    "from scipy.stats import kruskal\n",
    "\n",
    "from sklearn.model_selection import train_test_split\n",
    "from sklearn.preprocessing import StandardScaler\n",
    "from sklearn.metrics import roc_auc_score, confusion_matrix, classification_report\n",
    "\n",
    "from sklearn.decomposition import PCA\n",
    "from sklearn.discriminant_analysis import LinearDiscriminantAnalysis\n",
    "\n",
    "import plotly.express as px\n",
    "import plotly.graph_objects as go\n",
    "from plotly.subplots import make_subplots\n",
    "\n",
    "random_state = 67\n"
   ]
  },
  {
   "cell_type": "markdown",
   "id": "85c03edf",
   "metadata": {},
   "source": [
    "## 1. Data loading"
   ]
  },
  {
   "cell_type": "code",
   "execution_count": 6,
   "id": "fb496347",
   "metadata": {},
   "outputs": [
    {
     "name": "stdout",
     "output_type": "stream",
     "text": [
      "Shape: (116, 9)\n"
     ]
    },
    {
     "data": {
      "application/vnd.microsoft.datawrangler.viewer.v0+json": {
       "columns": [
        {
         "name": "index",
         "rawType": "int64",
         "type": "integer"
        },
        {
         "name": "Age",
         "rawType": "int64",
         "type": "integer"
        },
        {
         "name": "BMI",
         "rawType": "float64",
         "type": "float"
        },
        {
         "name": "Glucose",
         "rawType": "int64",
         "type": "integer"
        },
        {
         "name": "Insulin",
         "rawType": "float64",
         "type": "float"
        },
        {
         "name": "HOMA",
         "rawType": "float64",
         "type": "float"
        },
        {
         "name": "Leptin",
         "rawType": "float64",
         "type": "float"
        },
        {
         "name": "Adiponectin",
         "rawType": "float64",
         "type": "float"
        },
        {
         "name": "Resistin",
         "rawType": "float64",
         "type": "float"
        },
        {
         "name": "MCP.1",
         "rawType": "float64",
         "type": "float"
        },
        {
         "name": "Classification",
         "rawType": "int64",
         "type": "integer"
        }
       ],
       "ref": "e17151ad-8a3b-4261-89c1-5cb516733a8e",
       "rows": [
        [
         "0",
         "48",
         "23.5",
         "70",
         "2.707",
         "0.467408667",
         "8.8071",
         "9.7024",
         "7.99585",
         "417.114",
         "1"
        ],
        [
         "1",
         "83",
         "20.69049454",
         "92",
         "3.115",
         "0.706897333",
         "8.8438",
         "5.429285",
         "4.06405",
         "468.786",
         "1"
        ],
        [
         "2",
         "82",
         "23.12467037",
         "91",
         "4.498",
         "1.009651067",
         "17.9393",
         "22.43204",
         "9.27715",
         "554.697",
         "1"
        ],
        [
         "3",
         "68",
         "21.36752137",
         "77",
         "3.226",
         "0.612724933",
         "9.8827",
         "7.16956",
         "12.766",
         "928.22",
         "1"
        ],
        [
         "4",
         "86",
         "21.11111111",
         "92",
         "3.549",
         "0.8053864",
         "6.6994",
         "4.81924",
         "10.57635",
         "773.92",
         "1"
        ]
       ],
       "shape": {
        "columns": 10,
        "rows": 5
       }
      },
      "text/html": [
       "<div>\n",
       "<style scoped>\n",
       "    .dataframe tbody tr th:only-of-type {\n",
       "        vertical-align: middle;\n",
       "    }\n",
       "\n",
       "    .dataframe tbody tr th {\n",
       "        vertical-align: top;\n",
       "    }\n",
       "\n",
       "    .dataframe thead th {\n",
       "        text-align: right;\n",
       "    }\n",
       "</style>\n",
       "<table border=\"1\" class=\"dataframe\">\n",
       "  <thead>\n",
       "    <tr style=\"text-align: right;\">\n",
       "      <th></th>\n",
       "      <th>Age</th>\n",
       "      <th>BMI</th>\n",
       "      <th>Glucose</th>\n",
       "      <th>Insulin</th>\n",
       "      <th>HOMA</th>\n",
       "      <th>Leptin</th>\n",
       "      <th>Adiponectin</th>\n",
       "      <th>Resistin</th>\n",
       "      <th>MCP.1</th>\n",
       "      <th>Classification</th>\n",
       "    </tr>\n",
       "  </thead>\n",
       "  <tbody>\n",
       "    <tr>\n",
       "      <th>0</th>\n",
       "      <td>48</td>\n",
       "      <td>23.500000</td>\n",
       "      <td>70</td>\n",
       "      <td>2.707</td>\n",
       "      <td>0.467409</td>\n",
       "      <td>8.8071</td>\n",
       "      <td>9.702400</td>\n",
       "      <td>7.99585</td>\n",
       "      <td>417.114</td>\n",
       "      <td>1</td>\n",
       "    </tr>\n",
       "    <tr>\n",
       "      <th>1</th>\n",
       "      <td>83</td>\n",
       "      <td>20.690495</td>\n",
       "      <td>92</td>\n",
       "      <td>3.115</td>\n",
       "      <td>0.706897</td>\n",
       "      <td>8.8438</td>\n",
       "      <td>5.429285</td>\n",
       "      <td>4.06405</td>\n",
       "      <td>468.786</td>\n",
       "      <td>1</td>\n",
       "    </tr>\n",
       "    <tr>\n",
       "      <th>2</th>\n",
       "      <td>82</td>\n",
       "      <td>23.124670</td>\n",
       "      <td>91</td>\n",
       "      <td>4.498</td>\n",
       "      <td>1.009651</td>\n",
       "      <td>17.9393</td>\n",
       "      <td>22.432040</td>\n",
       "      <td>9.27715</td>\n",
       "      <td>554.697</td>\n",
       "      <td>1</td>\n",
       "    </tr>\n",
       "    <tr>\n",
       "      <th>3</th>\n",
       "      <td>68</td>\n",
       "      <td>21.367521</td>\n",
       "      <td>77</td>\n",
       "      <td>3.226</td>\n",
       "      <td>0.612725</td>\n",
       "      <td>9.8827</td>\n",
       "      <td>7.169560</td>\n",
       "      <td>12.76600</td>\n",
       "      <td>928.220</td>\n",
       "      <td>1</td>\n",
       "    </tr>\n",
       "    <tr>\n",
       "      <th>4</th>\n",
       "      <td>86</td>\n",
       "      <td>21.111111</td>\n",
       "      <td>92</td>\n",
       "      <td>3.549</td>\n",
       "      <td>0.805386</td>\n",
       "      <td>6.6994</td>\n",
       "      <td>4.819240</td>\n",
       "      <td>10.57635</td>\n",
       "      <td>773.920</td>\n",
       "      <td>1</td>\n",
       "    </tr>\n",
       "  </tbody>\n",
       "</table>\n",
       "</div>"
      ],
      "text/plain": [
       "   Age        BMI  Glucose  Insulin      HOMA   Leptin  Adiponectin  Resistin    MCP.1  Classification\n",
       "0   48  23.500000       70    2.707  0.467409   8.8071     9.702400   7.99585  417.114               1\n",
       "1   83  20.690495       92    3.115  0.706897   8.8438     5.429285   4.06405  468.786               1\n",
       "2   82  23.124670       91    4.498  1.009651  17.9393    22.432040   9.27715  554.697               1\n",
       "3   68  21.367521       77    3.226  0.612725   9.8827     7.169560  12.76600  928.220               1\n",
       "4   86  21.111111       92    3.549  0.805386   6.6994     4.819240  10.57635  773.920               1"
      ]
     },
     "metadata": {},
     "output_type": "display_data"
    },
    {
     "name": "stdout",
     "output_type": "stream",
     "text": [
      "\n",
      "Class balance:\n",
      "Classification\n",
      "With Cancer    64\n",
      "Healthy        52\n",
      "Name: count, dtype: int64\n"
     ]
    }
   ],
   "source": [
    "\n",
    "# Load data (adjust path if needed)\n",
    "data_path = \"dataR2.csv\"\n",
    "DataSet = pd.read_csv(data_path)\n",
    "\n",
    "# Ensure expected target name is present\n",
    "assert \"Classification\" in DataSet.columns, \"Expected 'Classification' column not found.\"\n",
    "\n",
    "# Separate X / y\n",
    "X = DataSet.drop(columns=[\"Classification\"]).copy()\n",
    "y = DataSet[\"Classification\"].copy()\n",
    "\n",
    "print(\"Shape:\", X.shape)\n",
    "display(DataSet.head())\n",
    "print(\"\\nClass balance:\")\n",
    "print(y.value_counts().rename({1:\"Healthy\", 2:\"With Cancer\"}))\n"
   ]
  },
  {
   "cell_type": "markdown",
   "id": "75e3c3b9",
   "metadata": {},
   "source": [
    "## 2. Data partitioning (Train / Validation / Test)"
   ]
  },
  {
   "cell_type": "code",
   "execution_count": 7,
   "id": "ae80c987",
   "metadata": {},
   "outputs": [
    {
     "name": "stdout",
     "output_type": "stream",
     "text": [
      "Train: (69, 9) Val: (23, 9) Test: (24, 9)\n"
     ]
    }
   ],
   "source": [
    "\n",
    "# 60/20/20 split: First split train vs temp; then temp -> val/test\n",
    "X_train, X_temp, y_train, y_temp = train_test_split(\n",
    "    X, y, test_size=0.4, stratify=y, random_state=random_state\n",
    ")\n",
    "X_val, X_test, y_val, y_test = train_test_split(\n",
    "    X_temp, y_temp, test_size=0.5, stratify=y_temp, random_state=random_state\n",
    ")\n",
    "\n",
    "print(\"Train:\", X_train.shape, \"Val:\", X_val.shape, \"Test:\", X_test.shape)\n"
   ]
  },
  {
   "cell_type": "markdown",
   "id": "4419f5e2",
   "metadata": {},
   "source": [
    "## 3. Feature inspection"
   ]
  },
  {
   "cell_type": "code",
   "execution_count": 8,
   "id": "25635e00",
   "metadata": {},
   "outputs": [
    {
     "ename": "Exception",
     "evalue": "The (row, col) pair sent is out of range. Use Figure.print_grid to view the subplot grid. ",
     "output_type": "error",
     "traceback": [
      "\u001b[0;31m---------------------------------------------------------------------------\u001b[0m",
      "\u001b[0;31mIndexError\u001b[0m                                Traceback (most recent call last)",
      "File \u001b[0;32m~/anaconda3/lib/python3.10/site-packages/plotly/_subplots.py:1384\u001b[0m, in \u001b[0;36m_set_trace_grid_reference\u001b[0;34m(trace, layout, grid_ref, row, col, secondary_y)\u001b[0m\n\u001b[1;32m   1383\u001b[0m \u001b[38;5;28;01mtry\u001b[39;00m:\n\u001b[0;32m-> 1384\u001b[0m     subplot_refs \u001b[38;5;241m=\u001b[39m \u001b[43mgrid_ref\u001b[49m\u001b[43m[\u001b[49m\u001b[43mrow\u001b[49m\u001b[43m \u001b[49m\u001b[38;5;241;43m-\u001b[39;49m\u001b[43m \u001b[49m\u001b[38;5;241;43m1\u001b[39;49m\u001b[43m]\u001b[49m[col \u001b[38;5;241m-\u001b[39m \u001b[38;5;241m1\u001b[39m]\n\u001b[1;32m   1385\u001b[0m \u001b[38;5;28;01mexcept\u001b[39;00m \u001b[38;5;167;01mIndexError\u001b[39;00m:\n",
      "\u001b[0;31mIndexError\u001b[0m: list index out of range",
      "\nDuring handling of the above exception, another exception occurred:\n",
      "\u001b[0;31mException\u001b[0m                                 Traceback (most recent call last)",
      "Cell \u001b[0;32mIn[8], line 5\u001b[0m\n\u001b[1;32m      3\u001b[0m r, c \u001b[38;5;241m=\u001b[39m \u001b[38;5;241m1\u001b[39m, \u001b[38;5;241m1\u001b[39m\n\u001b[1;32m      4\u001b[0m \u001b[38;5;28;01mfor\u001b[39;00m i, col \u001b[38;5;129;01min\u001b[39;00m \u001b[38;5;28menumerate\u001b[39m(X_train\u001b[38;5;241m.\u001b[39mcolumns):\n\u001b[0;32m----> 5\u001b[0m     \u001b[43mfig\u001b[49m\u001b[38;5;241;43m.\u001b[39;49m\u001b[43madd_trace\u001b[49m\u001b[43m(\u001b[49m\u001b[43mgo\u001b[49m\u001b[38;5;241;43m.\u001b[39;49m\u001b[43mHistogram\u001b[49m\u001b[43m(\u001b[49m\u001b[43mx\u001b[49m\u001b[38;5;241;43m=\u001b[39;49m\u001b[43mX_train\u001b[49m\u001b[43m[\u001b[49m\u001b[43mcol\u001b[49m\u001b[43m]\u001b[49m\u001b[43m,\u001b[49m\u001b[43m \u001b[49m\u001b[43mnbinsx\u001b[49m\u001b[38;5;241;43m=\u001b[39;49m\u001b[38;5;241;43m20\u001b[39;49m\u001b[43m,\u001b[49m\u001b[43m \u001b[49m\u001b[43mname\u001b[49m\u001b[38;5;241;43m=\u001b[39;49m\u001b[43mcol\u001b[49m\u001b[43m,\u001b[49m\u001b[43m \u001b[49m\u001b[43mshowlegend\u001b[49m\u001b[38;5;241;43m=\u001b[39;49m\u001b[38;5;28;43;01mFalse\u001b[39;49;00m\u001b[43m)\u001b[49m\u001b[43m,\u001b[49m\u001b[43m \u001b[49m\u001b[43mrow\u001b[49m\u001b[38;5;241;43m=\u001b[39;49m\u001b[43mr\u001b[49m\u001b[43m,\u001b[49m\u001b[43m \u001b[49m\u001b[43mcol\u001b[49m\u001b[38;5;241;43m=\u001b[39;49m\u001b[43mc\u001b[49m\u001b[43m)\u001b[49m\n\u001b[1;32m      6\u001b[0m     c \u001b[38;5;241m+\u001b[39m\u001b[38;5;241m=\u001b[39m \u001b[38;5;241m1\u001b[39m\n\u001b[1;32m      7\u001b[0m     \u001b[38;5;28;01mif\u001b[39;00m c \u001b[38;5;241m==\u001b[39m \u001b[38;5;241m5\u001b[39m:\n",
      "File \u001b[0;32m~/anaconda3/lib/python3.10/site-packages/plotly/graph_objs/_figure.py:917\u001b[0m, in \u001b[0;36mFigure.add_trace\u001b[0;34m(self, trace, row, col, secondary_y, exclude_empty_subplots)\u001b[0m\n\u001b[1;32m    842\u001b[0m \u001b[38;5;28;01mdef\u001b[39;00m\u001b[38;5;250m \u001b[39m\u001b[38;5;21madd_trace\u001b[39m(\n\u001b[1;32m    843\u001b[0m     \u001b[38;5;28mself\u001b[39m, trace, row\u001b[38;5;241m=\u001b[39m\u001b[38;5;28;01mNone\u001b[39;00m, col\u001b[38;5;241m=\u001b[39m\u001b[38;5;28;01mNone\u001b[39;00m, secondary_y\u001b[38;5;241m=\u001b[39m\u001b[38;5;28;01mNone\u001b[39;00m, exclude_empty_subplots\u001b[38;5;241m=\u001b[39m\u001b[38;5;28;01mFalse\u001b[39;00m\n\u001b[1;32m    844\u001b[0m ) \u001b[38;5;241m-\u001b[39m\u001b[38;5;241m>\u001b[39m \u001b[38;5;124m\"\u001b[39m\u001b[38;5;124mFigure\u001b[39m\u001b[38;5;124m\"\u001b[39m:\n\u001b[1;32m    845\u001b[0m \u001b[38;5;250m    \u001b[39m\u001b[38;5;124;03m\"\"\"\u001b[39;00m\n\u001b[1;32m    846\u001b[0m \n\u001b[1;32m    847\u001b[0m \u001b[38;5;124;03m    Add a trace to the figure\u001b[39;00m\n\u001b[0;32m   (...)\u001b[0m\n\u001b[1;32m    915\u001b[0m \n\u001b[1;32m    916\u001b[0m \u001b[38;5;124;03m    \"\"\"\u001b[39;00m\n\u001b[0;32m--> 917\u001b[0m     \u001b[38;5;28;01mreturn\u001b[39;00m \u001b[38;5;28;43msuper\u001b[39;49m\u001b[43m(\u001b[49m\u001b[43mFigure\u001b[49m\u001b[43m,\u001b[49m\u001b[43m \u001b[49m\u001b[38;5;28;43mself\u001b[39;49m\u001b[43m)\u001b[49m\u001b[38;5;241;43m.\u001b[39;49m\u001b[43madd_trace\u001b[49m\u001b[43m(\u001b[49m\n\u001b[1;32m    918\u001b[0m \u001b[43m        \u001b[49m\u001b[43mtrace\u001b[49m\u001b[43m,\u001b[49m\u001b[43m \u001b[49m\u001b[43mrow\u001b[49m\u001b[43m,\u001b[49m\u001b[43m \u001b[49m\u001b[43mcol\u001b[49m\u001b[43m,\u001b[49m\u001b[43m \u001b[49m\u001b[43msecondary_y\u001b[49m\u001b[43m,\u001b[49m\u001b[43m \u001b[49m\u001b[43mexclude_empty_subplots\u001b[49m\n\u001b[1;32m    919\u001b[0m \u001b[43m    \u001b[49m\u001b[43m)\u001b[49m\n",
      "File \u001b[0;32m~/anaconda3/lib/python3.10/site-packages/plotly/basedatatypes.py:2106\u001b[0m, in \u001b[0;36mBaseFigure.add_trace\u001b[0;34m(self, trace, row, col, secondary_y, exclude_empty_subplots)\u001b[0m\n\u001b[1;32m   2097\u001b[0m         \u001b[38;5;28mself\u001b[39m\u001b[38;5;241m.\u001b[39madd_trace(\n\u001b[1;32m   2098\u001b[0m             trace,\n\u001b[1;32m   2099\u001b[0m             row\u001b[38;5;241m=\u001b[39mr,\n\u001b[0;32m   (...)\u001b[0m\n\u001b[1;32m   2102\u001b[0m             exclude_empty_subplots\u001b[38;5;241m=\u001b[39mexclude_empty_subplots,\n\u001b[1;32m   2103\u001b[0m         )\n\u001b[1;32m   2104\u001b[0m     \u001b[38;5;28;01mreturn\u001b[39;00m \u001b[38;5;28mself\u001b[39m\n\u001b[0;32m-> 2106\u001b[0m \u001b[38;5;28;01mreturn\u001b[39;00m \u001b[38;5;28;43mself\u001b[39;49m\u001b[38;5;241;43m.\u001b[39;49m\u001b[43madd_traces\u001b[49m\u001b[43m(\u001b[49m\n\u001b[1;32m   2107\u001b[0m \u001b[43m    \u001b[49m\u001b[43mdata\u001b[49m\u001b[38;5;241;43m=\u001b[39;49m\u001b[43m[\u001b[49m\u001b[43mtrace\u001b[49m\u001b[43m]\u001b[49m\u001b[43m,\u001b[49m\n\u001b[1;32m   2108\u001b[0m \u001b[43m    \u001b[49m\u001b[43mrows\u001b[49m\u001b[38;5;241;43m=\u001b[39;49m\u001b[43m[\u001b[49m\u001b[43mrow\u001b[49m\u001b[43m]\u001b[49m\u001b[43m \u001b[49m\u001b[38;5;28;43;01mif\u001b[39;49;00m\u001b[43m \u001b[49m\u001b[43mrow\u001b[49m\u001b[43m \u001b[49m\u001b[38;5;129;43;01mis\u001b[39;49;00m\u001b[43m \u001b[49m\u001b[38;5;129;43;01mnot\u001b[39;49;00m\u001b[43m \u001b[49m\u001b[38;5;28;43;01mNone\u001b[39;49;00m\u001b[43m \u001b[49m\u001b[38;5;28;43;01melse\u001b[39;49;00m\u001b[43m \u001b[49m\u001b[38;5;28;43;01mNone\u001b[39;49;00m\u001b[43m,\u001b[49m\n\u001b[1;32m   2109\u001b[0m \u001b[43m    \u001b[49m\u001b[43mcols\u001b[49m\u001b[38;5;241;43m=\u001b[39;49m\u001b[43m[\u001b[49m\u001b[43mcol\u001b[49m\u001b[43m]\u001b[49m\u001b[43m \u001b[49m\u001b[38;5;28;43;01mif\u001b[39;49;00m\u001b[43m \u001b[49m\u001b[43mcol\u001b[49m\u001b[43m \u001b[49m\u001b[38;5;129;43;01mis\u001b[39;49;00m\u001b[43m \u001b[49m\u001b[38;5;129;43;01mnot\u001b[39;49;00m\u001b[43m \u001b[49m\u001b[38;5;28;43;01mNone\u001b[39;49;00m\u001b[43m \u001b[49m\u001b[38;5;28;43;01melse\u001b[39;49;00m\u001b[43m \u001b[49m\u001b[38;5;28;43;01mNone\u001b[39;49;00m\u001b[43m,\u001b[49m\n\u001b[1;32m   2110\u001b[0m \u001b[43m    \u001b[49m\u001b[43msecondary_ys\u001b[49m\u001b[38;5;241;43m=\u001b[39;49m\u001b[43m[\u001b[49m\u001b[43msecondary_y\u001b[49m\u001b[43m]\u001b[49m\u001b[43m \u001b[49m\u001b[38;5;28;43;01mif\u001b[39;49;00m\u001b[43m \u001b[49m\u001b[43msecondary_y\u001b[49m\u001b[43m \u001b[49m\u001b[38;5;129;43;01mis\u001b[39;49;00m\u001b[43m \u001b[49m\u001b[38;5;129;43;01mnot\u001b[39;49;00m\u001b[43m \u001b[49m\u001b[38;5;28;43;01mNone\u001b[39;49;00m\u001b[43m \u001b[49m\u001b[38;5;28;43;01melse\u001b[39;49;00m\u001b[43m \u001b[49m\u001b[38;5;28;43;01mNone\u001b[39;49;00m\u001b[43m,\u001b[49m\n\u001b[1;32m   2111\u001b[0m \u001b[43m    \u001b[49m\u001b[43mexclude_empty_subplots\u001b[49m\u001b[38;5;241;43m=\u001b[39;49m\u001b[43mexclude_empty_subplots\u001b[49m\u001b[43m,\u001b[49m\n\u001b[1;32m   2112\u001b[0m \u001b[43m\u001b[49m\u001b[43m)\u001b[49m\n",
      "File \u001b[0;32m~/anaconda3/lib/python3.10/site-packages/plotly/graph_objs/_figure.py:997\u001b[0m, in \u001b[0;36mFigure.add_traces\u001b[0;34m(self, data, rows, cols, secondary_ys, exclude_empty_subplots)\u001b[0m\n\u001b[1;32m    921\u001b[0m \u001b[38;5;28;01mdef\u001b[39;00m\u001b[38;5;250m \u001b[39m\u001b[38;5;21madd_traces\u001b[39m(\n\u001b[1;32m    922\u001b[0m     \u001b[38;5;28mself\u001b[39m,\n\u001b[1;32m    923\u001b[0m     data,\n\u001b[0;32m   (...)\u001b[0m\n\u001b[1;32m    927\u001b[0m     exclude_empty_subplots\u001b[38;5;241m=\u001b[39m\u001b[38;5;28;01mFalse\u001b[39;00m,\n\u001b[1;32m    928\u001b[0m ) \u001b[38;5;241m-\u001b[39m\u001b[38;5;241m>\u001b[39m \u001b[38;5;124m\"\u001b[39m\u001b[38;5;124mFigure\u001b[39m\u001b[38;5;124m\"\u001b[39m:\n\u001b[1;32m    929\u001b[0m \u001b[38;5;250m    \u001b[39m\u001b[38;5;124;03m\"\"\"\u001b[39;00m\n\u001b[1;32m    930\u001b[0m \n\u001b[1;32m    931\u001b[0m \u001b[38;5;124;03m    Add traces to the figure\u001b[39;00m\n\u001b[0;32m   (...)\u001b[0m\n\u001b[1;32m    995\u001b[0m \n\u001b[1;32m    996\u001b[0m \u001b[38;5;124;03m    \"\"\"\u001b[39;00m\n\u001b[0;32m--> 997\u001b[0m     \u001b[38;5;28;01mreturn\u001b[39;00m \u001b[38;5;28;43msuper\u001b[39;49m\u001b[43m(\u001b[49m\u001b[43mFigure\u001b[49m\u001b[43m,\u001b[49m\u001b[43m \u001b[49m\u001b[38;5;28;43mself\u001b[39;49m\u001b[43m)\u001b[49m\u001b[38;5;241;43m.\u001b[39;49m\u001b[43madd_traces\u001b[49m\u001b[43m(\u001b[49m\n\u001b[1;32m    998\u001b[0m \u001b[43m        \u001b[49m\u001b[43mdata\u001b[49m\u001b[43m,\u001b[49m\u001b[43m \u001b[49m\u001b[43mrows\u001b[49m\u001b[43m,\u001b[49m\u001b[43m \u001b[49m\u001b[43mcols\u001b[49m\u001b[43m,\u001b[49m\u001b[43m \u001b[49m\u001b[43msecondary_ys\u001b[49m\u001b[43m,\u001b[49m\u001b[43m \u001b[49m\u001b[43mexclude_empty_subplots\u001b[49m\n\u001b[1;32m    999\u001b[0m \u001b[43m    \u001b[49m\u001b[43m)\u001b[49m\n",
      "File \u001b[0;32m~/anaconda3/lib/python3.10/site-packages/plotly/basedatatypes.py:2236\u001b[0m, in \u001b[0;36mBaseFigure.add_traces\u001b[0;34m(self, data, rows, cols, secondary_ys, exclude_empty_subplots)\u001b[0m\n\u001b[1;32m   2234\u001b[0m \u001b[38;5;28;01mif\u001b[39;00m rows \u001b[38;5;129;01mis\u001b[39;00m \u001b[38;5;129;01mnot\u001b[39;00m \u001b[38;5;28;01mNone\u001b[39;00m:\n\u001b[1;32m   2235\u001b[0m     \u001b[38;5;28;01mfor\u001b[39;00m trace, row, col, secondary_y \u001b[38;5;129;01min\u001b[39;00m \u001b[38;5;28mzip\u001b[39m(data, rows, cols, secondary_ys):\n\u001b[0;32m-> 2236\u001b[0m         \u001b[38;5;28;43mself\u001b[39;49m\u001b[38;5;241;43m.\u001b[39;49m\u001b[43m_set_trace_grid_position\u001b[49m\u001b[43m(\u001b[49m\u001b[43mtrace\u001b[49m\u001b[43m,\u001b[49m\u001b[43m \u001b[49m\u001b[43mrow\u001b[49m\u001b[43m,\u001b[49m\u001b[43m \u001b[49m\u001b[43mcol\u001b[49m\u001b[43m,\u001b[49m\u001b[43m \u001b[49m\u001b[43msecondary_y\u001b[49m\u001b[43m)\u001b[49m\n\u001b[1;32m   2238\u001b[0m \u001b[38;5;28;01mif\u001b[39;00m exclude_empty_subplots:\n\u001b[1;32m   2239\u001b[0m     data \u001b[38;5;241m=\u001b[39m \u001b[38;5;28mlist\u001b[39m(\n\u001b[1;32m   2240\u001b[0m         \u001b[38;5;28mfilter\u001b[39m(\n\u001b[1;32m   2241\u001b[0m             \u001b[38;5;28;01mlambda\u001b[39;00m trace: \u001b[38;5;28mself\u001b[39m\u001b[38;5;241m.\u001b[39m_subplot_not_empty(\n\u001b[0;32m   (...)\u001b[0m\n\u001b[1;32m   2245\u001b[0m         )\n\u001b[1;32m   2246\u001b[0m     )\n",
      "File \u001b[0;32m~/anaconda3/lib/python3.10/site-packages/plotly/basedatatypes.py:2328\u001b[0m, in \u001b[0;36mBaseFigure._set_trace_grid_position\u001b[0;34m(self, trace, row, col, secondary_y)\u001b[0m\n\u001b[1;32m   2325\u001b[0m \u001b[38;5;28;01mfrom\u001b[39;00m\u001b[38;5;250m \u001b[39m\u001b[38;5;21;01mplotly\u001b[39;00m\u001b[38;5;21;01m.\u001b[39;00m\u001b[38;5;21;01m_subplots\u001b[39;00m\u001b[38;5;250m \u001b[39m\u001b[38;5;28;01mimport\u001b[39;00m _set_trace_grid_reference\n\u001b[1;32m   2327\u001b[0m grid_ref \u001b[38;5;241m=\u001b[39m \u001b[38;5;28mself\u001b[39m\u001b[38;5;241m.\u001b[39m_validate_get_grid_ref()\n\u001b[0;32m-> 2328\u001b[0m \u001b[38;5;28;01mreturn\u001b[39;00m \u001b[43m_set_trace_grid_reference\u001b[49m\u001b[43m(\u001b[49m\n\u001b[1;32m   2329\u001b[0m \u001b[43m    \u001b[49m\u001b[43mtrace\u001b[49m\u001b[43m,\u001b[49m\u001b[43m \u001b[49m\u001b[38;5;28;43mself\u001b[39;49m\u001b[38;5;241;43m.\u001b[39;49m\u001b[43mlayout\u001b[49m\u001b[43m,\u001b[49m\u001b[43m \u001b[49m\u001b[43mgrid_ref\u001b[49m\u001b[43m,\u001b[49m\u001b[43m \u001b[49m\u001b[43mrow\u001b[49m\u001b[43m,\u001b[49m\u001b[43m \u001b[49m\u001b[43mcol\u001b[49m\u001b[43m,\u001b[49m\u001b[43m \u001b[49m\u001b[43msecondary_y\u001b[49m\n\u001b[1;32m   2330\u001b[0m \u001b[43m\u001b[49m\u001b[43m)\u001b[49m\n",
      "File \u001b[0;32m~/anaconda3/lib/python3.10/site-packages/plotly/_subplots.py:1386\u001b[0m, in \u001b[0;36m_set_trace_grid_reference\u001b[0;34m(trace, layout, grid_ref, row, col, secondary_y)\u001b[0m\n\u001b[1;32m   1384\u001b[0m         subplot_refs \u001b[38;5;241m=\u001b[39m grid_ref[row \u001b[38;5;241m-\u001b[39m \u001b[38;5;241m1\u001b[39m][col \u001b[38;5;241m-\u001b[39m \u001b[38;5;241m1\u001b[39m]\n\u001b[1;32m   1385\u001b[0m     \u001b[38;5;28;01mexcept\u001b[39;00m \u001b[38;5;167;01mIndexError\u001b[39;00m:\n\u001b[0;32m-> 1386\u001b[0m         \u001b[38;5;28;01mraise\u001b[39;00m \u001b[38;5;167;01mException\u001b[39;00m(\n\u001b[1;32m   1387\u001b[0m             \u001b[38;5;124m\"\u001b[39m\u001b[38;5;124mThe (row, col) pair sent is out of \u001b[39m\u001b[38;5;124m\"\u001b[39m\n\u001b[1;32m   1388\u001b[0m             \u001b[38;5;124m\"\u001b[39m\u001b[38;5;124mrange. Use Figure.print_grid to view the \u001b[39m\u001b[38;5;124m\"\u001b[39m\n\u001b[1;32m   1389\u001b[0m             \u001b[38;5;124m\"\u001b[39m\u001b[38;5;124msubplot grid. \u001b[39m\u001b[38;5;124m\"\u001b[39m\n\u001b[1;32m   1390\u001b[0m         )\n\u001b[1;32m   1392\u001b[0m     \u001b[38;5;28;01mif\u001b[39;00m \u001b[38;5;129;01mnot\u001b[39;00m subplot_refs:\n\u001b[1;32m   1393\u001b[0m         \u001b[38;5;28;01mraise\u001b[39;00m \u001b[38;5;167;01mValueError\u001b[39;00m(\n\u001b[1;32m   1394\u001b[0m \u001b[38;5;250m            \u001b[39m\u001b[38;5;124;03m\"\"\"\u001b[39;00m\n\u001b[1;32m   1395\u001b[0m \u001b[38;5;124;03mNo subplot specified at grid position ({row}, {col})\"\"\"\u001b[39;00m\u001b[38;5;241m.\u001b[39mformat(\n\u001b[1;32m   1396\u001b[0m                 row\u001b[38;5;241m=\u001b[39mrow, col\u001b[38;5;241m=\u001b[39mcol\n\u001b[1;32m   1397\u001b[0m             )\n\u001b[1;32m   1398\u001b[0m         )\n",
      "\u001b[0;31mException\u001b[0m: The (row, col) pair sent is out of range. Use Figure.print_grid to view the subplot grid. "
     ]
    }
   ],
   "source": [
    "\n",
    "# Distributions (train only)\n",
    "fig = make_subplots(rows=2, cols=4, subplot_titles=list(X_train.columns), horizontal_spacing=0.08, vertical_spacing=0.15)\n",
    "r, c = 1, 1\n",
    "for i, col in enumerate(X_train.columns):\n",
    "    fig.add_trace(go.Histogram(x=X_train[col], nbinsx=20, name=col, showlegend=False), row=r, col=c)\n",
    "    c += 1\n",
    "    if c == 5:\n",
    "        r += 1\n",
    "        c = 1\n",
    "fig.update_layout(height=600, width=1000, title_text=\"Train feature distributions\")\n",
    "fig.show()\n",
    "\n",
    "# Correlation (Spearman) — train only\n",
    "corr = X_train.corr(method=\"spearman\")\n",
    "fig = px.imshow(corr, text_auto=False, aspect=\"auto\", color_continuous_scale=\"RdBu\", origin=\"lower\")\n",
    "fig.update_layout(title=\"Spearman correlation (train only)\")\n",
    "fig.show()\n"
   ]
  },
  {
   "cell_type": "markdown",
   "id": "422d4155",
   "metadata": {},
   "source": [
    "### 3.1 Feature ranking (Kruskal–Wallis & ROC-AUC on train)"
   ]
  },
  {
   "cell_type": "code",
   "execution_count": null,
   "id": "9a1fb46e",
   "metadata": {},
   "outputs": [
    {
     "data": {
      "application/vnd.microsoft.datawrangler.viewer.v0+json": {
       "columns": [
        {
         "name": "index",
         "rawType": "int64",
         "type": "integer"
        },
        {
         "name": "Feature",
         "rawType": "object",
         "type": "string"
        },
        {
         "name": "Kruskal H",
         "rawType": "float64",
         "type": "float"
        },
        {
         "name": "ROC-AUC",
         "rawType": "float64",
         "type": "float"
        }
       ],
       "ref": "1d73179a-c58e-42b8-9594-521ee8ceb3f2",
       "rows": [
        [
         "0",
         "Glucose",
         "20.707547881075282",
         "0.8200339558573854"
        ],
        [
         "1",
         "HOMA",
         "5.308901285471734",
         "0.6621392190152802"
        ],
        [
         "2",
         "Resistin",
         "5.198302207130723",
         "0.6604414261460102"
        ],
        [
         "3",
         "Insulin",
         "3.0597211877906334",
         "0.6230899830220713"
        ],
        [
         "4",
         "Age",
         "0.8636387456400443",
         "0.43463497453310695"
        ],
        [
         "5",
         "Adiponectin",
         "0.13984962406016166",
         "0.47368421052631576"
        ],
        [
         "6",
         "MCP.1",
         "0.08382399068571743",
         "0.5203735144312394"
        ],
        [
         "7",
         "BMI",
         "0.06727020780290402",
         "0.481748726655348"
        ],
        [
         "8",
         "Leptin",
         "0.0641765704583861",
         "0.48217317487266553"
        ]
       ],
       "shape": {
        "columns": 3,
        "rows": 9
       }
      },
      "text/html": [
       "<div>\n",
       "<style scoped>\n",
       "    .dataframe tbody tr th:only-of-type {\n",
       "        vertical-align: middle;\n",
       "    }\n",
       "\n",
       "    .dataframe tbody tr th {\n",
       "        vertical-align: top;\n",
       "    }\n",
       "\n",
       "    .dataframe thead th {\n",
       "        text-align: right;\n",
       "    }\n",
       "</style>\n",
       "<table border=\"1\" class=\"dataframe\">\n",
       "  <thead>\n",
       "    <tr style=\"text-align: right;\">\n",
       "      <th></th>\n",
       "      <th>Feature</th>\n",
       "      <th>Kruskal H</th>\n",
       "      <th>ROC-AUC</th>\n",
       "    </tr>\n",
       "  </thead>\n",
       "  <tbody>\n",
       "    <tr>\n",
       "      <th>0</th>\n",
       "      <td>Glucose</td>\n",
       "      <td>20.707548</td>\n",
       "      <td>0.820034</td>\n",
       "    </tr>\n",
       "    <tr>\n",
       "      <th>1</th>\n",
       "      <td>HOMA</td>\n",
       "      <td>5.308901</td>\n",
       "      <td>0.662139</td>\n",
       "    </tr>\n",
       "    <tr>\n",
       "      <th>2</th>\n",
       "      <td>Resistin</td>\n",
       "      <td>5.198302</td>\n",
       "      <td>0.660441</td>\n",
       "    </tr>\n",
       "    <tr>\n",
       "      <th>3</th>\n",
       "      <td>Insulin</td>\n",
       "      <td>3.059721</td>\n",
       "      <td>0.623090</td>\n",
       "    </tr>\n",
       "    <tr>\n",
       "      <th>4</th>\n",
       "      <td>Age</td>\n",
       "      <td>0.863639</td>\n",
       "      <td>0.434635</td>\n",
       "    </tr>\n",
       "    <tr>\n",
       "      <th>5</th>\n",
       "      <td>Adiponectin</td>\n",
       "      <td>0.139850</td>\n",
       "      <td>0.473684</td>\n",
       "    </tr>\n",
       "    <tr>\n",
       "      <th>6</th>\n",
       "      <td>MCP.1</td>\n",
       "      <td>0.083824</td>\n",
       "      <td>0.520374</td>\n",
       "    </tr>\n",
       "    <tr>\n",
       "      <th>7</th>\n",
       "      <td>BMI</td>\n",
       "      <td>0.067270</td>\n",
       "      <td>0.481749</td>\n",
       "    </tr>\n",
       "    <tr>\n",
       "      <th>8</th>\n",
       "      <td>Leptin</td>\n",
       "      <td>0.064177</td>\n",
       "      <td>0.482173</td>\n",
       "    </tr>\n",
       "  </tbody>\n",
       "</table>\n",
       "</div>"
      ],
      "text/plain": [
       "       Feature  Kruskal H   ROC-AUC\n",
       "0      Glucose  20.707548  0.820034\n",
       "1         HOMA   5.308901  0.662139\n",
       "2     Resistin   5.198302  0.660441\n",
       "3      Insulin   3.059721  0.623090\n",
       "4          Age   0.863639  0.434635\n",
       "5  Adiponectin   0.139850  0.473684\n",
       "6        MCP.1   0.083824  0.520374\n",
       "7          BMI   0.067270  0.481749\n",
       "8       Leptin   0.064177  0.482173"
      ]
     },
     "metadata": {},
     "output_type": "display_data"
    }
   ],
   "source": [
    "\n",
    "features = list(X_train.columns)\n",
    "rank_rows = []\n",
    "for f in features:\n",
    "    # Kruskal on train\n",
    "    h = kruskal(X_train.loc[y_train==1, f], X_train.loc[y_train==2, f])[0]\n",
    "    # ROC-AUC on train (treat feature as score)\n",
    "    auc = roc_auc_score(y_train, X_train[f])\n",
    "    rank_rows.append({\"Feature\": f, \"Kruskal H\": h, \"ROC-AUC\": auc})\n",
    "\n",
    "ranking = pd.DataFrame(rank_rows).sort_values(by=\"Kruskal H\", ascending=False).reset_index(drop=True)\n",
    "display(ranking)\n"
   ]
  },
  {
   "cell_type": "markdown",
   "id": "f9a9f162",
   "metadata": {},
   "source": [
    "## 4. Standardization (fit on train only)"
   ]
  },
  {
   "cell_type": "code",
   "execution_count": null,
   "id": "373ff8a8",
   "metadata": {},
   "outputs": [
    {
     "data": {
      "application/vnd.microsoft.datawrangler.viewer.v0+json": {
       "columns": [
        {
         "name": "index",
         "rawType": "int64",
         "type": "integer"
        },
        {
         "name": "Age",
         "rawType": "float64",
         "type": "float"
        },
        {
         "name": "BMI",
         "rawType": "float64",
         "type": "float"
        },
        {
         "name": "Glucose",
         "rawType": "float64",
         "type": "float"
        },
        {
         "name": "Insulin",
         "rawType": "float64",
         "type": "float"
        },
        {
         "name": "HOMA",
         "rawType": "float64",
         "type": "float"
        },
        {
         "name": "Leptin",
         "rawType": "float64",
         "type": "float"
        },
        {
         "name": "Adiponectin",
         "rawType": "float64",
         "type": "float"
        },
        {
         "name": "Resistin",
         "rawType": "float64",
         "type": "float"
        },
        {
         "name": "MCP.1",
         "rawType": "float64",
         "type": "float"
        }
       ],
       "ref": "4633fa5d-194b-41fb-99b7-f6aa0efba7e2",
       "rows": [
        [
         "105",
         "0.9850127118880476",
         "1.796462441040712",
         "1.4152391136804052",
         "-0.4998891375076459",
         "-0.280223575017576",
         "0.6571850676952645",
         "-0.9474636636097785",
         "-0.5941323938518351",
         "0.7700720328231281"
        ],
        [
         "27",
         "0.5436758474706757",
         "0.7184732236709089",
         "-0.43120091602896743",
         "-0.10895228982974833",
         "-0.22153199874235469",
         "0.8692542607054392",
         "0.033808317980491776",
         "0.6681011234594848",
         "1.6609568080072847"
        ],
        [
         "49",
         "1.7415901937463996",
         "-0.20412466644502872",
         "-0.1794136392504166",
         "-0.6270600599719994",
         "-0.5299389437759933",
         "-0.9047724977846809",
         "-0.3049820999428949",
         "-0.38583521560065787",
         "-0.8139557307108698"
        ],
        [
         "52",
         "-0.7803347457814404",
         "-1.2122923451208598",
         "0.07237363752813424",
         "0.39009067421903937",
         "0.22221408781385596",
         "-0.914193657719988",
         "1.5297563946531154",
         "0.6414763785761359",
         "0.0974939627530932"
        ],
        [
         "50",
         "1.1741570823526357",
         "-0.10894359680550486",
         "0.408090006566202",
         "1.7288516884753808",
         "1.3454611232825207",
         "-0.2564626382048488",
         "-0.72380321989686",
         "-0.4715339480891667",
         "-1.343475354739018"
        ]
       ],
       "shape": {
        "columns": 9,
        "rows": 5
       }
      },
      "text/html": [
       "<div>\n",
       "<style scoped>\n",
       "    .dataframe tbody tr th:only-of-type {\n",
       "        vertical-align: middle;\n",
       "    }\n",
       "\n",
       "    .dataframe tbody tr th {\n",
       "        vertical-align: top;\n",
       "    }\n",
       "\n",
       "    .dataframe thead th {\n",
       "        text-align: right;\n",
       "    }\n",
       "</style>\n",
       "<table border=\"1\" class=\"dataframe\">\n",
       "  <thead>\n",
       "    <tr style=\"text-align: right;\">\n",
       "      <th></th>\n",
       "      <th>Age</th>\n",
       "      <th>BMI</th>\n",
       "      <th>Glucose</th>\n",
       "      <th>Insulin</th>\n",
       "      <th>HOMA</th>\n",
       "      <th>Leptin</th>\n",
       "      <th>Adiponectin</th>\n",
       "      <th>Resistin</th>\n",
       "      <th>MCP.1</th>\n",
       "    </tr>\n",
       "  </thead>\n",
       "  <tbody>\n",
       "    <tr>\n",
       "      <th>105</th>\n",
       "      <td>0.985013</td>\n",
       "      <td>1.796462</td>\n",
       "      <td>1.415239</td>\n",
       "      <td>-0.499889</td>\n",
       "      <td>-0.280224</td>\n",
       "      <td>0.657185</td>\n",
       "      <td>-0.947464</td>\n",
       "      <td>-0.594132</td>\n",
       "      <td>0.770072</td>\n",
       "    </tr>\n",
       "    <tr>\n",
       "      <th>27</th>\n",
       "      <td>0.543676</td>\n",
       "      <td>0.718473</td>\n",
       "      <td>-0.431201</td>\n",
       "      <td>-0.108952</td>\n",
       "      <td>-0.221532</td>\n",
       "      <td>0.869254</td>\n",
       "      <td>0.033808</td>\n",
       "      <td>0.668101</td>\n",
       "      <td>1.660957</td>\n",
       "    </tr>\n",
       "    <tr>\n",
       "      <th>49</th>\n",
       "      <td>1.741590</td>\n",
       "      <td>-0.204125</td>\n",
       "      <td>-0.179414</td>\n",
       "      <td>-0.627060</td>\n",
       "      <td>-0.529939</td>\n",
       "      <td>-0.904772</td>\n",
       "      <td>-0.304982</td>\n",
       "      <td>-0.385835</td>\n",
       "      <td>-0.813956</td>\n",
       "    </tr>\n",
       "    <tr>\n",
       "      <th>52</th>\n",
       "      <td>-0.780335</td>\n",
       "      <td>-1.212292</td>\n",
       "      <td>0.072374</td>\n",
       "      <td>0.390091</td>\n",
       "      <td>0.222214</td>\n",
       "      <td>-0.914194</td>\n",
       "      <td>1.529756</td>\n",
       "      <td>0.641476</td>\n",
       "      <td>0.097494</td>\n",
       "    </tr>\n",
       "    <tr>\n",
       "      <th>50</th>\n",
       "      <td>1.174157</td>\n",
       "      <td>-0.108944</td>\n",
       "      <td>0.408090</td>\n",
       "      <td>1.728852</td>\n",
       "      <td>1.345461</td>\n",
       "      <td>-0.256463</td>\n",
       "      <td>-0.723803</td>\n",
       "      <td>-0.471534</td>\n",
       "      <td>-1.343475</td>\n",
       "    </tr>\n",
       "  </tbody>\n",
       "</table>\n",
       "</div>"
      ],
      "text/plain": [
       "          Age       BMI   Glucose   Insulin      HOMA    Leptin  Adiponectin  Resistin     MCP.1\n",
       "105  0.985013  1.796462  1.415239 -0.499889 -0.280224  0.657185    -0.947464 -0.594132  0.770072\n",
       "27   0.543676  0.718473 -0.431201 -0.108952 -0.221532  0.869254     0.033808  0.668101  1.660957\n",
       "49   1.741590 -0.204125 -0.179414 -0.627060 -0.529939 -0.904772    -0.304982 -0.385835 -0.813956\n",
       "52  -0.780335 -1.212292  0.072374  0.390091  0.222214 -0.914194     1.529756  0.641476  0.097494\n",
       "50   1.174157 -0.108944  0.408090  1.728852  1.345461 -0.256463    -0.723803 -0.471534 -1.343475"
      ]
     },
     "metadata": {},
     "output_type": "display_data"
    }
   ],
   "source": [
    "\n",
    "scaler = StandardScaler().fit(X_train)\n",
    "X_train_s = pd.DataFrame(scaler.transform(X_train), columns=X_train.columns, index=X_train.index)\n",
    "X_val_s   = pd.DataFrame(scaler.transform(X_val),   columns=X_val.columns,   index=X_val.index)\n",
    "X_test_s  = pd.DataFrame(scaler.transform(X_test),  columns=X_test.columns,  index=X_test.index)\n",
    "\n",
    "display(X_train_s.head())\n"
   ]
  },
  {
   "cell_type": "markdown",
   "id": "156a9d59",
   "metadata": {},
   "source": [
    "## 5. PCA (train fit)"
   ]
  },
  {
   "cell_type": "code",
   "execution_count": null,
   "id": "fe2146c1",
   "metadata": {},
   "outputs": [
    {
     "data": {
      "application/vnd.plotly.v1+json": {
       "config": {
        "plotlyServerURL": "https://plot.ly"
       },
       "data": [
        {
         "hovertemplate": "PC=%{x}<br>Explained variance=%{y}<extra></extra>",
         "legendgroup": "",
         "line": {
          "color": "#636efa",
          "dash": "solid"
         },
         "marker": {
          "symbol": "circle"
         },
         "mode": "markers+lines",
         "name": "",
         "orientation": "v",
         "showlegend": false,
         "type": "scatter",
         "x": [
          1,
          2,
          3,
          4,
          5,
          6,
          7,
          8,
          9
         ],
         "xaxis": "x",
         "y": [
          3.1213344755281844,
          1.467633037467101,
          1.3744521523981428,
          1.1143148386861115,
          0.7664777228573862,
          0.5677057152992177,
          0.44042382394808693,
          0.25009908400238595,
          0.029912090989852903
         ],
         "yaxis": "y"
        }
       ],
       "layout": {
        "legend": {
         "tracegroupgap": 0
        },
        "shapes": [
         {
          "line": {
           "color": "red",
           "dash": "dash",
           "width": 3
          },
          "type": "line",
          "x0": 0,
          "x1": 1,
          "xref": "x domain",
          "y0": 1,
          "y1": 1,
          "yref": "y"
         }
        ],
        "template": {
         "data": {
          "bar": [
           {
            "error_x": {
             "color": "#2a3f5f"
            },
            "error_y": {
             "color": "#2a3f5f"
            },
            "marker": {
             "line": {
              "color": "#E5ECF6",
              "width": 0.5
             },
             "pattern": {
              "fillmode": "overlay",
              "size": 10,
              "solidity": 0.2
             }
            },
            "type": "bar"
           }
          ],
          "barpolar": [
           {
            "marker": {
             "line": {
              "color": "#E5ECF6",
              "width": 0.5
             },
             "pattern": {
              "fillmode": "overlay",
              "size": 10,
              "solidity": 0.2
             }
            },
            "type": "barpolar"
           }
          ],
          "carpet": [
           {
            "aaxis": {
             "endlinecolor": "#2a3f5f",
             "gridcolor": "white",
             "linecolor": "white",
             "minorgridcolor": "white",
             "startlinecolor": "#2a3f5f"
            },
            "baxis": {
             "endlinecolor": "#2a3f5f",
             "gridcolor": "white",
             "linecolor": "white",
             "minorgridcolor": "white",
             "startlinecolor": "#2a3f5f"
            },
            "type": "carpet"
           }
          ],
          "choropleth": [
           {
            "colorbar": {
             "outlinewidth": 0,
             "ticks": ""
            },
            "type": "choropleth"
           }
          ],
          "contour": [
           {
            "colorbar": {
             "outlinewidth": 0,
             "ticks": ""
            },
            "colorscale": [
             [
              0,
              "#0d0887"
             ],
             [
              0.1111111111111111,
              "#46039f"
             ],
             [
              0.2222222222222222,
              "#7201a8"
             ],
             [
              0.3333333333333333,
              "#9c179e"
             ],
             [
              0.4444444444444444,
              "#bd3786"
             ],
             [
              0.5555555555555556,
              "#d8576b"
             ],
             [
              0.6666666666666666,
              "#ed7953"
             ],
             [
              0.7777777777777778,
              "#fb9f3a"
             ],
             [
              0.8888888888888888,
              "#fdca26"
             ],
             [
              1,
              "#f0f921"
             ]
            ],
            "type": "contour"
           }
          ],
          "contourcarpet": [
           {
            "colorbar": {
             "outlinewidth": 0,
             "ticks": ""
            },
            "type": "contourcarpet"
           }
          ],
          "heatmap": [
           {
            "colorbar": {
             "outlinewidth": 0,
             "ticks": ""
            },
            "colorscale": [
             [
              0,
              "#0d0887"
             ],
             [
              0.1111111111111111,
              "#46039f"
             ],
             [
              0.2222222222222222,
              "#7201a8"
             ],
             [
              0.3333333333333333,
              "#9c179e"
             ],
             [
              0.4444444444444444,
              "#bd3786"
             ],
             [
              0.5555555555555556,
              "#d8576b"
             ],
             [
              0.6666666666666666,
              "#ed7953"
             ],
             [
              0.7777777777777778,
              "#fb9f3a"
             ],
             [
              0.8888888888888888,
              "#fdca26"
             ],
             [
              1,
              "#f0f921"
             ]
            ],
            "type": "heatmap"
           }
          ],
          "heatmapgl": [
           {
            "colorbar": {
             "outlinewidth": 0,
             "ticks": ""
            },
            "colorscale": [
             [
              0,
              "#0d0887"
             ],
             [
              0.1111111111111111,
              "#46039f"
             ],
             [
              0.2222222222222222,
              "#7201a8"
             ],
             [
              0.3333333333333333,
              "#9c179e"
             ],
             [
              0.4444444444444444,
              "#bd3786"
             ],
             [
              0.5555555555555556,
              "#d8576b"
             ],
             [
              0.6666666666666666,
              "#ed7953"
             ],
             [
              0.7777777777777778,
              "#fb9f3a"
             ],
             [
              0.8888888888888888,
              "#fdca26"
             ],
             [
              1,
              "#f0f921"
             ]
            ],
            "type": "heatmapgl"
           }
          ],
          "histogram": [
           {
            "marker": {
             "pattern": {
              "fillmode": "overlay",
              "size": 10,
              "solidity": 0.2
             }
            },
            "type": "histogram"
           }
          ],
          "histogram2d": [
           {
            "colorbar": {
             "outlinewidth": 0,
             "ticks": ""
            },
            "colorscale": [
             [
              0,
              "#0d0887"
             ],
             [
              0.1111111111111111,
              "#46039f"
             ],
             [
              0.2222222222222222,
              "#7201a8"
             ],
             [
              0.3333333333333333,
              "#9c179e"
             ],
             [
              0.4444444444444444,
              "#bd3786"
             ],
             [
              0.5555555555555556,
              "#d8576b"
             ],
             [
              0.6666666666666666,
              "#ed7953"
             ],
             [
              0.7777777777777778,
              "#fb9f3a"
             ],
             [
              0.8888888888888888,
              "#fdca26"
             ],
             [
              1,
              "#f0f921"
             ]
            ],
            "type": "histogram2d"
           }
          ],
          "histogram2dcontour": [
           {
            "colorbar": {
             "outlinewidth": 0,
             "ticks": ""
            },
            "colorscale": [
             [
              0,
              "#0d0887"
             ],
             [
              0.1111111111111111,
              "#46039f"
             ],
             [
              0.2222222222222222,
              "#7201a8"
             ],
             [
              0.3333333333333333,
              "#9c179e"
             ],
             [
              0.4444444444444444,
              "#bd3786"
             ],
             [
              0.5555555555555556,
              "#d8576b"
             ],
             [
              0.6666666666666666,
              "#ed7953"
             ],
             [
              0.7777777777777778,
              "#fb9f3a"
             ],
             [
              0.8888888888888888,
              "#fdca26"
             ],
             [
              1,
              "#f0f921"
             ]
            ],
            "type": "histogram2dcontour"
           }
          ],
          "mesh3d": [
           {
            "colorbar": {
             "outlinewidth": 0,
             "ticks": ""
            },
            "type": "mesh3d"
           }
          ],
          "parcoords": [
           {
            "line": {
             "colorbar": {
              "outlinewidth": 0,
              "ticks": ""
             }
            },
            "type": "parcoords"
           }
          ],
          "pie": [
           {
            "automargin": true,
            "type": "pie"
           }
          ],
          "scatter": [
           {
            "fillpattern": {
             "fillmode": "overlay",
             "size": 10,
             "solidity": 0.2
            },
            "type": "scatter"
           }
          ],
          "scatter3d": [
           {
            "line": {
             "colorbar": {
              "outlinewidth": 0,
              "ticks": ""
             }
            },
            "marker": {
             "colorbar": {
              "outlinewidth": 0,
              "ticks": ""
             }
            },
            "type": "scatter3d"
           }
          ],
          "scattercarpet": [
           {
            "marker": {
             "colorbar": {
              "outlinewidth": 0,
              "ticks": ""
             }
            },
            "type": "scattercarpet"
           }
          ],
          "scattergeo": [
           {
            "marker": {
             "colorbar": {
              "outlinewidth": 0,
              "ticks": ""
             }
            },
            "type": "scattergeo"
           }
          ],
          "scattergl": [
           {
            "marker": {
             "colorbar": {
              "outlinewidth": 0,
              "ticks": ""
             }
            },
            "type": "scattergl"
           }
          ],
          "scattermapbox": [
           {
            "marker": {
             "colorbar": {
              "outlinewidth": 0,
              "ticks": ""
             }
            },
            "type": "scattermapbox"
           }
          ],
          "scatterpolar": [
           {
            "marker": {
             "colorbar": {
              "outlinewidth": 0,
              "ticks": ""
             }
            },
            "type": "scatterpolar"
           }
          ],
          "scatterpolargl": [
           {
            "marker": {
             "colorbar": {
              "outlinewidth": 0,
              "ticks": ""
             }
            },
            "type": "scatterpolargl"
           }
          ],
          "scatterternary": [
           {
            "marker": {
             "colorbar": {
              "outlinewidth": 0,
              "ticks": ""
             }
            },
            "type": "scatterternary"
           }
          ],
          "surface": [
           {
            "colorbar": {
             "outlinewidth": 0,
             "ticks": ""
            },
            "colorscale": [
             [
              0,
              "#0d0887"
             ],
             [
              0.1111111111111111,
              "#46039f"
             ],
             [
              0.2222222222222222,
              "#7201a8"
             ],
             [
              0.3333333333333333,
              "#9c179e"
             ],
             [
              0.4444444444444444,
              "#bd3786"
             ],
             [
              0.5555555555555556,
              "#d8576b"
             ],
             [
              0.6666666666666666,
              "#ed7953"
             ],
             [
              0.7777777777777778,
              "#fb9f3a"
             ],
             [
              0.8888888888888888,
              "#fdca26"
             ],
             [
              1,
              "#f0f921"
             ]
            ],
            "type": "surface"
           }
          ],
          "table": [
           {
            "cells": {
             "fill": {
              "color": "#EBF0F8"
             },
             "line": {
              "color": "white"
             }
            },
            "header": {
             "fill": {
              "color": "#C8D4E3"
             },
             "line": {
              "color": "white"
             }
            },
            "type": "table"
           }
          ]
         },
         "layout": {
          "annotationdefaults": {
           "arrowcolor": "#2a3f5f",
           "arrowhead": 0,
           "arrowwidth": 1
          },
          "autotypenumbers": "strict",
          "coloraxis": {
           "colorbar": {
            "outlinewidth": 0,
            "ticks": ""
           }
          },
          "colorscale": {
           "diverging": [
            [
             0,
             "#8e0152"
            ],
            [
             0.1,
             "#c51b7d"
            ],
            [
             0.2,
             "#de77ae"
            ],
            [
             0.3,
             "#f1b6da"
            ],
            [
             0.4,
             "#fde0ef"
            ],
            [
             0.5,
             "#f7f7f7"
            ],
            [
             0.6,
             "#e6f5d0"
            ],
            [
             0.7,
             "#b8e186"
            ],
            [
             0.8,
             "#7fbc41"
            ],
            [
             0.9,
             "#4d9221"
            ],
            [
             1,
             "#276419"
            ]
           ],
           "sequential": [
            [
             0,
             "#0d0887"
            ],
            [
             0.1111111111111111,
             "#46039f"
            ],
            [
             0.2222222222222222,
             "#7201a8"
            ],
            [
             0.3333333333333333,
             "#9c179e"
            ],
            [
             0.4444444444444444,
             "#bd3786"
            ],
            [
             0.5555555555555556,
             "#d8576b"
            ],
            [
             0.6666666666666666,
             "#ed7953"
            ],
            [
             0.7777777777777778,
             "#fb9f3a"
            ],
            [
             0.8888888888888888,
             "#fdca26"
            ],
            [
             1,
             "#f0f921"
            ]
           ],
           "sequentialminus": [
            [
             0,
             "#0d0887"
            ],
            [
             0.1111111111111111,
             "#46039f"
            ],
            [
             0.2222222222222222,
             "#7201a8"
            ],
            [
             0.3333333333333333,
             "#9c179e"
            ],
            [
             0.4444444444444444,
             "#bd3786"
            ],
            [
             0.5555555555555556,
             "#d8576b"
            ],
            [
             0.6666666666666666,
             "#ed7953"
            ],
            [
             0.7777777777777778,
             "#fb9f3a"
            ],
            [
             0.8888888888888888,
             "#fdca26"
            ],
            [
             1,
             "#f0f921"
            ]
           ]
          },
          "colorway": [
           "#636efa",
           "#EF553B",
           "#00cc96",
           "#ab63fa",
           "#FFA15A",
           "#19d3f3",
           "#FF6692",
           "#B6E880",
           "#FF97FF",
           "#FECB52"
          ],
          "font": {
           "color": "#2a3f5f"
          },
          "geo": {
           "bgcolor": "white",
           "lakecolor": "white",
           "landcolor": "#E5ECF6",
           "showlakes": true,
           "showland": true,
           "subunitcolor": "white"
          },
          "hoverlabel": {
           "align": "left"
          },
          "hovermode": "closest",
          "mapbox": {
           "style": "light"
          },
          "paper_bgcolor": "white",
          "plot_bgcolor": "#E5ECF6",
          "polar": {
           "angularaxis": {
            "gridcolor": "white",
            "linecolor": "white",
            "ticks": ""
           },
           "bgcolor": "#E5ECF6",
           "radialaxis": {
            "gridcolor": "white",
            "linecolor": "white",
            "ticks": ""
           }
          },
          "scene": {
           "xaxis": {
            "backgroundcolor": "#E5ECF6",
            "gridcolor": "white",
            "gridwidth": 2,
            "linecolor": "white",
            "showbackground": true,
            "ticks": "",
            "zerolinecolor": "white"
           },
           "yaxis": {
            "backgroundcolor": "#E5ECF6",
            "gridcolor": "white",
            "gridwidth": 2,
            "linecolor": "white",
            "showbackground": true,
            "ticks": "",
            "zerolinecolor": "white"
           },
           "zaxis": {
            "backgroundcolor": "#E5ECF6",
            "gridcolor": "white",
            "gridwidth": 2,
            "linecolor": "white",
            "showbackground": true,
            "ticks": "",
            "zerolinecolor": "white"
           }
          },
          "shapedefaults": {
           "line": {
            "color": "#2a3f5f"
           }
          },
          "ternary": {
           "aaxis": {
            "gridcolor": "white",
            "linecolor": "white",
            "ticks": ""
           },
           "baxis": {
            "gridcolor": "white",
            "linecolor": "white",
            "ticks": ""
           },
           "bgcolor": "#E5ECF6",
           "caxis": {
            "gridcolor": "white",
            "linecolor": "white",
            "ticks": ""
           }
          },
          "title": {
           "x": 0.05
          },
          "xaxis": {
           "automargin": true,
           "gridcolor": "white",
           "linecolor": "white",
           "ticks": "",
           "title": {
            "standoff": 15
           },
           "zerolinecolor": "white",
           "zerolinewidth": 2
          },
          "yaxis": {
           "automargin": true,
           "gridcolor": "white",
           "linecolor": "white",
           "ticks": "",
           "title": {
            "standoff": 15
           },
           "zerolinecolor": "white",
           "zerolinewidth": 2
          }
         }
        },
        "title": {
         "text": "Scree Plot (train)"
        },
        "xaxis": {
         "anchor": "y",
         "domain": [
          0,
          1
         ],
         "title": {
          "text": "PC"
         }
        },
        "yaxis": {
         "anchor": "x",
         "domain": [
          0,
          1
         ],
         "title": {
          "text": "Explained variance"
         }
        }
       }
      }
     },
     "metadata": {},
     "output_type": "display_data"
    },
    {
     "name": "stdout",
     "output_type": "stream",
     "text": [
      "Variance retained by Kaiser: 77.50%\n"
     ]
    },
    {
     "data": {
      "application/vnd.plotly.v1+json": {
       "config": {
        "plotlyServerURL": "https://plot.ly"
       },
       "data": [
        {
         "hovertemplate": "Class=With Cancer<br>PC1=%{x}<br>PC2=%{y}<extra></extra>",
         "legendgroup": "With Cancer",
         "marker": {
          "color": "#636efa",
          "size": 9,
          "symbol": "circle"
         },
         "mode": "markers",
         "name": "With Cancer",
         "orientation": "v",
         "showlegend": true,
         "type": "scatter",
         "x": [
          1.4787473964799434,
          -0.6500267278443315,
          1.0199481555774104,
          0.4905632945668369,
          2.80699749209437,
          1.7797423509493888,
          -1.3000547228631787,
          -0.31289047653857105,
          0.3802870243334471,
          -0.545698321378191,
          1.6667515835892006,
          0.7604986674840698,
          0.6191881584753587,
          7.717693572099813,
          -1.1237051743058866,
          0.6904689465290414,
          4.176491208559815,
          -0.05383463778482324,
          -0.2609997259798151,
          -0.8679760566069954,
          -2.1948833338978386,
          0.9745770333867546,
          -1.3191013003922483,
          -1.3777010999729908,
          -1.3824791716354554,
          0.36765542553792335,
          -1.4438844162867264,
          -0.8637196877180547,
          -0.8797217410477977,
          1.906153323124895,
          -1.3855335881063193,
          -0.7898401685070155,
          2.177601300718684,
          3.895250913642411,
          1.5159857902412928,
          0.04092125505189099,
          -1.4801204627974074,
          -0.46612077134097935
         ],
         "xaxis": "x",
         "y": [
          -1.4969381928428198,
          1.5974040174407145,
          -0.45316665925032246,
          0.2395536089127085,
          1.542656292067897,
          0.7678159361047356,
          0.5873744187655533,
          -0.2657278407478747,
          -0.14340564030551242,
          -0.7473554549372038,
          1.756360042863255,
          2.839249824452992,
          -1.1409759071010888,
          3.044493898537887,
          -0.413040543480907,
          -1.1910548269581434,
          -0.7464809654620315,
          0.13254895821052745,
          -0.3494736753331336,
          0.021489081146847985,
          1.0068976890763712,
          -0.9754996625665635,
          -0.5987261368859791,
          0.6672418004005297,
          0.05921088876362722,
          -1.732189594214895,
          1.1926074979064845,
          -0.7907122552828977,
          -0.18543402274546847,
          0.5634781344149473,
          0.13129573916591905,
          -0.5014781646394592,
          0.779553540883531,
          2.510769849041276,
          -0.8611739237270766,
          -0.48611165065933737,
          -0.025237266161062186,
          0.5206460384137339
         ],
         "yaxis": "y"
        },
        {
         "hovertemplate": "Class=Healthy<br>PC1=%{x}<br>PC2=%{y}<extra></extra>",
         "legendgroup": "Healthy",
         "marker": {
          "color": "#EF553B",
          "size": 9,
          "symbol": "circle"
         },
         "mode": "markers",
         "name": "Healthy",
         "orientation": "v",
         "showlegend": true,
         "type": "scatter",
         "x": [
          0.8513319007476686,
          -0.9324043230942325,
          1.3025096648996928,
          -0.8596364002564958,
          -0.18083825585233343,
          1.366777935907367,
          2.1786308713169187,
          1.9770423961842991,
          -1.6126730105285711,
          0.4968136748504952,
          0.2046341844920699,
          0.15862688834446753,
          -2.018829255192932,
          -2.617338605341015,
          0.008274772066624433,
          -2.3612529271302938,
          1.0786802960095268,
          -1.0636488647868605,
          -1.1916081524218842,
          -0.6642105814435108,
          -0.6587397917600308,
          -2.0528001530054745,
          -0.5227886139224122,
          0.8429328657515823,
          0.08173024967448939,
          -2.1072282758203564,
          -2.775584514436124,
          -1.4216060138234996,
          -1.6547657373648261,
          0.5879888183104436,
          -2.2072523498127135
         ],
         "xaxis": "x",
         "y": [
          -1.117594051103334,
          -0.49350349526021575,
          1.1413625528909241,
          -0.4509129932628316,
          -0.4761999006976267,
          0.4849385083436985,
          -1.3530902635328392,
          -3.887584971285417,
          0.4352524827314263,
          -1.5468367361733222,
          0.08133538209067952,
          -0.6429263064793466,
          0.02788640406664468,
          2.7677969697893205,
          -0.8001955495164133,
          1.3956197313700929,
          -1.5785109387740999,
          -0.8412239345429018,
          -0.3426661579420558,
          -0.9484149145606768,
          -0.6206070094129365,
          -0.27420932773130297,
          -0.7123425129702787,
          -0.9162992420682349,
          -1.3597515285304869,
          1.4316757429401277,
          2.0548990268707974,
          0.05814123342513335,
          0.2405925296167309,
          -0.12794399402916654,
          1.5148483904701489
         ],
         "yaxis": "y"
        }
       ],
       "layout": {
        "legend": {
         "title": {
          "text": "Class"
         },
         "tracegroupgap": 0
        },
        "template": {
         "data": {
          "bar": [
           {
            "error_x": {
             "color": "#2a3f5f"
            },
            "error_y": {
             "color": "#2a3f5f"
            },
            "marker": {
             "line": {
              "color": "#E5ECF6",
              "width": 0.5
             },
             "pattern": {
              "fillmode": "overlay",
              "size": 10,
              "solidity": 0.2
             }
            },
            "type": "bar"
           }
          ],
          "barpolar": [
           {
            "marker": {
             "line": {
              "color": "#E5ECF6",
              "width": 0.5
             },
             "pattern": {
              "fillmode": "overlay",
              "size": 10,
              "solidity": 0.2
             }
            },
            "type": "barpolar"
           }
          ],
          "carpet": [
           {
            "aaxis": {
             "endlinecolor": "#2a3f5f",
             "gridcolor": "white",
             "linecolor": "white",
             "minorgridcolor": "white",
             "startlinecolor": "#2a3f5f"
            },
            "baxis": {
             "endlinecolor": "#2a3f5f",
             "gridcolor": "white",
             "linecolor": "white",
             "minorgridcolor": "white",
             "startlinecolor": "#2a3f5f"
            },
            "type": "carpet"
           }
          ],
          "choropleth": [
           {
            "colorbar": {
             "outlinewidth": 0,
             "ticks": ""
            },
            "type": "choropleth"
           }
          ],
          "contour": [
           {
            "colorbar": {
             "outlinewidth": 0,
             "ticks": ""
            },
            "colorscale": [
             [
              0,
              "#0d0887"
             ],
             [
              0.1111111111111111,
              "#46039f"
             ],
             [
              0.2222222222222222,
              "#7201a8"
             ],
             [
              0.3333333333333333,
              "#9c179e"
             ],
             [
              0.4444444444444444,
              "#bd3786"
             ],
             [
              0.5555555555555556,
              "#d8576b"
             ],
             [
              0.6666666666666666,
              "#ed7953"
             ],
             [
              0.7777777777777778,
              "#fb9f3a"
             ],
             [
              0.8888888888888888,
              "#fdca26"
             ],
             [
              1,
              "#f0f921"
             ]
            ],
            "type": "contour"
           }
          ],
          "contourcarpet": [
           {
            "colorbar": {
             "outlinewidth": 0,
             "ticks": ""
            },
            "type": "contourcarpet"
           }
          ],
          "heatmap": [
           {
            "colorbar": {
             "outlinewidth": 0,
             "ticks": ""
            },
            "colorscale": [
             [
              0,
              "#0d0887"
             ],
             [
              0.1111111111111111,
              "#46039f"
             ],
             [
              0.2222222222222222,
              "#7201a8"
             ],
             [
              0.3333333333333333,
              "#9c179e"
             ],
             [
              0.4444444444444444,
              "#bd3786"
             ],
             [
              0.5555555555555556,
              "#d8576b"
             ],
             [
              0.6666666666666666,
              "#ed7953"
             ],
             [
              0.7777777777777778,
              "#fb9f3a"
             ],
             [
              0.8888888888888888,
              "#fdca26"
             ],
             [
              1,
              "#f0f921"
             ]
            ],
            "type": "heatmap"
           }
          ],
          "heatmapgl": [
           {
            "colorbar": {
             "outlinewidth": 0,
             "ticks": ""
            },
            "colorscale": [
             [
              0,
              "#0d0887"
             ],
             [
              0.1111111111111111,
              "#46039f"
             ],
             [
              0.2222222222222222,
              "#7201a8"
             ],
             [
              0.3333333333333333,
              "#9c179e"
             ],
             [
              0.4444444444444444,
              "#bd3786"
             ],
             [
              0.5555555555555556,
              "#d8576b"
             ],
             [
              0.6666666666666666,
              "#ed7953"
             ],
             [
              0.7777777777777778,
              "#fb9f3a"
             ],
             [
              0.8888888888888888,
              "#fdca26"
             ],
             [
              1,
              "#f0f921"
             ]
            ],
            "type": "heatmapgl"
           }
          ],
          "histogram": [
           {
            "marker": {
             "pattern": {
              "fillmode": "overlay",
              "size": 10,
              "solidity": 0.2
             }
            },
            "type": "histogram"
           }
          ],
          "histogram2d": [
           {
            "colorbar": {
             "outlinewidth": 0,
             "ticks": ""
            },
            "colorscale": [
             [
              0,
              "#0d0887"
             ],
             [
              0.1111111111111111,
              "#46039f"
             ],
             [
              0.2222222222222222,
              "#7201a8"
             ],
             [
              0.3333333333333333,
              "#9c179e"
             ],
             [
              0.4444444444444444,
              "#bd3786"
             ],
             [
              0.5555555555555556,
              "#d8576b"
             ],
             [
              0.6666666666666666,
              "#ed7953"
             ],
             [
              0.7777777777777778,
              "#fb9f3a"
             ],
             [
              0.8888888888888888,
              "#fdca26"
             ],
             [
              1,
              "#f0f921"
             ]
            ],
            "type": "histogram2d"
           }
          ],
          "histogram2dcontour": [
           {
            "colorbar": {
             "outlinewidth": 0,
             "ticks": ""
            },
            "colorscale": [
             [
              0,
              "#0d0887"
             ],
             [
              0.1111111111111111,
              "#46039f"
             ],
             [
              0.2222222222222222,
              "#7201a8"
             ],
             [
              0.3333333333333333,
              "#9c179e"
             ],
             [
              0.4444444444444444,
              "#bd3786"
             ],
             [
              0.5555555555555556,
              "#d8576b"
             ],
             [
              0.6666666666666666,
              "#ed7953"
             ],
             [
              0.7777777777777778,
              "#fb9f3a"
             ],
             [
              0.8888888888888888,
              "#fdca26"
             ],
             [
              1,
              "#f0f921"
             ]
            ],
            "type": "histogram2dcontour"
           }
          ],
          "mesh3d": [
           {
            "colorbar": {
             "outlinewidth": 0,
             "ticks": ""
            },
            "type": "mesh3d"
           }
          ],
          "parcoords": [
           {
            "line": {
             "colorbar": {
              "outlinewidth": 0,
              "ticks": ""
             }
            },
            "type": "parcoords"
           }
          ],
          "pie": [
           {
            "automargin": true,
            "type": "pie"
           }
          ],
          "scatter": [
           {
            "fillpattern": {
             "fillmode": "overlay",
             "size": 10,
             "solidity": 0.2
            },
            "type": "scatter"
           }
          ],
          "scatter3d": [
           {
            "line": {
             "colorbar": {
              "outlinewidth": 0,
              "ticks": ""
             }
            },
            "marker": {
             "colorbar": {
              "outlinewidth": 0,
              "ticks": ""
             }
            },
            "type": "scatter3d"
           }
          ],
          "scattercarpet": [
           {
            "marker": {
             "colorbar": {
              "outlinewidth": 0,
              "ticks": ""
             }
            },
            "type": "scattercarpet"
           }
          ],
          "scattergeo": [
           {
            "marker": {
             "colorbar": {
              "outlinewidth": 0,
              "ticks": ""
             }
            },
            "type": "scattergeo"
           }
          ],
          "scattergl": [
           {
            "marker": {
             "colorbar": {
              "outlinewidth": 0,
              "ticks": ""
             }
            },
            "type": "scattergl"
           }
          ],
          "scattermapbox": [
           {
            "marker": {
             "colorbar": {
              "outlinewidth": 0,
              "ticks": ""
             }
            },
            "type": "scattermapbox"
           }
          ],
          "scatterpolar": [
           {
            "marker": {
             "colorbar": {
              "outlinewidth": 0,
              "ticks": ""
             }
            },
            "type": "scatterpolar"
           }
          ],
          "scatterpolargl": [
           {
            "marker": {
             "colorbar": {
              "outlinewidth": 0,
              "ticks": ""
             }
            },
            "type": "scatterpolargl"
           }
          ],
          "scatterternary": [
           {
            "marker": {
             "colorbar": {
              "outlinewidth": 0,
              "ticks": ""
             }
            },
            "type": "scatterternary"
           }
          ],
          "surface": [
           {
            "colorbar": {
             "outlinewidth": 0,
             "ticks": ""
            },
            "colorscale": [
             [
              0,
              "#0d0887"
             ],
             [
              0.1111111111111111,
              "#46039f"
             ],
             [
              0.2222222222222222,
              "#7201a8"
             ],
             [
              0.3333333333333333,
              "#9c179e"
             ],
             [
              0.4444444444444444,
              "#bd3786"
             ],
             [
              0.5555555555555556,
              "#d8576b"
             ],
             [
              0.6666666666666666,
              "#ed7953"
             ],
             [
              0.7777777777777778,
              "#fb9f3a"
             ],
             [
              0.8888888888888888,
              "#fdca26"
             ],
             [
              1,
              "#f0f921"
             ]
            ],
            "type": "surface"
           }
          ],
          "table": [
           {
            "cells": {
             "fill": {
              "color": "#EBF0F8"
             },
             "line": {
              "color": "white"
             }
            },
            "header": {
             "fill": {
              "color": "#C8D4E3"
             },
             "line": {
              "color": "white"
             }
            },
            "type": "table"
           }
          ]
         },
         "layout": {
          "annotationdefaults": {
           "arrowcolor": "#2a3f5f",
           "arrowhead": 0,
           "arrowwidth": 1
          },
          "autotypenumbers": "strict",
          "coloraxis": {
           "colorbar": {
            "outlinewidth": 0,
            "ticks": ""
           }
          },
          "colorscale": {
           "diverging": [
            [
             0,
             "#8e0152"
            ],
            [
             0.1,
             "#c51b7d"
            ],
            [
             0.2,
             "#de77ae"
            ],
            [
             0.3,
             "#f1b6da"
            ],
            [
             0.4,
             "#fde0ef"
            ],
            [
             0.5,
             "#f7f7f7"
            ],
            [
             0.6,
             "#e6f5d0"
            ],
            [
             0.7,
             "#b8e186"
            ],
            [
             0.8,
             "#7fbc41"
            ],
            [
             0.9,
             "#4d9221"
            ],
            [
             1,
             "#276419"
            ]
           ],
           "sequential": [
            [
             0,
             "#0d0887"
            ],
            [
             0.1111111111111111,
             "#46039f"
            ],
            [
             0.2222222222222222,
             "#7201a8"
            ],
            [
             0.3333333333333333,
             "#9c179e"
            ],
            [
             0.4444444444444444,
             "#bd3786"
            ],
            [
             0.5555555555555556,
             "#d8576b"
            ],
            [
             0.6666666666666666,
             "#ed7953"
            ],
            [
             0.7777777777777778,
             "#fb9f3a"
            ],
            [
             0.8888888888888888,
             "#fdca26"
            ],
            [
             1,
             "#f0f921"
            ]
           ],
           "sequentialminus": [
            [
             0,
             "#0d0887"
            ],
            [
             0.1111111111111111,
             "#46039f"
            ],
            [
             0.2222222222222222,
             "#7201a8"
            ],
            [
             0.3333333333333333,
             "#9c179e"
            ],
            [
             0.4444444444444444,
             "#bd3786"
            ],
            [
             0.5555555555555556,
             "#d8576b"
            ],
            [
             0.6666666666666666,
             "#ed7953"
            ],
            [
             0.7777777777777778,
             "#fb9f3a"
            ],
            [
             0.8888888888888888,
             "#fdca26"
            ],
            [
             1,
             "#f0f921"
            ]
           ]
          },
          "colorway": [
           "#636efa",
           "#EF553B",
           "#00cc96",
           "#ab63fa",
           "#FFA15A",
           "#19d3f3",
           "#FF6692",
           "#B6E880",
           "#FF97FF",
           "#FECB52"
          ],
          "font": {
           "color": "#2a3f5f"
          },
          "geo": {
           "bgcolor": "white",
           "lakecolor": "white",
           "landcolor": "#E5ECF6",
           "showlakes": true,
           "showland": true,
           "subunitcolor": "white"
          },
          "hoverlabel": {
           "align": "left"
          },
          "hovermode": "closest",
          "mapbox": {
           "style": "light"
          },
          "paper_bgcolor": "white",
          "plot_bgcolor": "#E5ECF6",
          "polar": {
           "angularaxis": {
            "gridcolor": "white",
            "linecolor": "white",
            "ticks": ""
           },
           "bgcolor": "#E5ECF6",
           "radialaxis": {
            "gridcolor": "white",
            "linecolor": "white",
            "ticks": ""
           }
          },
          "scene": {
           "xaxis": {
            "backgroundcolor": "#E5ECF6",
            "gridcolor": "white",
            "gridwidth": 2,
            "linecolor": "white",
            "showbackground": true,
            "ticks": "",
            "zerolinecolor": "white"
           },
           "yaxis": {
            "backgroundcolor": "#E5ECF6",
            "gridcolor": "white",
            "gridwidth": 2,
            "linecolor": "white",
            "showbackground": true,
            "ticks": "",
            "zerolinecolor": "white"
           },
           "zaxis": {
            "backgroundcolor": "#E5ECF6",
            "gridcolor": "white",
            "gridwidth": 2,
            "linecolor": "white",
            "showbackground": true,
            "ticks": "",
            "zerolinecolor": "white"
           }
          },
          "shapedefaults": {
           "line": {
            "color": "#2a3f5f"
           }
          },
          "ternary": {
           "aaxis": {
            "gridcolor": "white",
            "linecolor": "white",
            "ticks": ""
           },
           "baxis": {
            "gridcolor": "white",
            "linecolor": "white",
            "ticks": ""
           },
           "bgcolor": "#E5ECF6",
           "caxis": {
            "gridcolor": "white",
            "linecolor": "white",
            "ticks": ""
           }
          },
          "title": {
           "x": 0.05
          },
          "xaxis": {
           "automargin": true,
           "gridcolor": "white",
           "linecolor": "white",
           "ticks": "",
           "title": {
            "standoff": 15
           },
           "zerolinecolor": "white",
           "zerolinewidth": 2
          },
          "yaxis": {
           "automargin": true,
           "gridcolor": "white",
           "linecolor": "white",
           "ticks": "",
           "title": {
            "standoff": 15
           },
           "zerolinecolor": "white",
           "zerolinewidth": 2
          }
         }
        },
        "title": {
         "text": "PCA: PC1 vs PC2 (train)"
        },
        "xaxis": {
         "anchor": "y",
         "domain": [
          0,
          1
         ],
         "title": {
          "text": "PC1"
         }
        },
        "yaxis": {
         "anchor": "x",
         "domain": [
          0,
          1
         ],
         "title": {
          "text": "PC2"
         }
        }
       }
      }
     },
     "metadata": {},
     "output_type": "display_data"
    }
   ],
   "source": [
    "\n",
    "pca = PCA().fit(X_train_s)\n",
    "expl_var = pca.explained_variance_\n",
    "\n",
    "fig = px.line(x=np.arange(1, len(expl_var)+1), y=expl_var,\n",
    "              labels={\"x\":\"PC\", \"y\":\"Explained variance\"},\n",
    "              title=\"Scree Plot (train)\")\n",
    "fig.add_hline(y=1, line_width=3, line_dash=\"dash\", line_color=\"red\")\n",
    "fig.update_traces(mode=\"markers+lines\")\n",
    "fig.show()\n",
    "\n",
    "kaiser = expl_var[expl_var > 1].sum() / expl_var.sum() * 100 if expl_var.sum() > 0 else 0.0\n",
    "print(f\"Variance retained by Kaiser: {kaiser:.2f}%\")\n",
    "\n",
    "# Project to 2D for visualization\n",
    "pca2 = PCA(n_components=2).fit(X_train_s)\n",
    "PC_train = pca2.transform(X_train_s)\n",
    "PC_val   = pca2.transform(X_val_s)\n",
    "PC_test  = pca2.transform(X_test_s)\n",
    "\n",
    "fig = px.scatter(x=PC_train[:,0], y=PC_train[:,1],\n",
    "                 color=y_train.replace({1:'Healthy', 2:'With Cancer'}),\n",
    "                 labels={\"x\":\"PC1\",\"y\":\"PC2\",\"color\":\"Class\"},\n",
    "                 title=\"PCA: PC1 vs PC2 (train)\")\n",
    "fig.update_traces(marker_size=9)\n",
    "fig.show()\n"
   ]
  },
  {
   "cell_type": "markdown",
   "id": "10e6ae7e",
   "metadata": {},
   "source": [
    "## 6. LDA (train fit) — 1D projection"
   ]
  },
  {
   "cell_type": "code",
   "execution_count": null,
   "id": "c0d20a2e",
   "metadata": {},
   "outputs": [
    {
     "data": {
      "application/vnd.plotly.v1+json": {
       "config": {
        "plotlyServerURL": "https://plot.ly"
       },
       "data": [
        {
         "hovertemplate": "color=With Cancer<br>LDA1=%{x}<br>=%{y}<extra></extra>",
         "legendgroup": "With Cancer",
         "marker": {
          "color": "#636efa",
          "size": 9,
          "symbol": "circle"
         },
         "mode": "markers",
         "name": "With Cancer",
         "orientation": "v",
         "showlegend": true,
         "type": "scatter",
         "x": [
          0.6187422338287037,
          0.9653740935966659,
          2.552261140365059,
          -0.5444163850664637,
          1.6264234824323829,
          1.6909965621181786,
          0.0842143988327897,
          -1.687546764019624,
          1.362956581489707,
          -0.4628930796854403,
          -0.47452936577603055,
          1.8483981526891273,
          -0.21980251522340316,
          1.3302586165325294,
          -0.3508623420480982,
          -0.6583370929933949,
          5.02101701540176,
          0.7042305706898289,
          1.0148064561060863,
          0.7010392892696362,
          0.43553904925017667,
          0.9783898608244519,
          -0.5352882133334,
          -0.3324517747363618,
          1.3663547033246422,
          0.30550042476899936,
          1.0152354209245704,
          1.2110646513277818,
          0.6219103551581574,
          0.3410816434529317,
          0.9675102075536332,
          -0.1770810794680985,
          0.6812492684990807,
          2.1311679603188907,
          0.018390587827346774,
          0.8194769410956066,
          0.6403236695601384,
          0.8936934862475518
         ],
         "xaxis": "x",
         "y": [
          0,
          0,
          0,
          0,
          0,
          0,
          0,
          0,
          0,
          0,
          0,
          0,
          0,
          0,
          0,
          0,
          0,
          0,
          0,
          0,
          0,
          0,
          0,
          0,
          0,
          0,
          0,
          0,
          0,
          0,
          0,
          0,
          0,
          0,
          0,
          0,
          0,
          0
         ],
         "yaxis": "y"
        },
        {
         "hovertemplate": "color=Healthy<br>LDA1=%{x}<br>=%{y}<extra></extra>",
         "legendgroup": "Healthy",
         "marker": {
          "color": "#EF553B",
          "size": 9,
          "symbol": "circle"
         },
         "mode": "markers",
         "name": "Healthy",
         "orientation": "v",
         "showlegend": true,
         "type": "scatter",
         "x": [
          -1.900345797883412,
          -0.2864528165308151,
          1.5091966383742832,
          -0.73933965782204,
          -1.4905778712065532,
          -0.5936739082062925,
          -1.4144927939664163,
          -0.30621881934616324,
          -0.07588176083449467,
          -0.7013584749601074,
          -0.5137487813626616,
          -0.5223689763368671,
          -1.2872204195633479,
          -0.5229543585856341,
          -0.7547862740298986,
          -0.5663124200064868,
          -0.8005740518812204,
          -1.036597626909843,
          -1.6142838450039119,
          -1.585738583486219,
          -0.741708844465043,
          -2.5107919531466263,
          -2.4018484121303363,
          -0.5902785775876894,
          -1.5153827141465557,
          0.15791108341182866,
          -1.6213315301364353,
          -1.0533232913545578,
          0.34152178471680783,
          -0.5602008519313432,
          -0.8052343048180519
         ],
         "xaxis": "x",
         "y": [
          0,
          0,
          0,
          0,
          0,
          0,
          0,
          0,
          0,
          0,
          0,
          0,
          0,
          0,
          0,
          0,
          0,
          0,
          0,
          0,
          0,
          0,
          0,
          0,
          0,
          0,
          0,
          0,
          0,
          0,
          0
         ],
         "yaxis": "y"
        }
       ],
       "layout": {
        "legend": {
         "title": {
          "text": "color"
         },
         "tracegroupgap": 0
        },
        "template": {
         "data": {
          "bar": [
           {
            "error_x": {
             "color": "#2a3f5f"
            },
            "error_y": {
             "color": "#2a3f5f"
            },
            "marker": {
             "line": {
              "color": "#E5ECF6",
              "width": 0.5
             },
             "pattern": {
              "fillmode": "overlay",
              "size": 10,
              "solidity": 0.2
             }
            },
            "type": "bar"
           }
          ],
          "barpolar": [
           {
            "marker": {
             "line": {
              "color": "#E5ECF6",
              "width": 0.5
             },
             "pattern": {
              "fillmode": "overlay",
              "size": 10,
              "solidity": 0.2
             }
            },
            "type": "barpolar"
           }
          ],
          "carpet": [
           {
            "aaxis": {
             "endlinecolor": "#2a3f5f",
             "gridcolor": "white",
             "linecolor": "white",
             "minorgridcolor": "white",
             "startlinecolor": "#2a3f5f"
            },
            "baxis": {
             "endlinecolor": "#2a3f5f",
             "gridcolor": "white",
             "linecolor": "white",
             "minorgridcolor": "white",
             "startlinecolor": "#2a3f5f"
            },
            "type": "carpet"
           }
          ],
          "choropleth": [
           {
            "colorbar": {
             "outlinewidth": 0,
             "ticks": ""
            },
            "type": "choropleth"
           }
          ],
          "contour": [
           {
            "colorbar": {
             "outlinewidth": 0,
             "ticks": ""
            },
            "colorscale": [
             [
              0,
              "#0d0887"
             ],
             [
              0.1111111111111111,
              "#46039f"
             ],
             [
              0.2222222222222222,
              "#7201a8"
             ],
             [
              0.3333333333333333,
              "#9c179e"
             ],
             [
              0.4444444444444444,
              "#bd3786"
             ],
             [
              0.5555555555555556,
              "#d8576b"
             ],
             [
              0.6666666666666666,
              "#ed7953"
             ],
             [
              0.7777777777777778,
              "#fb9f3a"
             ],
             [
              0.8888888888888888,
              "#fdca26"
             ],
             [
              1,
              "#f0f921"
             ]
            ],
            "type": "contour"
           }
          ],
          "contourcarpet": [
           {
            "colorbar": {
             "outlinewidth": 0,
             "ticks": ""
            },
            "type": "contourcarpet"
           }
          ],
          "heatmap": [
           {
            "colorbar": {
             "outlinewidth": 0,
             "ticks": ""
            },
            "colorscale": [
             [
              0,
              "#0d0887"
             ],
             [
              0.1111111111111111,
              "#46039f"
             ],
             [
              0.2222222222222222,
              "#7201a8"
             ],
             [
              0.3333333333333333,
              "#9c179e"
             ],
             [
              0.4444444444444444,
              "#bd3786"
             ],
             [
              0.5555555555555556,
              "#d8576b"
             ],
             [
              0.6666666666666666,
              "#ed7953"
             ],
             [
              0.7777777777777778,
              "#fb9f3a"
             ],
             [
              0.8888888888888888,
              "#fdca26"
             ],
             [
              1,
              "#f0f921"
             ]
            ],
            "type": "heatmap"
           }
          ],
          "heatmapgl": [
           {
            "colorbar": {
             "outlinewidth": 0,
             "ticks": ""
            },
            "colorscale": [
             [
              0,
              "#0d0887"
             ],
             [
              0.1111111111111111,
              "#46039f"
             ],
             [
              0.2222222222222222,
              "#7201a8"
             ],
             [
              0.3333333333333333,
              "#9c179e"
             ],
             [
              0.4444444444444444,
              "#bd3786"
             ],
             [
              0.5555555555555556,
              "#d8576b"
             ],
             [
              0.6666666666666666,
              "#ed7953"
             ],
             [
              0.7777777777777778,
              "#fb9f3a"
             ],
             [
              0.8888888888888888,
              "#fdca26"
             ],
             [
              1,
              "#f0f921"
             ]
            ],
            "type": "heatmapgl"
           }
          ],
          "histogram": [
           {
            "marker": {
             "pattern": {
              "fillmode": "overlay",
              "size": 10,
              "solidity": 0.2
             }
            },
            "type": "histogram"
           }
          ],
          "histogram2d": [
           {
            "colorbar": {
             "outlinewidth": 0,
             "ticks": ""
            },
            "colorscale": [
             [
              0,
              "#0d0887"
             ],
             [
              0.1111111111111111,
              "#46039f"
             ],
             [
              0.2222222222222222,
              "#7201a8"
             ],
             [
              0.3333333333333333,
              "#9c179e"
             ],
             [
              0.4444444444444444,
              "#bd3786"
             ],
             [
              0.5555555555555556,
              "#d8576b"
             ],
             [
              0.6666666666666666,
              "#ed7953"
             ],
             [
              0.7777777777777778,
              "#fb9f3a"
             ],
             [
              0.8888888888888888,
              "#fdca26"
             ],
             [
              1,
              "#f0f921"
             ]
            ],
            "type": "histogram2d"
           }
          ],
          "histogram2dcontour": [
           {
            "colorbar": {
             "outlinewidth": 0,
             "ticks": ""
            },
            "colorscale": [
             [
              0,
              "#0d0887"
             ],
             [
              0.1111111111111111,
              "#46039f"
             ],
             [
              0.2222222222222222,
              "#7201a8"
             ],
             [
              0.3333333333333333,
              "#9c179e"
             ],
             [
              0.4444444444444444,
              "#bd3786"
             ],
             [
              0.5555555555555556,
              "#d8576b"
             ],
             [
              0.6666666666666666,
              "#ed7953"
             ],
             [
              0.7777777777777778,
              "#fb9f3a"
             ],
             [
              0.8888888888888888,
              "#fdca26"
             ],
             [
              1,
              "#f0f921"
             ]
            ],
            "type": "histogram2dcontour"
           }
          ],
          "mesh3d": [
           {
            "colorbar": {
             "outlinewidth": 0,
             "ticks": ""
            },
            "type": "mesh3d"
           }
          ],
          "parcoords": [
           {
            "line": {
             "colorbar": {
              "outlinewidth": 0,
              "ticks": ""
             }
            },
            "type": "parcoords"
           }
          ],
          "pie": [
           {
            "automargin": true,
            "type": "pie"
           }
          ],
          "scatter": [
           {
            "fillpattern": {
             "fillmode": "overlay",
             "size": 10,
             "solidity": 0.2
            },
            "type": "scatter"
           }
          ],
          "scatter3d": [
           {
            "line": {
             "colorbar": {
              "outlinewidth": 0,
              "ticks": ""
             }
            },
            "marker": {
             "colorbar": {
              "outlinewidth": 0,
              "ticks": ""
             }
            },
            "type": "scatter3d"
           }
          ],
          "scattercarpet": [
           {
            "marker": {
             "colorbar": {
              "outlinewidth": 0,
              "ticks": ""
             }
            },
            "type": "scattercarpet"
           }
          ],
          "scattergeo": [
           {
            "marker": {
             "colorbar": {
              "outlinewidth": 0,
              "ticks": ""
             }
            },
            "type": "scattergeo"
           }
          ],
          "scattergl": [
           {
            "marker": {
             "colorbar": {
              "outlinewidth": 0,
              "ticks": ""
             }
            },
            "type": "scattergl"
           }
          ],
          "scattermapbox": [
           {
            "marker": {
             "colorbar": {
              "outlinewidth": 0,
              "ticks": ""
             }
            },
            "type": "scattermapbox"
           }
          ],
          "scatterpolar": [
           {
            "marker": {
             "colorbar": {
              "outlinewidth": 0,
              "ticks": ""
             }
            },
            "type": "scatterpolar"
           }
          ],
          "scatterpolargl": [
           {
            "marker": {
             "colorbar": {
              "outlinewidth": 0,
              "ticks": ""
             }
            },
            "type": "scatterpolargl"
           }
          ],
          "scatterternary": [
           {
            "marker": {
             "colorbar": {
              "outlinewidth": 0,
              "ticks": ""
             }
            },
            "type": "scatterternary"
           }
          ],
          "surface": [
           {
            "colorbar": {
             "outlinewidth": 0,
             "ticks": ""
            },
            "colorscale": [
             [
              0,
              "#0d0887"
             ],
             [
              0.1111111111111111,
              "#46039f"
             ],
             [
              0.2222222222222222,
              "#7201a8"
             ],
             [
              0.3333333333333333,
              "#9c179e"
             ],
             [
              0.4444444444444444,
              "#bd3786"
             ],
             [
              0.5555555555555556,
              "#d8576b"
             ],
             [
              0.6666666666666666,
              "#ed7953"
             ],
             [
              0.7777777777777778,
              "#fb9f3a"
             ],
             [
              0.8888888888888888,
              "#fdca26"
             ],
             [
              1,
              "#f0f921"
             ]
            ],
            "type": "surface"
           }
          ],
          "table": [
           {
            "cells": {
             "fill": {
              "color": "#EBF0F8"
             },
             "line": {
              "color": "white"
             }
            },
            "header": {
             "fill": {
              "color": "#C8D4E3"
             },
             "line": {
              "color": "white"
             }
            },
            "type": "table"
           }
          ]
         },
         "layout": {
          "annotationdefaults": {
           "arrowcolor": "#2a3f5f",
           "arrowhead": 0,
           "arrowwidth": 1
          },
          "autotypenumbers": "strict",
          "coloraxis": {
           "colorbar": {
            "outlinewidth": 0,
            "ticks": ""
           }
          },
          "colorscale": {
           "diverging": [
            [
             0,
             "#8e0152"
            ],
            [
             0.1,
             "#c51b7d"
            ],
            [
             0.2,
             "#de77ae"
            ],
            [
             0.3,
             "#f1b6da"
            ],
            [
             0.4,
             "#fde0ef"
            ],
            [
             0.5,
             "#f7f7f7"
            ],
            [
             0.6,
             "#e6f5d0"
            ],
            [
             0.7,
             "#b8e186"
            ],
            [
             0.8,
             "#7fbc41"
            ],
            [
             0.9,
             "#4d9221"
            ],
            [
             1,
             "#276419"
            ]
           ],
           "sequential": [
            [
             0,
             "#0d0887"
            ],
            [
             0.1111111111111111,
             "#46039f"
            ],
            [
             0.2222222222222222,
             "#7201a8"
            ],
            [
             0.3333333333333333,
             "#9c179e"
            ],
            [
             0.4444444444444444,
             "#bd3786"
            ],
            [
             0.5555555555555556,
             "#d8576b"
            ],
            [
             0.6666666666666666,
             "#ed7953"
            ],
            [
             0.7777777777777778,
             "#fb9f3a"
            ],
            [
             0.8888888888888888,
             "#fdca26"
            ],
            [
             1,
             "#f0f921"
            ]
           ],
           "sequentialminus": [
            [
             0,
             "#0d0887"
            ],
            [
             0.1111111111111111,
             "#46039f"
            ],
            [
             0.2222222222222222,
             "#7201a8"
            ],
            [
             0.3333333333333333,
             "#9c179e"
            ],
            [
             0.4444444444444444,
             "#bd3786"
            ],
            [
             0.5555555555555556,
             "#d8576b"
            ],
            [
             0.6666666666666666,
             "#ed7953"
            ],
            [
             0.7777777777777778,
             "#fb9f3a"
            ],
            [
             0.8888888888888888,
             "#fdca26"
            ],
            [
             1,
             "#f0f921"
            ]
           ]
          },
          "colorway": [
           "#636efa",
           "#EF553B",
           "#00cc96",
           "#ab63fa",
           "#FFA15A",
           "#19d3f3",
           "#FF6692",
           "#B6E880",
           "#FF97FF",
           "#FECB52"
          ],
          "font": {
           "color": "#2a3f5f"
          },
          "geo": {
           "bgcolor": "white",
           "lakecolor": "white",
           "landcolor": "#E5ECF6",
           "showlakes": true,
           "showland": true,
           "subunitcolor": "white"
          },
          "hoverlabel": {
           "align": "left"
          },
          "hovermode": "closest",
          "mapbox": {
           "style": "light"
          },
          "paper_bgcolor": "white",
          "plot_bgcolor": "#E5ECF6",
          "polar": {
           "angularaxis": {
            "gridcolor": "white",
            "linecolor": "white",
            "ticks": ""
           },
           "bgcolor": "#E5ECF6",
           "radialaxis": {
            "gridcolor": "white",
            "linecolor": "white",
            "ticks": ""
           }
          },
          "scene": {
           "xaxis": {
            "backgroundcolor": "#E5ECF6",
            "gridcolor": "white",
            "gridwidth": 2,
            "linecolor": "white",
            "showbackground": true,
            "ticks": "",
            "zerolinecolor": "white"
           },
           "yaxis": {
            "backgroundcolor": "#E5ECF6",
            "gridcolor": "white",
            "gridwidth": 2,
            "linecolor": "white",
            "showbackground": true,
            "ticks": "",
            "zerolinecolor": "white"
           },
           "zaxis": {
            "backgroundcolor": "#E5ECF6",
            "gridcolor": "white",
            "gridwidth": 2,
            "linecolor": "white",
            "showbackground": true,
            "ticks": "",
            "zerolinecolor": "white"
           }
          },
          "shapedefaults": {
           "line": {
            "color": "#2a3f5f"
           }
          },
          "ternary": {
           "aaxis": {
            "gridcolor": "white",
            "linecolor": "white",
            "ticks": ""
           },
           "baxis": {
            "gridcolor": "white",
            "linecolor": "white",
            "ticks": ""
           },
           "bgcolor": "#E5ECF6",
           "caxis": {
            "gridcolor": "white",
            "linecolor": "white",
            "ticks": ""
           }
          },
          "title": {
           "x": 0.05
          },
          "xaxis": {
           "automargin": true,
           "gridcolor": "white",
           "linecolor": "white",
           "ticks": "",
           "title": {
            "standoff": 15
           },
           "zerolinecolor": "white",
           "zerolinewidth": 2
          },
          "yaxis": {
           "automargin": true,
           "gridcolor": "white",
           "linecolor": "white",
           "ticks": "",
           "title": {
            "standoff": 15
           },
           "zerolinecolor": "white",
           "zerolinewidth": 2
          }
         }
        },
        "title": {
         "text": "LDA1 — Train (1D projection)"
        },
        "xaxis": {
         "anchor": "y",
         "domain": [
          0,
          1
         ],
         "title": {
          "text": "LDA1"
         }
        },
        "yaxis": {
         "anchor": "x",
         "domain": [
          0,
          1
         ],
         "title": {
          "text": ""
         },
         "visible": false
        }
       }
      }
     },
     "metadata": {},
     "output_type": "display_data"
    }
   ],
   "source": [
    "\n",
    "lda_all = LinearDiscriminantAnalysis().fit(X_train_s, y_train)\n",
    "LD_train = lda_all.transform(X_train_s).ravel()\n",
    "LD_val   = lda_all.transform(X_val_s).ravel()\n",
    "LD_test  = lda_all.transform(X_test_s).ravel()\n",
    "\n",
    "fig = px.scatter(x=LD_train, y=np.zeros_like(LD_train),\n",
    "                 color=y_train.replace({1:'Healthy',2:'With Cancer'}),\n",
    "                 labels={\"x\":\"LDA1\",\"y\":\"\"},\n",
    "                 title=\"LDA1 — Train (1D projection)\")\n",
    "fig.update_yaxes(visible=False)\n",
    "fig.update_traces(marker_size=9)\n",
    "fig.show()\n"
   ]
  },
  {
   "cell_type": "markdown",
   "id": "2091a19b",
   "metadata": {},
   "source": [
    "## 7. Classifiers — MDC (Euclidean & Mahalanobis) + Fisher LDA"
   ]
  },
  {
   "cell_type": "code",
   "execution_count": null,
   "id": "dd030705",
   "metadata": {},
   "outputs": [],
   "source": [
    "\n",
    "def metrics_dict(y_true, y_pred):\n",
    "    y_true = np.asarray(y_true)\n",
    "    y_pred = np.asarray(y_pred)\n",
    "    TP = np.sum((y_true==1)&(y_pred==1))\n",
    "    TN = np.sum((y_true==2)&(y_pred==2))\n",
    "    FP = np.sum((y_true==2)&(y_pred==1))\n",
    "    FN = np.sum((y_true==1)&(y_pred==2))\n",
    "    SS = TP/(TP+FN) if (TP+FN)>0 else 0.0\n",
    "    SP = TN/(TN+FP) if (TN+FP)>0 else 0.0\n",
    "    PR = TP/(TP+FP) if (TP+FP)>0 else 0.0\n",
    "    F1 = 2*PR*SS/(PR+SS) if (PR+SS)>0 else 0.0\n",
    "    AC = (TP+TN)/len(y_true)\n",
    "    return {\"Accuracy\":AC, \"Sensitivity\":SS, \"Specificity\":SP, \"Precision\":PR, \"F1\":F1}\n",
    "\n",
    "def mdc_euclid_predict(X, mu1, mu2):\n",
    "    g1 = X @ mu1 - 0.5*(mu1.T@mu1)\n",
    "    g2 = X @ mu2 - 0.5*(mu2.T@mu2)\n",
    "    return np.where(g1>=g2, 1, 2)\n",
    "\n",
    "def mdc_mahal_predict(X, mu1, mu2, Cinv):\n",
    "    g1 = X @ (Cinv @ mu1) - 0.5*(mu1.T@Cinv@mu1)\n",
    "    g2 = X @ (Cinv @ mu2) - 0.5*(mu2.T@Cinv@mu2)\n",
    "    return np.where(g1>=g2, 1, 2)\n"
   ]
  },
  {
   "cell_type": "markdown",
   "id": "0a7a0c6c",
   "metadata": {},
   "source": [
    "### 7.1 Model selection on Validation (feature combos for MDC)"
   ]
  },
  {
   "cell_type": "code",
   "execution_count": null,
   "id": "2a922aa5",
   "metadata": {},
   "outputs": [
    {
     "data": {
      "application/vnd.microsoft.datawrangler.viewer.v0+json": {
       "columns": [
        {
         "name": "index",
         "rawType": "int64",
         "type": "integer"
        },
        {
         "name": "Features",
         "rawType": "object",
         "type": "unknown"
        },
        {
         "name": "k",
         "rawType": "int64",
         "type": "integer"
        },
        {
         "name": "Euclid_Acc",
         "rawType": "float64",
         "type": "float"
        },
        {
         "name": "Euclid_F1",
         "rawType": "float64",
         "type": "float"
        },
        {
         "name": "Mahalo_Acc",
         "rawType": "float64",
         "type": "float"
        },
        {
         "name": "Mahalo_F1",
         "rawType": "float64",
         "type": "float"
        }
       ],
       "ref": "abbeb512-4d25-4ff7-a985-7774ba38c6af",
       "rows": [
        [
         "34",
         "['Adiponectin', 'MCP.1']",
         "2",
         "11.826086956521738",
         "0.41189931350114417",
         "11.826086956521738",
         "0.41189931350114417"
        ],
        [
         "40",
         "['Age', 'BMI', 'Adiponectin']",
         "3",
         "11.434782608695652",
         "0.4743083003952569",
         "11.826086956521738",
         "0.41189931350114417"
        ],
        [
         "11",
         "['BMI', 'Leptin']",
         "2",
         "11.304347826086957",
         "0.4914933837429111",
         "11.695652173913043",
         "0.43478260869565216"
        ],
        [
         "5",
         "['Age', 'Adiponectin']",
         "2",
         "11.695652173913043",
         "0.43478260869565216",
         "11.565217391304348",
         "0.45548654244306414"
        ],
        [
         "32",
         "['Leptin', 'MCP.1']",
         "2",
         "11.695652173913043",
         "0.43478260869565216",
         "11.565217391304348",
         "0.45548654244306414"
        ],
        [
         "117",
         "['Leptin', 'Adiponectin', 'MCP.1']",
         "3",
         "11.695652173913043",
         "0.43478260869565216",
         "11.565217391304348",
         "0.45548654244306414"
        ],
        [
         "7",
         "['Age', 'MCP.1']",
         "2",
         "11.565217391304348",
         "0.45548654244306414",
         "11.565217391304348",
         "0.45548654244306414"
        ],
        [
         "30",
         "['Leptin', 'Adiponectin']",
         "2",
         "11.565217391304348",
         "0.45548654244306414",
         "11.565217391304348",
         "0.45548654244306414"
        ],
        [
         "61",
         "['Age', 'Adiponectin', 'Resistin']",
         "3",
         "11.565217391304348",
         "0.45548654244306414",
         "11.565217391304348",
         "0.45548654244306414"
        ],
        [
         "62",
         "['Age', 'Adiponectin', 'MCP.1']",
         "3",
         "11.565217391304348",
         "0.45548654244306414",
         "11.565217391304348",
         "0.45548654244306414"
        ]
       ],
       "shape": {
        "columns": 6,
        "rows": 10
       }
      },
      "text/html": [
       "<div>\n",
       "<style scoped>\n",
       "    .dataframe tbody tr th:only-of-type {\n",
       "        vertical-align: middle;\n",
       "    }\n",
       "\n",
       "    .dataframe tbody tr th {\n",
       "        vertical-align: top;\n",
       "    }\n",
       "\n",
       "    .dataframe thead th {\n",
       "        text-align: right;\n",
       "    }\n",
       "</style>\n",
       "<table border=\"1\" class=\"dataframe\">\n",
       "  <thead>\n",
       "    <tr style=\"text-align: right;\">\n",
       "      <th></th>\n",
       "      <th>Features</th>\n",
       "      <th>k</th>\n",
       "      <th>Euclid_Acc</th>\n",
       "      <th>Euclid_F1</th>\n",
       "      <th>Mahalo_Acc</th>\n",
       "      <th>Mahalo_F1</th>\n",
       "    </tr>\n",
       "  </thead>\n",
       "  <tbody>\n",
       "    <tr>\n",
       "      <th>34</th>\n",
       "      <td>[Adiponectin, MCP.1]</td>\n",
       "      <td>2</td>\n",
       "      <td>11.826087</td>\n",
       "      <td>0.411899</td>\n",
       "      <td>11.826087</td>\n",
       "      <td>0.411899</td>\n",
       "    </tr>\n",
       "    <tr>\n",
       "      <th>40</th>\n",
       "      <td>[Age, BMI, Adiponectin]</td>\n",
       "      <td>3</td>\n",
       "      <td>11.434783</td>\n",
       "      <td>0.474308</td>\n",
       "      <td>11.826087</td>\n",
       "      <td>0.411899</td>\n",
       "    </tr>\n",
       "    <tr>\n",
       "      <th>11</th>\n",
       "      <td>[BMI, Leptin]</td>\n",
       "      <td>2</td>\n",
       "      <td>11.304348</td>\n",
       "      <td>0.491493</td>\n",
       "      <td>11.695652</td>\n",
       "      <td>0.434783</td>\n",
       "    </tr>\n",
       "    <tr>\n",
       "      <th>5</th>\n",
       "      <td>[Age, Adiponectin]</td>\n",
       "      <td>2</td>\n",
       "      <td>11.695652</td>\n",
       "      <td>0.434783</td>\n",
       "      <td>11.565217</td>\n",
       "      <td>0.455487</td>\n",
       "    </tr>\n",
       "    <tr>\n",
       "      <th>32</th>\n",
       "      <td>[Leptin, MCP.1]</td>\n",
       "      <td>2</td>\n",
       "      <td>11.695652</td>\n",
       "      <td>0.434783</td>\n",
       "      <td>11.565217</td>\n",
       "      <td>0.455487</td>\n",
       "    </tr>\n",
       "    <tr>\n",
       "      <th>117</th>\n",
       "      <td>[Leptin, Adiponectin, MCP.1]</td>\n",
       "      <td>3</td>\n",
       "      <td>11.695652</td>\n",
       "      <td>0.434783</td>\n",
       "      <td>11.565217</td>\n",
       "      <td>0.455487</td>\n",
       "    </tr>\n",
       "    <tr>\n",
       "      <th>7</th>\n",
       "      <td>[Age, MCP.1]</td>\n",
       "      <td>2</td>\n",
       "      <td>11.565217</td>\n",
       "      <td>0.455487</td>\n",
       "      <td>11.565217</td>\n",
       "      <td>0.455487</td>\n",
       "    </tr>\n",
       "    <tr>\n",
       "      <th>30</th>\n",
       "      <td>[Leptin, Adiponectin]</td>\n",
       "      <td>2</td>\n",
       "      <td>11.565217</td>\n",
       "      <td>0.455487</td>\n",
       "      <td>11.565217</td>\n",
       "      <td>0.455487</td>\n",
       "    </tr>\n",
       "    <tr>\n",
       "      <th>61</th>\n",
       "      <td>[Age, Adiponectin, Resistin]</td>\n",
       "      <td>3</td>\n",
       "      <td>11.565217</td>\n",
       "      <td>0.455487</td>\n",
       "      <td>11.565217</td>\n",
       "      <td>0.455487</td>\n",
       "    </tr>\n",
       "    <tr>\n",
       "      <th>62</th>\n",
       "      <td>[Age, Adiponectin, MCP.1]</td>\n",
       "      <td>3</td>\n",
       "      <td>11.565217</td>\n",
       "      <td>0.455487</td>\n",
       "      <td>11.565217</td>\n",
       "      <td>0.455487</td>\n",
       "    </tr>\n",
       "  </tbody>\n",
       "</table>\n",
       "</div>"
      ],
      "text/plain": [
       "                         Features  k  Euclid_Acc  Euclid_F1  Mahalo_Acc  Mahalo_F1\n",
       "34           [Adiponectin, MCP.1]  2   11.826087   0.411899   11.826087   0.411899\n",
       "40        [Age, BMI, Adiponectin]  3   11.434783   0.474308   11.826087   0.411899\n",
       "11                  [BMI, Leptin]  2   11.304348   0.491493   11.695652   0.434783\n",
       "5              [Age, Adiponectin]  2   11.695652   0.434783   11.565217   0.455487\n",
       "32                [Leptin, MCP.1]  2   11.695652   0.434783   11.565217   0.455487\n",
       "117  [Leptin, Adiponectin, MCP.1]  3   11.695652   0.434783   11.565217   0.455487\n",
       "7                    [Age, MCP.1]  2   11.565217   0.455487   11.565217   0.455487\n",
       "30          [Leptin, Adiponectin]  2   11.565217   0.455487   11.565217   0.455487\n",
       "61   [Age, Adiponectin, Resistin]  3   11.565217   0.455487   11.565217   0.455487\n",
       "62      [Age, Adiponectin, MCP.1]  3   11.565217   0.455487   11.565217   0.455487"
      ]
     },
     "metadata": {},
     "output_type": "display_data"
    }
   ],
   "source": [
    "\n",
    "features_all = list(X_train_s.columns)\n",
    "\n",
    "def evaluate_mdc_combo(feats):\n",
    "    # train stats\n",
    "    Xh = X_train_s.loc[y_train==1, feats].to_numpy()\n",
    "    Xc = X_train_s.loc[y_train==2, feats].to_numpy()\n",
    "    mu1 = Xh.mean(axis=0, keepdims=True).T\n",
    "    mu2 = Xc.mean(axis=0, keepdims=True).T\n",
    "    C   = np.cov(np.vstack([Xh,Xc]).T)\n",
    "    Cinv= np.linalg.pinv(C)  # pinv for stability\n",
    "\n",
    "    # val metrics\n",
    "    Xv = X_val_s[feats].to_numpy()\n",
    "    yv = y_val.to_numpy()\n",
    "\n",
    "    y_pred_e = mdc_euclid_predict(Xv, mu1, mu2)\n",
    "    y_pred_m = mdc_mahal_predict(Xv, mu1, mu2, Cinv)\n",
    "\n",
    "    m_e = metrics_dict(yv, y_pred_e)\n",
    "    m_m = metrics_dict(yv, y_pred_m)\n",
    "\n",
    "    return m_e, m_m\n",
    "\n",
    "results_rows = []\n",
    "# Evaluate 2-feature and 3-feature combos\n",
    "for k in [2,3]:\n",
    "    for feats in combinations(features_all, k):\n",
    "        m_e, m_m = evaluate_mdc_combo(list(feats))\n",
    "        results_rows.append({\n",
    "            \"Features\": list(feats),\n",
    "            \"k\": k,\n",
    "            \"Euclid_Acc\": m_e[\"Accuracy\"],\n",
    "            \"Euclid_F1\":  m_e[\"F1\"],\n",
    "            \"Mahalo_Acc\": m_m[\"Accuracy\"],\n",
    "            \"Mahalo_F1\":  m_m[\"F1\"],\n",
    "        })\n",
    "\n",
    "mdc_val_table = pd.DataFrame(results_rows).sort_values(by=[\"Mahalo_Acc\",\"Euclid_Acc\"], ascending=False)\n",
    "display(mdc_val_table.head(10))\n"
   ]
  },
  {
   "cell_type": "markdown",
   "id": "453ece01",
   "metadata": {},
   "source": [
    "### 7.2 Final evaluation on Test (using best Validation combo)"
   ]
  },
  {
   "cell_type": "code",
   "execution_count": null,
   "id": "7b890514",
   "metadata": {},
   "outputs": [
    {
     "name": "stdout",
     "output_type": "stream",
     "text": [
      "Best feature combo (by Val, preferring Mahalanobis): ['Adiponectin', 'MCP.1']\n",
      "\n",
      "== MDC (Euclidean) — Test ==\n",
      "{'Accuracy': 12.5, 'Sensitivity': 0.25, 'Specificity': 0.75, 'Precision': 0.4583333333333333, 'F1': 0.3235294117647059}\n",
      "\n",
      "== MDC (Mahalanobis) — Test ==\n",
      "{'Accuracy': 12.333333333333334, 'Sensitivity': 0.3333333333333333, 'Specificity': 0.6666666666666666, 'Precision': 0.4583333333333333, 'F1': 0.38596491228070173}\n"
     ]
    }
   ],
   "source": [
    "\n",
    "# Pick best row by Mahalanobis Accuracy first, then Euclidean\n",
    "best_row = mdc_val_table.iloc[0]\n",
    "best_feats = best_row[\"Features\"]\n",
    "print(\"Best feature combo (by Val, preferring Mahalanobis):\", best_feats)\n",
    "\n",
    "# Train stats on train\n",
    "Xh = X_train_s.loc[y_train==1, best_feats].to_numpy()\n",
    "Xc = X_train_s.loc[y_train==2, best_feats].to_numpy()\n",
    "mu1 = Xh.mean(axis=0, keepdims=True).T\n",
    "mu2 = Xc.mean(axis=0, keepdims=True).T\n",
    "C   = np.cov(np.vstack([Xh,Xc]).T)\n",
    "Cinv= np.linalg.pinv(C)\n",
    "\n",
    "# Test predictions\n",
    "Xt = X_test_s[best_feats].to_numpy()\n",
    "yt = y_test.to_numpy()\n",
    "y_pred_e_test = mdc_euclid_predict(Xt, mu1, mu2)\n",
    "y_pred_m_test = mdc_mahal_predict(Xt, mu1, mu2, Cinv)\n",
    "\n",
    "print(\"\\n== MDC (Euclidean) — Test ==\")\n",
    "print(metrics_dict(yt, y_pred_e_test))\n",
    "print(\"\\n== MDC (Mahalanobis) — Test ==\")\n",
    "print(metrics_dict(yt, y_pred_m_test))\n"
   ]
  },
  {
   "cell_type": "markdown",
   "id": "6364a6d5",
   "metadata": {},
   "source": [
    "### 7.3 Fisher LDA — Validation and Test"
   ]
  },
  {
   "cell_type": "code",
   "execution_count": null,
   "id": "eb603f1f",
   "metadata": {},
   "outputs": [
    {
     "name": "stdout",
     "output_type": "stream",
     "text": [
      "LDA (best_feats) — Val: {'Accuracy': 0.6521739130434783, 'Sensitivity': 0.3, 'Specificity': 0.9230769230769231, 'Precision': 0.75, 'F1': 0.4285714285714285}\n",
      "LDA (best_feats) — Test: {'Accuracy': 0.4166666666666667, 'Sensitivity': 0.0, 'Specificity': 0.7692307692307693, 'Precision': 0.0, 'F1': 0.0}\n",
      "\n",
      "LDA (all features) — Val: {'Accuracy': 0.6956521739130435, 'Sensitivity': 1.0, 'Specificity': 0.46153846153846156, 'Precision': 0.5882352941176471, 'F1': 0.7407407407407407}\n",
      "LDA (all features) — Test: {'Accuracy': 0.6666666666666666, 'Sensitivity': 0.8181818181818182, 'Specificity': 0.5384615384615384, 'Precision': 0.6, 'F1': 0.6923076923076923}\n"
     ]
    }
   ],
   "source": [
    "\n",
    "# Evaluate LDA with: (a) best_feats from MDC search; (b) all features\n",
    "def eval_lda(feats):\n",
    "    clf = LinearDiscriminantAnalysis()\n",
    "    clf.fit(X_train_s[feats], y_train)\n",
    "    yv = clf.predict(X_val_s[feats])\n",
    "    mv = metrics_dict(y_val, yv)\n",
    "    yt = clf.predict(X_test_s[feats])\n",
    "    mt = metrics_dict(y_test, yt)\n",
    "    return mv, mt\n",
    "\n",
    "mv_best, mt_best = eval_lda(best_feats)\n",
    "mv_all,  mt_all  = eval_lda(features_all)\n",
    "\n",
    "print(\"LDA (best_feats) — Val:\", mv_best)\n",
    "print(\"LDA (best_feats) — Test:\", mt_best)\n",
    "print(\"\\nLDA (all features) — Val:\", mv_all)\n",
    "print(\"LDA (all features) — Test:\", mt_all)\n"
   ]
  },
  {
   "cell_type": "markdown",
   "id": "7103822f",
   "metadata": {},
   "source": [
    "## 8. Visualizations — MDC on top 2 features"
   ]
  },
  {
   "cell_type": "code",
   "execution_count": null,
   "id": "3b42d59a",
   "metadata": {},
   "outputs": [
    {
     "data": {
      "application/vnd.plotly.v1+json": {
       "config": {
        "plotlyServerURL": "https://plot.ly"
       },
       "data": [
        {
         "marker": {
          "size": 8
         },
         "mode": "markers",
         "name": "Healthy",
         "type": "scatter",
         "x": [
          0.033808317980491776,
          -0.3049820999428949,
          -0.72380321989686,
          -0.7400741233175274,
          -0.05340411576740076,
          -0.2533637963851946,
          -0.3598009046717467,
          -0.46360436185262094,
          0.4985400995258714,
          -0.7435744748932266,
          -0.10718847154816236,
          -0.27726166394204993,
          -0.05745524151275857,
          3.6270841631058435,
          -0.8907709685905015,
          1.8950811270470034,
          -0.7612656487615418,
          -0.967534070058701,
          -0.4115219541722641,
          -0.8172572949328903,
          0.23408602175462417,
          0.0634487751032308,
          -0.6323481475578144,
          -0.7008265710653983,
          -0.7683278596882321,
          1.426783292438681,
          3.90386915191912,
          0.20487402220295212,
          0.03429269171091505,
          -0.3261526568271508,
          2.3214418421381624
         ],
         "y": [
          1.6609568080072847,
          -0.8139557307108698,
          -1.343475354739018,
          0.7274574262300363,
          2.018780697301834,
          1.2574406853452673,
          0.9864331772037251,
          -0.7243774497446278,
          0.0348207387728382,
          -0.45380513281979534,
          -0.40089100076457695,
          -0.9022170604788334,
          -0.2874369350070916,
          0.32440778304213874,
          -0.8856456615994214,
          -0.5815010444731297,
          1.0495558143358763,
          -0.12603219257450687,
          1.1663463460881354,
          0.331183112965029,
          -0.7054821866557274,
          -0.8772632530004465,
          2.0989156133041815,
          0.19993740628912252,
          0.19343229313477717,
          -1.2929391302469968,
          -0.9285447068962447,
          -0.5684965069385138,
          -1.0846020016986724,
          -0.20983921224203134,
          -0.9766717355676577
         ]
        },
        {
         "marker": {
          "size": 8
         },
         "mode": "markers",
         "name": "With Cancer",
         "type": "scatter",
         "x": [
          -0.9474636636097785,
          1.5297563946531154,
          -0.0074661950483000915,
          0.12651661124110833,
          -0.2388989849117331,
          0.020863727089527526,
          1.0828989123979427,
          1.7371179768656884,
          0.2497481379903008,
          -0.4849559473027927,
          1.601521290426861,
          -0.04940331456546338,
          -0.8951226436923991,
          -0.6648815669752457,
          -0.8958020250285772,
          0.07312646438380829,
          -0.8400431298705491,
          -0.5162620070223549,
          -0.6479620361060462,
          -0.8224295396733404,
          0.9165483383131957,
          -0.6468534982468092,
          -0.870511845103752,
          1.5805527306682796,
          -0.746689004969368,
          -0.4777791082494221,
          0.36996788060616853,
          -0.46543771292751307,
          -0.745002433812786,
          -0.537475898930112,
          -0.10674883074522434,
          -0.1332775535997897,
          0.5586849184334028,
          -0.5525096573250231,
          -0.2940365117489153,
          -0.6745424814080162,
          -0.230723343461862,
          -0.23781630827619835
         ],
         "y": [
          0.7700720328231281,
          0.0974939627530932,
          -1.1909962988295357,
          -0.09895931675331829,
          -0.34743359078523073,
          1.1540187726684008,
          -0.9165413935987646,
          -0.580590840621188,
          -0.9095442014869636,
          0.2932702781446235,
          0.6253837530088585,
          -0.5864218340476891,
          -0.34565016011283256,
          3.3571501299708637,
          0.33245455397071,
          -0.26166394406195714,
          3.3571501299708637,
          0.8207646986022016,
          -0.31561912177283385,
          -0.4632314314614658,
          -0.922429274766012,
          0.8013489126854719,
          0.6243540849013497,
          -0.5347677654500023,
          -0.9076811279775204,
          1.489534134429268,
          -0.012822744102230861,
          -0.6401153281511327,
          -0.34756158820191,
          0.7011383129737371,
          -0.45207574550110624,
          -0.8788532653543071,
          -1.2176197614988278,
          0.34159072513457395,
          -0.8529977871850906,
          -0.468186353680473,
          -0.5582083590245364,
          0.15775514652570305
         ]
        },
        {
         "line": {
          "color": "gray",
          "dash": "dash"
         },
         "mode": "lines",
         "name": "Euclid boundary",
         "type": "scatter",
         "x": [
          -1.467534070058701,
          -1.4380295312547924,
          -1.4085249924508836,
          -1.379020453646975,
          -1.3495159148430664,
          -1.3200113760391576,
          -1.290506837235249,
          -1.2610022984313405,
          -1.2314977596274317,
          -1.2019932208235231,
          -1.1724886820196145,
          -1.1429841432157057,
          -1.1134796044117972,
          -1.0839750656078886,
          -1.0544705268039798,
          -1.0249659880000712,
          -0.9954614491961626,
          -0.965956910392254,
          -0.9364523715883453,
          -0.9069478327844367,
          -0.877443293980528,
          -0.8479387551766193,
          -0.8184342163727107,
          -0.7889296775688021,
          -0.7594251387648934,
          -0.7299205999609848,
          -0.7004160611570761,
          -0.6709115223531674,
          -0.6414069835492588,
          -0.6119024447453502,
          -0.5823979059414415,
          -0.5528933671375329,
          -0.5233888283336242,
          -0.4938842895297155,
          -0.46437975072580695,
          -0.4348752119218984,
          -0.4053706731179896,
          -0.375866134314081,
          -0.3463615955101724,
          -0.31685705670626363,
          -0.28735251790235505,
          -0.2578479790984465,
          -0.22834344029453768,
          -0.1988389014906291,
          -0.16933436268672053,
          -0.13982982388281173,
          -0.11032528507890316,
          -0.08082074627499458,
          -0.051316207471085784,
          -0.02181166866717721,
          0.007692870136731367,
          0.037197408940640164,
          0.06670194774454874,
          0.09620648654845732,
          0.1257110253523661,
          0.1552155641562747,
          0.18472010296018326,
          0.21422464176409206,
          0.24372918056800064,
          0.2732337193719092,
          0.302738258175818,
          0.3322427969797266,
          0.36174733578363516,
          0.39125187458754396,
          0.42075641339145253,
          0.4502609521953611,
          0.4797654909992699,
          0.5092700298031785,
          0.5387745686070871,
          0.5682791074109959,
          0.5977836462149042,
          0.627288185018813,
          0.6567927238227218,
          0.6862972626266302,
          0.715801801430539,
          0.7453063402344478,
          0.7748108790383561,
          0.8043154178422649,
          0.8338199566461737,
          0.863324495450082,
          0.8928290342539908,
          0.9223335730578996,
          0.951838111861808,
          0.9813426506657168,
          1.0108471894696256,
          1.040351728273534,
          1.0698562670774427,
          1.0993608058813515,
          1.12886534468526,
          1.1583698834891687,
          1.1878744222930775,
          1.2173789610969858,
          1.2468834999008946,
          1.2763880387048034,
          1.3058925775087118,
          1.3353971163126206,
          1.3649016551165294,
          1.3944061939204377,
          1.4239107327243465,
          1.4534152715282553,
          1.4829198103321637,
          1.5124243491360725,
          1.5419288879399813,
          1.5714334267438896,
          1.6009379655477984,
          1.6304425043517072,
          1.6599470431556156,
          1.6894515819595244,
          1.7189561207634332,
          1.7484606595673415,
          1.7779651983712503,
          1.8074697371751591,
          1.8369742759790675,
          1.8664788147829763,
          1.895983353586885,
          1.9254878923907934,
          1.9549924311947022,
          1.984496969998611,
          2.0140015088025196,
          2.043506047606428,
          2.073010586410337,
          2.1025151252142456,
          2.132019664018154,
          2.161524202822063,
          2.1910287416259715,
          2.22053328042988,
          2.250037819233789,
          2.2795423580376974,
          2.309046896841606,
          2.338551435645515,
          2.3680559744494234,
          2.3975605132533317,
          2.427065052057241,
          2.4565695908611493,
          2.4860741296650577,
          2.515578668468967,
          2.5450832072728753,
          2.5745877460767836,
          2.604092284880693,
          2.6335968236846012,
          2.6631013624885096,
          2.692605901292419,
          2.722110440096327,
          2.7516149789002355,
          2.781119517704145,
          2.810624056508053,
          2.8401285953119615,
          2.8696331341158707,
          2.899137672919779,
          2.9286422117236874,
          2.9581467505275967,
          2.987651289331505,
          3.0171558281354134,
          3.0466603669393226,
          3.076164905743231,
          3.1056694445471393,
          3.1351739833510486,
          3.164678522154957,
          3.1941830609588653,
          3.2236875997627745,
          3.253192138566683,
          3.2826966773705912,
          3.3122012161745005,
          3.341705754978409,
          3.371210293782317,
          3.4007148325862264,
          3.4302193713901348,
          3.459723910194043,
          3.4892284489979524,
          3.5187329878018607,
          3.548237526605769,
          3.5777420654096783,
          3.6072466042135867,
          3.636751143017495,
          3.6662556818214043,
          3.6957602206253126,
          3.725264759429221,
          3.75476929823313,
          3.7842738370370386,
          3.813778375840947,
          3.843282914644856,
          3.8727874534487645,
          3.902291992252673,
          3.931796531056582,
          3.9613010698604905,
          3.990805608664399,
          4.020310147468308,
          4.049814686272216,
          4.079319225076125,
          4.108823763880034,
          4.138328302683942,
          4.167832841487851,
          4.19733738029176,
          4.226841919095668,
          4.256346457899577,
          4.285850996703486,
          4.315355535507394,
          4.344860074311303,
          4.374364613115212,
          4.40386915191912
         ],
         "y": [
          -5.160810975778618,
          -5.057928964569308,
          -4.955046953359999,
          -4.852164942150691,
          -4.749282930941383,
          -4.6464009197320735,
          -4.543518908522764,
          -4.440636897313456,
          -4.337754886104147,
          -4.2348728748948385,
          -4.13199086368553,
          -4.029108852476221,
          -3.9262268412669123,
          -3.823344830057604,
          -3.7204628188482944,
          -3.617580807638986,
          -3.5146987964296774,
          -3.4118167852203687,
          -3.30893477401106,
          -3.206052762801751,
          -3.1031707515924425,
          -3.0002887403831333,
          -2.897406729173825,
          -2.794524717964516,
          -2.691642706755207,
          -2.5887606955458984,
          -2.4858786843365897,
          -2.382996673127281,
          -2.280114661917972,
          -2.1772326507086635,
          -2.0743506394993543,
          -1.971468628290046,
          -1.868586617080737,
          -1.765704605871428,
          -1.6628225946621196,
          -1.559940583452811,
          -1.4570585722435017,
          -1.3541765610341931,
          -1.2512945498248846,
          -1.1484125386155755,
          -1.045530527406267,
          -0.9426485161969583,
          -0.839766504987649,
          -0.7368844937783405,
          -0.634002482569032,
          -0.5311204713597227,
          -0.42823846015041417,
          -0.32535644894110566,
          -0.22247443773179637,
          -0.11959242652248783,
          -0.016710415313179322,
          0.08617159589612997,
          0.18905360710543848,
          0.291935618314747,
          0.39481762952405636,
          0.49769964073336487,
          0.6005816519426733,
          0.7034636631519826,
          0.8063456743612911,
          0.9092276855705996,
          1.012109696779909,
          1.1149917079892175,
          1.217873719198526,
          1.3207557304078352,
          1.4236377416171437,
          1.5265197528264522,
          1.6294017640357616,
          1.7322837752450702,
          1.8351657864543787,
          1.938047797663688,
          2.040929808872996,
          2.143811820082305,
          2.2466938312916143,
          2.349575842500922,
          2.4524578537102313,
          2.5553398649195405,
          2.6582218761288483,
          2.7611038873381575,
          2.863985898547467,
          2.966867909756775,
          3.069749920966084,
          3.1726319321753933,
          3.275513943384701,
          3.3783959545940103,
          3.4812779658033195,
          3.5841599770126273,
          3.6870419882219365,
          3.789923999431246,
          3.8928060106405535,
          3.995688021849863,
          4.098570033059173,
          4.20145204426848,
          4.30433405547779,
          4.407216066687099,
          4.510098077896407,
          4.612980089105716,
          4.715862100315025,
          4.8187441115243335,
          4.921626122733643,
          5.024508133942952,
          5.127390145152259,
          5.230272156361569,
          5.3331541675708785,
          5.436036178780186,
          5.538918189989495,
          5.641800201198804,
          5.7446822124081125,
          5.847564223617422,
          5.950446234826731,
          6.053328246036038,
          6.156210257245347,
          6.2590922684546575,
          6.361974279663965,
          6.464856290873274,
          6.567738302082583,
          6.6706203132918915,
          6.773502324501201,
          6.87638433571051,
          6.979266346919818,
          7.0821483581291265,
          7.1850303693384365,
          7.287912380547745,
          7.390794391757052,
          7.493676402966363,
          7.5965584141756715,
          7.699440425384979,
          7.80232243659429,
          7.905204447803597,
          8.008086459012905,
          8.110968470222215,
          8.213850481431523,
          8.316732492640831,
          8.419614503850141,
          8.52249651505945,
          8.625378526268756,
          8.728260537478068,
          8.831142548687376,
          8.934024559896683,
          9.036906571105995,
          9.139788582315301,
          9.24267059352461,
          9.345552604733921,
          9.448434615943228,
          9.551316627152536,
          9.654198638361846,
          9.757080649571154,
          9.859962660780463,
          9.962844671989773,
          10.065726683199081,
          10.16860869440839,
          10.2714907056177,
          10.374372716827008,
          10.477254728036314,
          10.580136739245626,
          10.683018750454934,
          10.78590076166424,
          10.888782772873553,
          10.99166478408286,
          11.094546795292167,
          11.19742880650148,
          11.300310817710786,
          11.403192828920094,
          11.506074840129404,
          11.608956851338712,
          11.71183886254802,
          11.81472087375733,
          11.917602884966639,
          12.020484896175947,
          12.123366907385257,
          12.226248918594566,
          12.329130929803872,
          12.432012941013184,
          12.534894952222492,
          12.637776963431799,
          12.74065897464111,
          12.843540985850417,
          12.946422997059726,
          13.049305008269036,
          13.152187019478344,
          13.255069030687652,
          13.357951041896962,
          13.46083305310627,
          13.563715064315579,
          13.666597075524889,
          13.769479086734197,
          13.872361097943505,
          13.975243109152816,
          14.078125120362124,
          14.18100713157143,
          14.283889142780742,
          14.386771153990049,
          14.489653165199357,
          14.592535176408669,
          14.695417187617975,
          14.798299198827284,
          14.901181210036594,
          15.004063221245902,
          15.10694523245521,
          15.20982724366452,
          15.312709254873829
         ]
        }
       ],
       "layout": {
        "height": 700,
        "template": {
         "data": {
          "bar": [
           {
            "error_x": {
             "color": "#2a3f5f"
            },
            "error_y": {
             "color": "#2a3f5f"
            },
            "marker": {
             "line": {
              "color": "#E5ECF6",
              "width": 0.5
             },
             "pattern": {
              "fillmode": "overlay",
              "size": 10,
              "solidity": 0.2
             }
            },
            "type": "bar"
           }
          ],
          "barpolar": [
           {
            "marker": {
             "line": {
              "color": "#E5ECF6",
              "width": 0.5
             },
             "pattern": {
              "fillmode": "overlay",
              "size": 10,
              "solidity": 0.2
             }
            },
            "type": "barpolar"
           }
          ],
          "carpet": [
           {
            "aaxis": {
             "endlinecolor": "#2a3f5f",
             "gridcolor": "white",
             "linecolor": "white",
             "minorgridcolor": "white",
             "startlinecolor": "#2a3f5f"
            },
            "baxis": {
             "endlinecolor": "#2a3f5f",
             "gridcolor": "white",
             "linecolor": "white",
             "minorgridcolor": "white",
             "startlinecolor": "#2a3f5f"
            },
            "type": "carpet"
           }
          ],
          "choropleth": [
           {
            "colorbar": {
             "outlinewidth": 0,
             "ticks": ""
            },
            "type": "choropleth"
           }
          ],
          "contour": [
           {
            "colorbar": {
             "outlinewidth": 0,
             "ticks": ""
            },
            "colorscale": [
             [
              0,
              "#0d0887"
             ],
             [
              0.1111111111111111,
              "#46039f"
             ],
             [
              0.2222222222222222,
              "#7201a8"
             ],
             [
              0.3333333333333333,
              "#9c179e"
             ],
             [
              0.4444444444444444,
              "#bd3786"
             ],
             [
              0.5555555555555556,
              "#d8576b"
             ],
             [
              0.6666666666666666,
              "#ed7953"
             ],
             [
              0.7777777777777778,
              "#fb9f3a"
             ],
             [
              0.8888888888888888,
              "#fdca26"
             ],
             [
              1,
              "#f0f921"
             ]
            ],
            "type": "contour"
           }
          ],
          "contourcarpet": [
           {
            "colorbar": {
             "outlinewidth": 0,
             "ticks": ""
            },
            "type": "contourcarpet"
           }
          ],
          "heatmap": [
           {
            "colorbar": {
             "outlinewidth": 0,
             "ticks": ""
            },
            "colorscale": [
             [
              0,
              "#0d0887"
             ],
             [
              0.1111111111111111,
              "#46039f"
             ],
             [
              0.2222222222222222,
              "#7201a8"
             ],
             [
              0.3333333333333333,
              "#9c179e"
             ],
             [
              0.4444444444444444,
              "#bd3786"
             ],
             [
              0.5555555555555556,
              "#d8576b"
             ],
             [
              0.6666666666666666,
              "#ed7953"
             ],
             [
              0.7777777777777778,
              "#fb9f3a"
             ],
             [
              0.8888888888888888,
              "#fdca26"
             ],
             [
              1,
              "#f0f921"
             ]
            ],
            "type": "heatmap"
           }
          ],
          "heatmapgl": [
           {
            "colorbar": {
             "outlinewidth": 0,
             "ticks": ""
            },
            "colorscale": [
             [
              0,
              "#0d0887"
             ],
             [
              0.1111111111111111,
              "#46039f"
             ],
             [
              0.2222222222222222,
              "#7201a8"
             ],
             [
              0.3333333333333333,
              "#9c179e"
             ],
             [
              0.4444444444444444,
              "#bd3786"
             ],
             [
              0.5555555555555556,
              "#d8576b"
             ],
             [
              0.6666666666666666,
              "#ed7953"
             ],
             [
              0.7777777777777778,
              "#fb9f3a"
             ],
             [
              0.8888888888888888,
              "#fdca26"
             ],
             [
              1,
              "#f0f921"
             ]
            ],
            "type": "heatmapgl"
           }
          ],
          "histogram": [
           {
            "marker": {
             "pattern": {
              "fillmode": "overlay",
              "size": 10,
              "solidity": 0.2
             }
            },
            "type": "histogram"
           }
          ],
          "histogram2d": [
           {
            "colorbar": {
             "outlinewidth": 0,
             "ticks": ""
            },
            "colorscale": [
             [
              0,
              "#0d0887"
             ],
             [
              0.1111111111111111,
              "#46039f"
             ],
             [
              0.2222222222222222,
              "#7201a8"
             ],
             [
              0.3333333333333333,
              "#9c179e"
             ],
             [
              0.4444444444444444,
              "#bd3786"
             ],
             [
              0.5555555555555556,
              "#d8576b"
             ],
             [
              0.6666666666666666,
              "#ed7953"
             ],
             [
              0.7777777777777778,
              "#fb9f3a"
             ],
             [
              0.8888888888888888,
              "#fdca26"
             ],
             [
              1,
              "#f0f921"
             ]
            ],
            "type": "histogram2d"
           }
          ],
          "histogram2dcontour": [
           {
            "colorbar": {
             "outlinewidth": 0,
             "ticks": ""
            },
            "colorscale": [
             [
              0,
              "#0d0887"
             ],
             [
              0.1111111111111111,
              "#46039f"
             ],
             [
              0.2222222222222222,
              "#7201a8"
             ],
             [
              0.3333333333333333,
              "#9c179e"
             ],
             [
              0.4444444444444444,
              "#bd3786"
             ],
             [
              0.5555555555555556,
              "#d8576b"
             ],
             [
              0.6666666666666666,
              "#ed7953"
             ],
             [
              0.7777777777777778,
              "#fb9f3a"
             ],
             [
              0.8888888888888888,
              "#fdca26"
             ],
             [
              1,
              "#f0f921"
             ]
            ],
            "type": "histogram2dcontour"
           }
          ],
          "mesh3d": [
           {
            "colorbar": {
             "outlinewidth": 0,
             "ticks": ""
            },
            "type": "mesh3d"
           }
          ],
          "parcoords": [
           {
            "line": {
             "colorbar": {
              "outlinewidth": 0,
              "ticks": ""
             }
            },
            "type": "parcoords"
           }
          ],
          "pie": [
           {
            "automargin": true,
            "type": "pie"
           }
          ],
          "scatter": [
           {
            "fillpattern": {
             "fillmode": "overlay",
             "size": 10,
             "solidity": 0.2
            },
            "type": "scatter"
           }
          ],
          "scatter3d": [
           {
            "line": {
             "colorbar": {
              "outlinewidth": 0,
              "ticks": ""
             }
            },
            "marker": {
             "colorbar": {
              "outlinewidth": 0,
              "ticks": ""
             }
            },
            "type": "scatter3d"
           }
          ],
          "scattercarpet": [
           {
            "marker": {
             "colorbar": {
              "outlinewidth": 0,
              "ticks": ""
             }
            },
            "type": "scattercarpet"
           }
          ],
          "scattergeo": [
           {
            "marker": {
             "colorbar": {
              "outlinewidth": 0,
              "ticks": ""
             }
            },
            "type": "scattergeo"
           }
          ],
          "scattergl": [
           {
            "marker": {
             "colorbar": {
              "outlinewidth": 0,
              "ticks": ""
             }
            },
            "type": "scattergl"
           }
          ],
          "scattermapbox": [
           {
            "marker": {
             "colorbar": {
              "outlinewidth": 0,
              "ticks": ""
             }
            },
            "type": "scattermapbox"
           }
          ],
          "scatterpolar": [
           {
            "marker": {
             "colorbar": {
              "outlinewidth": 0,
              "ticks": ""
             }
            },
            "type": "scatterpolar"
           }
          ],
          "scatterpolargl": [
           {
            "marker": {
             "colorbar": {
              "outlinewidth": 0,
              "ticks": ""
             }
            },
            "type": "scatterpolargl"
           }
          ],
          "scatterternary": [
           {
            "marker": {
             "colorbar": {
              "outlinewidth": 0,
              "ticks": ""
             }
            },
            "type": "scatterternary"
           }
          ],
          "surface": [
           {
            "colorbar": {
             "outlinewidth": 0,
             "ticks": ""
            },
            "colorscale": [
             [
              0,
              "#0d0887"
             ],
             [
              0.1111111111111111,
              "#46039f"
             ],
             [
              0.2222222222222222,
              "#7201a8"
             ],
             [
              0.3333333333333333,
              "#9c179e"
             ],
             [
              0.4444444444444444,
              "#bd3786"
             ],
             [
              0.5555555555555556,
              "#d8576b"
             ],
             [
              0.6666666666666666,
              "#ed7953"
             ],
             [
              0.7777777777777778,
              "#fb9f3a"
             ],
             [
              0.8888888888888888,
              "#fdca26"
             ],
             [
              1,
              "#f0f921"
             ]
            ],
            "type": "surface"
           }
          ],
          "table": [
           {
            "cells": {
             "fill": {
              "color": "#EBF0F8"
             },
             "line": {
              "color": "white"
             }
            },
            "header": {
             "fill": {
              "color": "#C8D4E3"
             },
             "line": {
              "color": "white"
             }
            },
            "type": "table"
           }
          ]
         },
         "layout": {
          "annotationdefaults": {
           "arrowcolor": "#2a3f5f",
           "arrowhead": 0,
           "arrowwidth": 1
          },
          "autotypenumbers": "strict",
          "coloraxis": {
           "colorbar": {
            "outlinewidth": 0,
            "ticks": ""
           }
          },
          "colorscale": {
           "diverging": [
            [
             0,
             "#8e0152"
            ],
            [
             0.1,
             "#c51b7d"
            ],
            [
             0.2,
             "#de77ae"
            ],
            [
             0.3,
             "#f1b6da"
            ],
            [
             0.4,
             "#fde0ef"
            ],
            [
             0.5,
             "#f7f7f7"
            ],
            [
             0.6,
             "#e6f5d0"
            ],
            [
             0.7,
             "#b8e186"
            ],
            [
             0.8,
             "#7fbc41"
            ],
            [
             0.9,
             "#4d9221"
            ],
            [
             1,
             "#276419"
            ]
           ],
           "sequential": [
            [
             0,
             "#0d0887"
            ],
            [
             0.1111111111111111,
             "#46039f"
            ],
            [
             0.2222222222222222,
             "#7201a8"
            ],
            [
             0.3333333333333333,
             "#9c179e"
            ],
            [
             0.4444444444444444,
             "#bd3786"
            ],
            [
             0.5555555555555556,
             "#d8576b"
            ],
            [
             0.6666666666666666,
             "#ed7953"
            ],
            [
             0.7777777777777778,
             "#fb9f3a"
            ],
            [
             0.8888888888888888,
             "#fdca26"
            ],
            [
             1,
             "#f0f921"
            ]
           ],
           "sequentialminus": [
            [
             0,
             "#0d0887"
            ],
            [
             0.1111111111111111,
             "#46039f"
            ],
            [
             0.2222222222222222,
             "#7201a8"
            ],
            [
             0.3333333333333333,
             "#9c179e"
            ],
            [
             0.4444444444444444,
             "#bd3786"
            ],
            [
             0.5555555555555556,
             "#d8576b"
            ],
            [
             0.6666666666666666,
             "#ed7953"
            ],
            [
             0.7777777777777778,
             "#fb9f3a"
            ],
            [
             0.8888888888888888,
             "#fdca26"
            ],
            [
             1,
             "#f0f921"
            ]
           ]
          },
          "colorway": [
           "#636efa",
           "#EF553B",
           "#00cc96",
           "#ab63fa",
           "#FFA15A",
           "#19d3f3",
           "#FF6692",
           "#B6E880",
           "#FF97FF",
           "#FECB52"
          ],
          "font": {
           "color": "#2a3f5f"
          },
          "geo": {
           "bgcolor": "white",
           "lakecolor": "white",
           "landcolor": "#E5ECF6",
           "showlakes": true,
           "showland": true,
           "subunitcolor": "white"
          },
          "hoverlabel": {
           "align": "left"
          },
          "hovermode": "closest",
          "mapbox": {
           "style": "light"
          },
          "paper_bgcolor": "white",
          "plot_bgcolor": "#E5ECF6",
          "polar": {
           "angularaxis": {
            "gridcolor": "white",
            "linecolor": "white",
            "ticks": ""
           },
           "bgcolor": "#E5ECF6",
           "radialaxis": {
            "gridcolor": "white",
            "linecolor": "white",
            "ticks": ""
           }
          },
          "scene": {
           "xaxis": {
            "backgroundcolor": "#E5ECF6",
            "gridcolor": "white",
            "gridwidth": 2,
            "linecolor": "white",
            "showbackground": true,
            "ticks": "",
            "zerolinecolor": "white"
           },
           "yaxis": {
            "backgroundcolor": "#E5ECF6",
            "gridcolor": "white",
            "gridwidth": 2,
            "linecolor": "white",
            "showbackground": true,
            "ticks": "",
            "zerolinecolor": "white"
           },
           "zaxis": {
            "backgroundcolor": "#E5ECF6",
            "gridcolor": "white",
            "gridwidth": 2,
            "linecolor": "white",
            "showbackground": true,
            "ticks": "",
            "zerolinecolor": "white"
           }
          },
          "shapedefaults": {
           "line": {
            "color": "#2a3f5f"
           }
          },
          "ternary": {
           "aaxis": {
            "gridcolor": "white",
            "linecolor": "white",
            "ticks": ""
           },
           "baxis": {
            "gridcolor": "white",
            "linecolor": "white",
            "ticks": ""
           },
           "bgcolor": "#E5ECF6",
           "caxis": {
            "gridcolor": "white",
            "linecolor": "white",
            "ticks": ""
           }
          },
          "title": {
           "x": 0.05
          },
          "xaxis": {
           "automargin": true,
           "gridcolor": "white",
           "linecolor": "white",
           "ticks": "",
           "title": {
            "standoff": 15
           },
           "zerolinecolor": "white",
           "zerolinewidth": 2
          },
          "yaxis": {
           "automargin": true,
           "gridcolor": "white",
           "linecolor": "white",
           "ticks": "",
           "title": {
            "standoff": 15
           },
           "zerolinecolor": "white",
           "zerolinewidth": 2
          }
         }
        },
        "title": {
         "text": "MDC (Euclidean) — Decision boundary on [Adiponectin, MCP.1]"
        },
        "width": 900,
        "xaxis": {
         "title": {
          "text": "Adiponectin"
         }
        },
        "yaxis": {
         "title": {
          "text": "MCP.1"
         }
        }
       }
      }
     },
     "metadata": {},
     "output_type": "display_data"
    }
   ],
   "source": [
    "\n",
    "# If best_feats has 2+, plot first two\n",
    "if len(best_feats) >= 2:\n",
    "    f1, f2 = best_feats[:2]\n",
    "    Xh2 = X_train_s.loc[y_train==1, [f1,f2]].to_numpy()\n",
    "    Xc2 = X_train_s.loc[y_train==2, [f1,f2]].to_numpy()\n",
    "    mu1_2 = Xh2.mean(axis=0, keepdims=True).T\n",
    "    mu2_2 = Xc2.mean(axis=0, keepdims=True).T\n",
    "    C2 = np.cov(np.vstack([Xh2,Xc2]).T)\n",
    "    C2i = np.linalg.pinv(C2)\n",
    "\n",
    "    # grid\n",
    "    Xplot = X_train_s[[f1,f2]].to_numpy()\n",
    "    x_min, x_max = Xplot[:,0].min()-0.5, Xplot[:,0].max()+0.5\n",
    "    y_min, y_max = Xplot[:,1].min()-0.5, Xplot[:,1].max()+0.5\n",
    "\n",
    "    # scatter points\n",
    "    fig = go.Figure()\n",
    "    fig.add_trace(go.Scatter(x=X_train_s.loc[y_train==1, f1], y=X_train_s.loc[y_train==1, f2],\n",
    "                             mode=\"markers\", name=\"Healthy\", marker=dict(size=8)))\n",
    "    fig.add_trace(go.Scatter(x=X_train_s.loc[y_train==2, f1], y=X_train_s.loc[y_train==2, f2],\n",
    "                             mode=\"markers\", name=\"With Cancer\", marker=dict(size=8)))\n",
    "\n",
    "    # Euclidean boundary: (w^T x + b = 0). For two means, line between means perpendicular bisector.\n",
    "    W = (mu1_2 - mu2_2)\n",
    "    b = -0.5 * (mu1_2 - mu2_2).T @ (mu1_2 + mu2_2)\n",
    "    xx = np.linspace(x_min, x_max, 200)\n",
    "    yy = -(W[0,0]/W[1,0])*xx - b[0,0]/W[1,0]\n",
    "\n",
    "    fig.add_trace(go.Scatter(x=xx, y=yy, mode=\"lines\",\n",
    "                             line=dict(color=\"gray\", dash=\"dash\"), name=\"Euclid boundary\"))\n",
    "\n",
    "    fig.update_layout(title=f\"MDC (Euclidean) — Decision boundary on [{f1}, {f2}]\",\n",
    "                      xaxis_title=f1, yaxis_title=f2,\n",
    "                      width=900, height=700)\n",
    "    fig.show()\n",
    "else:\n",
    "    print(\"Best combo has <2 features — skipping 2D boundary plot.\")\n"
   ]
  },
  {
   "cell_type": "markdown",
   "id": "27387a5f",
   "metadata": {},
   "source": [
    "\n",
    "## 9. Summary & Notes\n",
    "\n",
    "- **No leakage**: all selection/fit steps use only the training set; validation/test are transformed with the same fitted objects.\n",
    "- **Feature selection**: use `ranking` (Kruskal/ROC-AUC) to justify chosen sets; avoid pairs with very high correlation.\n",
    "- **Dimensionality reduction**: PCA (variance/scree + plots) and LDA (1D projection) are included for analysis and potential pipelines.\n",
    "- **Classifiers**: both **MDC Euclidean** and **MDC Mahalanobis** are implemented and compared, with **Fisher LDA** as well.\n",
    "- **Model choice**: select on validation (`mdc_val_table`, `LDA` val metrics), then report **final test** only once with the chosen model.\n",
    "\n",
    "**Ideas to try next**\n",
    "- Balance classes via class-weight (for LDA) or stratified resampling.\n",
    "- Nested evaluation with repeated CV on **train** to reduce variance of selection (then still keep a final untouched test).\n",
    "- Try MDC only com 2–3 features que maximizem *Specificity* caso o objetivo seja reduzir falsos positivos (ou outra métrica clínica relevante).\n"
   ]
  }
 ],
 "metadata": {
  "kernelspec": {
   "display_name": "base",
   "language": "python",
   "name": "python3"
  },
  "language_info": {
   "codemirror_mode": {
    "name": "ipython",
    "version": 3
   },
   "file_extension": ".py",
   "mimetype": "text/x-python",
   "name": "python",
   "nbconvert_exporter": "python",
   "pygments_lexer": "ipython3",
   "version": "3.10.13"
  }
 },
 "nbformat": 4,
 "nbformat_minor": 5
}
